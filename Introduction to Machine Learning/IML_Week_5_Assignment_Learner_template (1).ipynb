{
  "nbformat": 4,
  "nbformat_minor": 0,
  "metadata": {
    "colab": {
      "provenance": []
    },
    "kernelspec": {
      "name": "python3",
      "display_name": "Python 3"
    },
    "language_info": {
      "name": "python"
    }
  },
  "cells": [
    {
      "cell_type": "markdown",
      "source": [
        "# Week5 : Tree Based Methods"
      ],
      "metadata": {
        "id": "HGf4aDLnYkLz"
      }
    },
    {
      "cell_type": "markdown",
      "source": [
        "### Objectives\n",
        "This homework sheet will help reviewing the basic concepts associated with tree-based methods and provide a basic introduction to the ML workflow using real-world datasets. Please review the lectures, suggested readings, and additional resources _before_ getting started on the HW."
      ],
      "metadata": {
        "id": "Rg9qh3CJYv8L"
      }
    },
    {
      "cell_type": "markdown",
      "source": [
        "**Some questions in this assignment will require you to conduct independent research beyond the material covered in the recorded content.**"
      ],
      "metadata": {
        "id": "3JRnBhvId8KB"
      }
    },
    {
      "cell_type": "markdown",
      "source": [
        "The following website has access to the relevant datasets from the recommended textbook: https://book.huihoo.com/introduction-to-statistical-learning/data.html"
      ],
      "metadata": {
        "id": "vMr0kAaPY3e7"
      }
    },
    {
      "cell_type": "markdown",
      "source": [
        "Marks Distribution\n",
        "\n",
        "| Question      | Marks |\n",
        "| ----------- | ----------- |\n",
        "| 1     | 3      |\n",
        "| 2     | 3     |\n",
        "| 3a     | 2     |\n",
        "| 3b     | 2     |\n",
        "| 3c     | 5     |"
      ],
      "metadata": {
        "id": "ptl1KEbre7T-"
      }
    },
    {
      "cell_type": "markdown",
      "source": [
        "# Questions"
      ],
      "metadata": {
        "id": "PFibrSZ6Y8UO"
      }
    },
    {
      "cell_type": "markdown",
      "source": [
        "Conceptual"
      ],
      "metadata": {
        "id": "yOFIRzFgZF3J"
      }
    },
    {
      "cell_type": "markdown",
      "source": [
        "\n",
        "Q1. Draw an example (of your own invention) of a partition of two-dimensional feature space that could result from recursive binary splitting. Your example should contain at least six regions. Draw a decision tree corresponding to this partition. Be sure to label all aspects of your figures, including the regions $R_1$, $R_2$, ... , the cutpoints $t_1$ , $t_2$, ..., and so forth. Please insert your sketch below.\n",
        "\n",
        "\n",
        "**Please note: You can use Microsoft word / any editor or draw the image by hand, you can upload the image / screenshot  to colab file using insert image option in text cell**\n"
      ],
      "metadata": {
        "id": "M7NFhqnOZLN-"
      }
    },
    {
      "cell_type": "markdown",
      "source": [
        "ANSWER in the markdown cell"
      ],
      "metadata": {
        "id": "sq9Yl99RZRgU"
      }
    },
    {
      "cell_type": "markdown",
      "source": [
        "Q2. Suppose we produce ten bootstrapped samples from a data set containing red and green classes. We then apply a classification tree to each bootstrapped sample and, for a specific value of $X$, produce $10$ estimates of $P(Class is Red|X)$:\n",
        "\n",
        "$0.1$, $0.15$, $0.2$, $0.2$, $0.55$, $0.6$, $0.6$, $0.65$, $0.7$, and $0.75$.\n",
        "\n",
        "There are two common ways to combine these results together into a single class prediction. One is the majority vote approach , the second approach is to classify based on the average probability. In this example, what is the final classification under each of these two approaches?"
      ],
      "metadata": {
        "id": "7gyVbYHcISIk"
      }
    },
    {
      "cell_type": "markdown",
      "source": [
        "ANSWER in the markdown cell"
      ],
      "metadata": {
        "id": "p3mOPPOpLqIk"
      }
    },
    {
      "cell_type": "markdown",
      "source": [
        "# APPLIED"
      ],
      "metadata": {
        "id": "-7jB13Owh2MM"
      }
    },
    {
      "cell_type": "markdown",
      "source": [
        "Q3. Apply boosting and random forest to a data set of your choice. Feel free to use any of the datasets from ISLR dataset link provided ( https://book.huihoo.com/introduction-to-statistical-learning/data.html ) to examine any of the questions that were discussed in any of the previous homeworks. Be sure to fit the models on a training set and to evaluate their performance on a test set. How accurate are the results compared to simple methods (e.g. linear or logistic regression models)? Which of these approaches yields the best performance?"
      ],
      "metadata": {
        "id": "a1HPI5Kkic4h"
      }
    },
    {
      "cell_type": "markdown",
      "source": [
        "#### ANSWER\n",
        "\n"
      ],
      "metadata": {
        "id": "YOaiqXd055F1"
      }
    },
    {
      "cell_type": "code",
      "source": [
        "# import libraries"
      ],
      "metadata": {
        "id": "AXDseudIicUH"
      },
      "execution_count": null,
      "outputs": []
    },
    {
      "cell_type": "markdown",
      "source": [
        "####a) Read the dataset using function read_csv( ) from pandas library and preprocess the data if required ( check for any missing values etc )\n",
        "\n"
      ],
      "metadata": {
        "id": "oIMIdGczLM3M"
      }
    },
    {
      "cell_type": "markdown",
      "source": [
        "#### b) Split the data into train data  and test data ( proportion of train and test data of your choice )\n",
        "\n",
        "Reference :\n",
        "\n",
        "https://scikit-learn.org/stable/modules/generated/sklearn.model_selection.train_test_split.html\n",
        "\n"
      ],
      "metadata": {
        "id": "gDpwNwJNoSY-"
      }
    },
    {
      "cell_type": "markdown",
      "source": [
        "####c) Train the data on the below models\n",
        "\n",
        "i) Linear regression model\n",
        "ii) Gradient boosting model\n",
        "iii) Random forest model\n",
        "\n",
        "check the train and test r2 score and mention your findings on which model performed better in terms of underfitting / overfitting etc\n",
        "\n",
        "References:\n",
        "\n",
        "https://scikit-learn.org/stable/modules/generated/sklearn.linear_model.LinearRegression.html\n",
        "\n",
        "https://scikit-learn.org/stable/auto_examples/ensemble/plot_gradient_boosting_regression.html#gradient-boosting-regression\n",
        "\n",
        "https://scikit-learn.org/stable/modules/generated/sklearn.ensemble.RandomForestRegressor.html\n",
        "\n",
        "https://scikit-learn.org/stable/modules/generated/sklearn.metrics.r2_score.html"
      ],
      "metadata": {
        "id": "PvKCo1fzVwnX"
      }
    }
  ]
}