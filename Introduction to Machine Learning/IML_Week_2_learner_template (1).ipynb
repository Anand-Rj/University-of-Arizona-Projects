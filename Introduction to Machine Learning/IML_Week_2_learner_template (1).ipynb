{
 "cells": [
  {
   "cell_type": "markdown",
   "metadata": {
    "id": "RztTuHNRd1-a"
   },
   "source": [
    "# WEEK2: Resampling Methods"
   ]
  },
  {
   "cell_type": "markdown",
   "metadata": {
    "id": "G4ZhCI5PJtrO"
   },
   "source": [
    "# Objective"
   ]
  },
  {
   "cell_type": "markdown",
   "metadata": {
    "id": "3a2z43jfJwUY"
   },
   "source": [
    "This homework sheet will help reviewing the basic concepts associated with model selection and regularization. Please review the lectures, suggested readings, and additional resources _before_ getting started on the HW."
   ]
  },
  {
   "cell_type": "markdown",
   "metadata": {
    "id": "iwhWEDxUeICJ"
   },
   "source": [
    "**Some questions in this assignment will require you to conduct independent research beyond the material covered in the recorded content.**"
   ]
  },
  {
   "cell_type": "markdown",
   "metadata": {
    "id": "UrLG-psXJ7Rw"
   },
   "source": [
    "**Questions**\n",
    "\n",
    " This homework is divided into two main parts. First, a conceptual component will review the basic concepts related to resampling. The second part of the homework is mostly intended to be a brief introduction to regularization methods and resampling in python . Several of these questions are modified from James et al. (2021)."
   ]
  },
  {
   "cell_type": "markdown",
   "metadata": {
    "id": "PmqLj5qMeQdT"
   },
   "source": [
    "Marks Distribution"
   ]
  },
  {
   "cell_type": "markdown",
   "metadata": {
    "id": "TyEe9srieW8r"
   },
   "source": [
    "| Question      | Marks |\n",
    "| ----------- | ----------- |\n",
    "| Q1a    | 1     |\n",
    "| Q1b    | 0.50      |\n",
    "| Q1c   | 1      |\n",
    "| Q1d     | 0.50      |\n",
    "| Q1e     | 0.50     |\n",
    "| Q1f    | 0.50    |\n",
    "| Q2a    | 1     |\n",
    "| Q2b    | 1      |\n",
    "| Q2c   | 1      |\n",
    "| Q2d     | 1      |\n",
    "| Q3a   | 1    |\n",
    "| Q3b     | 1      |\n",
    "| Q4     | 1      |\n",
    "| Q5a    | 1    |\n",
    "| Q5b    | 1     |\n",
    "| Q5c   | 1     |\n",
    "| Q5d     | 1      |"
   ]
  },
  {
   "cell_type": "markdown",
   "metadata": {
    "id": "HSAHcEeQJ9Fs"
   },
   "source": [
    "# Conceptual"
   ]
  },
  {
   "cell_type": "markdown",
   "metadata": {
    "id": "dhRS_zVwKM8m"
   },
   "source": [
    "##  Q1. We will derive the probability that a given observation is part of a bootstrap sample. Suppose that we obtain a bootstrap sample from a set of `n` observations. **Please note that samples are obtained with replacement**."
   ]
  },
  {
   "cell_type": "markdown",
   "metadata": {
    "id": "7gy8fX2tpS79"
   },
   "source": [
    "### a) What is the probability that the first bootstrap observation is not the $jth$ observation from the original sample? Justify your answer."
   ]
  },
  {
   "cell_type": "markdown",
   "metadata": {
    "id": "V2wd-2DJuYJX"
   },
   "source": [
    "Provide your answer in this Markdown cell"
   ]
  },
  {
   "cell_type": "markdown",
   "metadata": {
    "id": "ekeUZKAaufvk"
   },
   "source": [
    "### b) What is the probability that the second bootstrap observation is not the $jth$ observation from the original sample?\n",
    "\n"
   ]
  },
  {
   "cell_type": "markdown",
   "metadata": {
    "id": "N-j_koZDrvhz"
   },
   "source": [
    " Provide your answer in this Markdown cell"
   ]
  },
  {
   "cell_type": "markdown",
   "metadata": {
    "id": "w7XSUDdGulBi"
   },
   "source": [
    "###  c) Argue that the probability that the $jth$ observation is not in the bootstrap sample is $(1 − 1/n)^n$."
   ]
  },
  {
   "cell_type": "markdown",
   "metadata": {
    "id": "oVkgOBX_tDDq"
   },
   "source": [
    "Provide your answer in this Markdown cell"
   ]
  },
  {
   "cell_type": "markdown",
   "metadata": {
    "id": "dc370xrFupXo"
   },
   "source": [
    "###  d) When `n = 5`, what is the probability that the $jth$ observation is in the bootstrap sample?"
   ]
  },
  {
   "cell_type": "markdown",
   "metadata": {
    "id": "J5juavMztOI7"
   },
   "source": [
    "Provide your answer in this Markdown cell"
   ]
  },
  {
   "cell_type": "markdown",
   "metadata": {
    "id": "hgp34gdCkzRb"
   },
   "source": [
    "### e) When `n = 100`, what is the probability that the $jth$ observation is in the bootstrap sample?"
   ]
  },
  {
   "cell_type": "markdown",
   "metadata": {
    "id": "uFx80ZiUrNOl"
   },
   "source": [
    "Provide your answer in this Markdown cell"
   ]
  },
  {
   "cell_type": "markdown",
   "metadata": {
    "id": "Fml00xhEr1t-"
   },
   "source": [
    "### f) When `n = 1000`, what is the probability that the $jth$ observation is in the bootstrap sample?\n"
   ]
  },
  {
   "cell_type": "markdown",
   "metadata": {
    "id": "9Jtododpr8GH"
   },
   "source": [
    "Provide your answer in this Markdown cell\n"
   ]
  },
  {
   "cell_type": "markdown",
   "metadata": {
    "id": "xnw4bPR4uQgy"
   },
   "source": [
    "## Q2)\n",
    "The following questions are relative to k-fold cross-validation."
   ]
  },
  {
   "cell_type": "markdown",
   "metadata": {
    "id": "L_KugOLmuuH7"
   },
   "source": [
    "### a) Explain how k-fold cross-validation is implemented.\n"
   ]
  },
  {
   "cell_type": "markdown",
   "metadata": {
    "id": "hA1M81a-uAQV"
   },
   "source": [
    "Provide your answer in this Markdown cell"
   ]
  },
  {
   "cell_type": "markdown",
   "metadata": {
    "id": "0mWYYql2uVOV"
   },
   "source": [
    "### b) How would you choose the analyzed k? Does that matter?"
   ]
  },
  {
   "cell_type": "markdown",
   "metadata": {
    "id": "h92wGq8qxRaK"
   },
   "source": [
    "Provide your answer in this Markdown cell\n"
   ]
  },
  {
   "cell_type": "markdown",
   "metadata": {
    "id": "7_mY8zwiyr0a"
   },
   "source": [
    "### c) What are the advantages and disadvantages of k-fold cross-validation relative to: *The validation set* approach?\n"
   ]
  },
  {
   "cell_type": "markdown",
   "metadata": {
    "id": "9hQ1d-2fxsCB"
   },
   "source": [
    "Provide your answer in this Markdown cell"
   ]
  },
  {
   "cell_type": "markdown",
   "metadata": {
    "id": "VS2s6Jz23i5d"
   },
   "source": [
    "### d)  What are the advantages and disadvantages of k-fold cross-validation relative to: *LOOCV*?"
   ]
  },
  {
   "cell_type": "markdown",
   "metadata": {
    "id": "FGYQZ87y729n"
   },
   "source": [
    "Provide your answer in this Markdown cell"
   ]
  },
  {
   "cell_type": "markdown",
   "metadata": {
    "id": "5HVFDHDqS5dT"
   },
   "source": [
    "# Applied"
   ]
  },
  {
   "cell_type": "markdown",
   "metadata": {
    "id": "vZxb-dffwoc7"
   },
   "source": [
    "We have to use college dataset to answer the questions given in the notebook"
   ]
  },
  {
   "cell_type": "markdown",
   "metadata": {
    "id": "08u7KItt3nTz"
   },
   "source": [
    "## Q3)"
   ]
  },
  {
   "cell_type": "markdown",
   "metadata": {
    "id": "QPXoXSVpNE5c"
   },
   "source": [
    "### a) What is the following code supposed to do?"
   ]
  },
  {
   "cell_type": "code",
   "execution_count": null,
   "metadata": {
    "id": "pv3RUA5OrUqK"
   },
   "outputs": [],
   "source": [
    "import numpy as np\n",
    "import pandas as pd\n",
    "from sklearn.linear_model import LinearRegression\n",
    "from sklearn.preprocessing import PolynomialFeatures\n",
    "from sklearn.model_selection import KFold\n",
    "import matplotlib.pyplot as plt\n",
    "\n",
    "# Define constants\n",
    "N = 100\n",
    "ORDER = 2\n",
    "N_FOLDS = 20\n",
    "POLY_DEGREE = np.arange(1, 11)\n",
    "N_REPLICATES = 10\n",
    "\n",
    "# Set random seed for reproducibility\n",
    "np.random.seed(123)\n",
    "\n",
    "# Generate simulated data\n",
    "x = np.random.uniform(low=-4, high=4, size=N)\n",
    "y = np.random.normal(loc=x**ORDER, scale=0.25, size=N)\n",
    "data = pd.DataFrame({'x': x, 'y': y})\n",
    "\n",
    "# Run multiple replicates and average the MSE estimates\n",
    "mse_estimates = np.zeros((N_REPLICATES, len(POLY_DEGREE)))\n",
    "for r in range(N_REPLICATES):\n",
    "    kf = KFold(n_splits=N_FOLDS, shuffle=True)\n",
    "    indices = [(train_index, test_index) for train_index, test_index in kf.split(data)]\n",
    "    for q_idx, q in enumerate(POLY_DEGREE):\n",
    "        y_hat = np.zeros(N)\n",
    "        for train_index, test_index in indices:\n",
    "            # Fit on K-1 folds\n",
    "            x_train, y_train = data.iloc[train_index]['x'], data.iloc[train_index]['y']\n",
    "            poly = PolynomialFeatures(degree=q)\n",
    "            x_train_poly = poly.fit_transform(x_train.reshape(-1, 1))\n",
    "            lin_reg = LinearRegression()\n",
    "            lin_reg.fit(x_train_poly, y_train)\n",
    "\n",
    "            # Predict on the kth fold\n",
    "            x_test = data.iloc[test_index]['x']\n",
    "            x_test_poly = poly.fit_transform(x_test.reshape(-1, 1))\n",
    "            y_hat[test_index] = lin_reg.predict(x_test_poly)\n",
    "\n",
    "        # Get the MSE estimate\n",
    "        mse_estimate = np.mean((y_hat - data['y'])**2)\n",
    "        mse_estimates[r, q_idx] = mse_estimate\n",
    "\n",
    "# Average the MSE estimates across replicates\n",
    "mse_mean = np.mean(mse_estimates, axis=0)\n",
    "mse_std = np.std(mse_estimates, axis=0)"
   ]
  },
  {
   "cell_type": "markdown",
   "metadata": {
    "id": "DoI7d3EYj6L2"
   },
   "source": [
    "Provide your answer in this Markdown cell"
   ]
  },
  {
   "cell_type": "markdown",
   "metadata": {
    "id": "aOwxNWf_NcOO"
   },
   "source": [
    " ### b) To the best of your knowledge, improve the structure, content, clarity, and reproducibility of the code presented before in \"part a\" of this question (e.g. would you run a single or multiple replicates?). Fix any mistakes (if you find any). Finally, generate at least two plots summarizing your findings regarding the best-fitting polynomial order on the simulated dataset (also from \"part a\"): (1) MSE vs polynomial order, and (2) x vs y, along with a plot of the selected model."
   ]
  },
  {
   "cell_type": "code",
   "execution_count": null,
   "metadata": {
    "id": "lv3xMCqlqqaC"
   },
   "outputs": [],
   "source": [
    "# BEGIN SOLUTION\n",
    "\n",
    "# END SOLUTION"
   ]
  },
  {
   "cell_type": "markdown",
   "metadata": {
    "id": "aMNw-qL6mKEH"
   },
   "source": [
    "## Q4) Bootstrap the following dataset (`n = 1000`) to obtain median and 95% CI (Confidence interval)for parameter estimates (slope and intercept) summarizing the relationship between `x` and `y_measured.` What happens with median parameter estimates when you examine `y` instead?"
   ]
  },
  {
   "cell_type": "code",
   "execution_count": null,
   "metadata": {
    "id": "DJ11XwVw1qrm"
   },
   "outputs": [],
   "source": [
    "import numpy as np\n",
    "from numpy.random import default_rng\n",
    "import scipy.stats as stats\n",
    "\n",
    "rng = default_rng(seed=1)\n",
    "nobs = 1000\n",
    "x = rng.normal(size=nobs)\n",
    "y = x - 2 * x**2\n",
    "y_measured = y + rng.normal(size=nobs)\n",
    "\n",
    "# BEGIN SOLUTION\n",
    "# END SOLUTION\n"
   ]
  },
  {
   "cell_type": "markdown",
   "metadata": {
    "id": "_skayhIR2F7g"
   },
   "source": [
    "Provide your answer in this Markdown cell"
   ]
  },
  {
   "cell_type": "markdown",
   "metadata": {
    "id": "ddHcOis8CCoO"
   },
   "source": [
    "## Q5) We will predict the number of applications received using the other variables in the **College dataset.** Please load the relevant dataset first.\n"
   ]
  },
  {
   "cell_type": "markdown",
   "metadata": {
    "id": "musNGH4-p4lf"
   },
   "source": [
    "**Importing Libraries:**"
   ]
  },
  {
   "cell_type": "code",
   "execution_count": null,
   "metadata": {
    "id": "zGevrqL04Lse"
   },
   "outputs": [],
   "source": [
    "#IMPORT LIBRARIES"
   ]
  },
  {
   "cell_type": "markdown",
   "metadata": {
    "id": "hKnFyjcjpxm6"
   },
   "source": [
    "**Loading dataset:**"
   ]
  },
  {
   "cell_type": "code",
   "execution_count": null,
   "metadata": {
    "id": "6-sWON49nV7D"
   },
   "outputs": [],
   "source": [
    "#READ AUTO.CSV DATASET"
   ]
  },
  {
   "cell_type": "code",
   "execution_count": null,
   "metadata": {
    "id": "tcRA2D78fLxO"
   },
   "outputs": [],
   "source": [
    "#PERFORM PRE PROCESSING OF DATA IF REQUIRED ( OBSERVE THE DATASET AND ITS VALUES CAREFULLY)"
   ]
  },
  {
   "cell_type": "markdown",
   "metadata": {
    "id": "jbzD19JRCPcq"
   },
   "source": [
    "### a) Split the data set into a training set and a test set."
   ]
  },
  {
   "cell_type": "code",
   "execution_count": null,
   "metadata": {
    "id": "z2VPQlRTEFSx"
   },
   "outputs": [],
   "source": [
    "# BEGIN SOLUTION\n",
    "# END SOLUTION"
   ]
  },
  {
   "cell_type": "markdown",
   "metadata": {
    "id": "edftCrWqf5uC"
   },
   "source": [
    "### b) Fit a linear model using least squares on the training set, and report the test error obtained.\n",
    "Link to linear model: https://scikit-learn.org/stable/modules/generated/sklearn.linear_model.LinearRegression.html\n"
   ]
  },
  {
   "cell_type": "code",
   "execution_count": null,
   "metadata": {
    "id": "3Bob99XBf2p7"
   },
   "outputs": [],
   "source": [
    "#BEGIN SOLUTION\n",
    "\n",
    "# END SOLUTION"
   ]
  },
  {
   "cell_type": "markdown",
   "metadata": {
    "id": "pdea7OyMhAw6"
   },
   "source": [
    "### c) Fit a ridge regression model on the training set, with $\\lambda$ chosen by cross-validation. Report the test error obtained.\n",
    "\n",
    "Link to ridge regresion : https://scikit-learn.org/stable/modules/generated/sklearn.linear_model.Ridge.html"
   ]
  },
  {
   "cell_type": "code",
   "execution_count": null,
   "metadata": {
    "id": "_tl5cegudy_Q"
   },
   "outputs": [],
   "source": [
    "#BEGIN SOLUTION\n",
    "\n",
    "# END SOLUTION"
   ]
  },
  {
   "cell_type": "markdown",
   "metadata": {
    "id": "Q-Y4EBqihWnB"
   },
   "source": [
    "### d) Fit a lasso model on the training set, with $\\lambda$ chosen by cross-validation. Report the test error obtained, along with the number of non-zero coefficient estimates.\n",
    " Link to lasso :https://scikit-learn.org/0.15/modules/generated/sklearn.linear_model.Lasso.html"
   ]
  },
  {
   "cell_type": "code",
   "execution_count": null,
   "metadata": {
    "id": "FA-uxEgIgOwL"
   },
   "outputs": [],
   "source": [
    "#BEGIN SOLUTION\n",
    "\n",
    "# END SOLUTION"
   ]
  }
 ],
 "metadata": {
  "colab": {
   "provenance": []
  },
  "kernelspec": {
   "display_name": "Python 3 (ipykernel)",
   "language": "python",
   "name": "python3"
  },
  "language_info": {
   "codemirror_mode": {
    "name": "ipython",
    "version": 3
   },
   "file_extension": ".py",
   "mimetype": "text/x-python",
   "name": "python",
   "nbconvert_exporter": "python",
   "pygments_lexer": "ipython3",
   "version": "3.9.12"
  }
 },
 "nbformat": 4,
 "nbformat_minor": 1
}
