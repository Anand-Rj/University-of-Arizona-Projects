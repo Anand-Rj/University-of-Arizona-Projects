{
  "nbformat": 4,
  "nbformat_minor": 0,
  "metadata": {
    "colab": {
      "provenance": []
    },
    "kernelspec": {
      "name": "python3",
      "display_name": "Python 3"
    },
    "language_info": {
      "name": "python"
    }
  },
  "cells": [
    {
      "cell_type": "markdown",
      "source": [
        "# NON LINEAR REGRESSION MODELS"
      ],
      "metadata": {
        "id": "A4jJsSdrjdCw"
      }
    },
    {
      "cell_type": "markdown",
      "source": [
        "# Objective\n",
        "This homework sheet will help reviewing the basic concepts associated with non-linear models. Please review the lectures, suggested readings, and additional resources _before_ getting started on the HW."
      ],
      "metadata": {
        "id": "1HrIKk9yiKD5"
      }
    },
    {
      "cell_type": "markdown",
      "source": [
        "**Some questions in this assignment will require you to conduct independent research beyond the material covered in the recorded content.**"
      ],
      "metadata": {
        "id": "_dXO1KF9PJPw"
      }
    },
    {
      "cell_type": "markdown",
      "source": [
        "**Some of the libraries / links mentioned in APPLIED questions are only for your reference. Unless specifically indicated, feel free to utilise any Python library of your choice to carry out the assignment questions**\n",
        "\n",
        "PYGAM REFERENCE LINK:\n",
        "\n",
        "https://pygam.readthedocs.io/en/latest/notebooks/tour_of_pygam.html\n",
        "\n",
        "STATSMODELS REFERENCE LINK:\n",
        "\n",
        "https://www.statsmodels.org/dev/glm.html\n",
        "\n",
        "PATSY REFERENCE LINK:\n",
        "\n",
        "https://patsy.readthedocs.io/en/latest/\n",
        "\n",
        "\n",
        "\n",
        "\n",
        "\n"
      ],
      "metadata": {
        "id": "mnk0yxs8m6f9"
      }
    },
    {
      "cell_type": "markdown",
      "source": [
        "The following website has access to the relevant datasets from the recommended textbook: https://book.huihoo.com/introduction-to-statistical-learning/data.html\n"
      ],
      "metadata": {
        "id": "lO9LK2Y5iP10"
      }
    },
    {
      "cell_type": "markdown",
      "source": [
        "Marks Distribution"
      ],
      "metadata": {
        "id": "ODex9UN_D7sT"
      }
    },
    {
      "cell_type": "markdown",
      "source": [
        "| Question      | Marks |\n",
        "| ----------- | ----------- |\n",
        "| 1a    |    0.5  |\n",
        "| 1b    |    0.5   |\n",
        "| 1c    |    0.5   |\n",
        "| 1d     |   0.5    |\n",
        "| 1e     |   0.5   |\n",
        "| 2     |   1   |\n",
        "| 3     |   1  |\n",
        "| 4     |   1   |\n",
        "| 5a    |   0.5   |\n",
        "| 5b    |   0.5   |\n",
        "| 5c    |   0.5  |\n",
        "| 6a    |    2  |\n",
        "| 6b    |   1    |\n",
        "| 7a    |   1   |\n",
        "| 7b    |   2   |\n",
        "| 7c    |   1    |\n",
        "| 7d   |    1   |\n",
        "\n",
        "\n",
        "\n"
      ],
      "metadata": {
        "id": "wl8mLVt9PoOq"
      }
    },
    {
      "cell_type": "markdown",
      "source": [
        "# Conceptual"
      ],
      "metadata": {
        "id": "eTFU_0S5id8I"
      }
    },
    {
      "cell_type": "markdown",
      "source": [
        "## Question 1"
      ],
      "metadata": {
        "id": "DuGP4uzCijBM"
      }
    },
    {
      "cell_type": "markdown",
      "source": [
        "Suppose that a curve $\\hat{g}$ is computed to smoothly fit a set of `n` points using the following formula:\n",
        "\n",
        "  $$\n",
        "  \\hat{g} = \\arg\\min_{g}(\\sum_{i=1}^n (y_i - g(x_i))^2 +  \\lambda \\int [g^{(m)} (x)]^2 dx )\n",
        "  $$\n",
        "where $g^{(m)}$  represents the $m^{th}$ derivative of $g$ (and $g^{(0)} = g$. Provide a description (or sketch) of $\\hat{g}$ in each of the following scenarios. where $g^{(m)}$\n",
        " represents the m\n",
        "th derivative of g\n",
        "\n"
      ],
      "metadata": {
        "id": "3VwF2Tm_ipWf"
      }
    },
    {
      "cell_type": "markdown",
      "source": [
        "  (a) $\\lambda$ = $\\infty$, $m = 0$.\n",
        "  \n",
        "\n",
        "  \n"
      ],
      "metadata": {
        "id": "QTf-z5s8jvEg"
      }
    },
    {
      "cell_type": "markdown",
      "source": [
        "**ANSWER**\n",
        "\n"
      ],
      "metadata": {
        "id": "7rMwHQmhrCBu"
      }
    },
    {
      "cell_type": "markdown",
      "source": [
        "  (b) $\\lambda$ = $\\infty$, $m = 1$.\n",
        "  \n",
        "\n"
      ],
      "metadata": {
        "id": "2xMxcFKaj0_j"
      }
    },
    {
      "cell_type": "markdown",
      "source": [
        "**ANSWER** \n"
      ],
      "metadata": {
        "id": "DdUDHOaIrNw-"
      }
    },
    {
      "cell_type": "markdown",
      "source": [
        "  \n",
        "  (c) $\\lambda$ = $\\infty$, $m = 2$.\n",
        "  \n",
        "\n",
        "  \n"
      ],
      "metadata": {
        "id": "r1UVLvXHj3IF"
      }
    },
    {
      "cell_type": "markdown",
      "source": [
        "**ANSWER**"
      ],
      "metadata": {
        "id": "z3yJPmaarQcj"
      }
    },
    {
      "cell_type": "markdown",
      "source": [
        "  (d) $\\lambda$ = $\\infty$, $m = 3$.\n",
        "  \n"
      ],
      "metadata": {
        "id": "3N1Mj-z8j5JI"
      }
    },
    {
      "cell_type": "markdown",
      "source": [
        "**ANSWER**"
      ],
      "metadata": {
        "id": "gDFOWvnJrVIl"
      }
    },
    {
      "cell_type": "markdown",
      "source": [
        "  \n",
        "  (e) $\\lambda$ = 0, $m = 3$."
      ],
      "metadata": {
        "id": "mfeSM71aj6wO"
      }
    },
    {
      "cell_type": "markdown",
      "source": [
        "**ANSWER**"
      ],
      "metadata": {
        "id": "h-EjIo0GrgAC"
      }
    },
    {
      "cell_type": "markdown",
      "source": [
        "## Question 2"
      ],
      "metadata": {
        "id": "msadeu4prqpY"
      }
    },
    {
      "cell_type": "markdown",
      "source": [
        "For (1) step functions, (2) local regression, and (3) GAMs: provide one situation when using that particular model is advantageous. For instance, “GAMs is likely the preferred option when the question I’m interested in addressing involves…”. \n"
      ],
      "metadata": {
        "id": "B_Z2aWq_rqm0"
      }
    },
    {
      "cell_type": "markdown",
      "source": [
        "**ANSWER**\n",
        "\n"
      ],
      "metadata": {
        "id": "EZqHpGWyzAtw"
      }
    },
    {
      "cell_type": "markdown",
      "source": [
        "## Question 3 "
      ],
      "metadata": {
        "id": "N62z4iOirqjv"
      }
    },
    {
      "cell_type": "markdown",
      "source": [
        "Define the following types of smooth functions from PYGAM library (https://pygam.readthedocs.io/en/latest/notebooks/tour_of_pygam.html ) and list at least one relevant potential use: \n",
        "\n",
        "a) l() linear terms\n",
        "\n",
        "b) s() spline terms\n",
        "\n",
        "c) f() factor terms\n",
        "\n",
        "d) te() Tensor product interaction terms\n"
      ],
      "metadata": {
        "id": "NlUv8TTyrqg7"
      }
    },
    {
      "cell_type": "markdown",
      "source": [
        "**ANSWER**\n",
        "\n",
        "\n",
        "\n",
        "\n",
        "\n",
        "\n",
        "\n",
        "\n",
        "\n"
      ],
      "metadata": {
        "id": "BnzRRiZZuRxR"
      }
    },
    {
      "cell_type": "markdown",
      "source": [
        "## Question 4\n",
        "\n",
        "Briefly explain what spatial and temporal autocorrelation are? List one way in which GAMs could help to account for this (e.g. indicate the type of smooth function you would use or potential types of correlation structures).\n",
        "\n"
      ],
      "metadata": {
        "id": "BojyY4Ol4reC"
      }
    },
    {
      "cell_type": "markdown",
      "source": [
        "**ANSWER**\n",
        "\n",
        "\n"
      ],
      "metadata": {
        "id": "8bRBQkXO-Vsp"
      }
    },
    {
      "cell_type": "markdown",
      "source": [
        "## Question 5\n",
        "\n",
        "Consider two curves $\\hat{g}1$ and $\\hat{g}2$, defined by\n",
        "\n",
        "  $$\n",
        "  \\hat{g}1 = \\arg\\min_{g}(\\sum_{i=1}^n (y_i - g(x_i))^2 +  \\lambda \\int [g^{(3)} (x)]^2 dx )\n",
        "  $$\n",
        "  \n",
        "  $$\n",
        "  \\hat{g}2 = \\arg\\min_{g}(\\sum_{i=1}^n (y_i - g(x_i))^2 +  \\lambda \\int [g^{(4)} (x)]^2 dx )\n",
        "  $$\n",
        "  \n",
        " \n",
        "where $g^{(m)}$ represents the $m^{th}$ derivative of $g$. Now, answer the following questions (and include a brief explanation):\n",
        "\n",
        "  a) As $\\lambda \\rightarrow \\infty$, will $\\hat{g}1$ or $\\hat{g}2$ have smaller training RSS?\n",
        "  "
      ],
      "metadata": {
        "id": "YH8ANzVz42WY"
      }
    },
    {
      "cell_type": "markdown",
      "source": [
        "**ANSWER**"
      ],
      "metadata": {
        "id": "V47PWsp99Sw7"
      }
    },
    {
      "cell_type": "markdown",
      "source": [
        "  b) As $\\lambda \\rightarrow \\infty$, will $\\hat{g}1$ or $\\hat{g}2$ have smaller test RSS?"
      ],
      "metadata": {
        "id": "kw_SArL_9Jnm"
      }
    },
    {
      "cell_type": "markdown",
      "source": [
        "**ANSWER**\n"
      ],
      "metadata": {
        "id": "tq4j8uJ49dSQ"
      }
    },
    {
      "cell_type": "markdown",
      "source": [
        "  \n",
        "  c) For $\\lambda= 0$, will $\\hat{g}1$ or $\\hat{g}2$ have smaller training RSS?"
      ],
      "metadata": {
        "id": "3MofWSX39MQS"
      }
    },
    {
      "cell_type": "markdown",
      "source": [
        "**ANSWER**"
      ],
      "metadata": {
        "id": "VtnUhS-69oIW"
      }
    },
    {
      "cell_type": "markdown",
      "source": [
        "APPLIED"
      ],
      "metadata": {
        "id": "AwD6bk3-5-3O"
      }
    },
    {
      "cell_type": "markdown",
      "source": [
        "## Question 6\n",
        "\n",
        "\n",
        "\n",
        "This question relates to the `College` data set."
      ],
      "metadata": {
        "id": "zX5_DGpV6eKY"
      }
    },
    {
      "cell_type": "markdown",
      "source": [
        "pre process the data if required "
      ],
      "metadata": {
        "id": "OSs_Ac_zooC0"
      }
    },
    {
      "cell_type": "markdown",
      "source": [
        "a) Fit a GAM on the training data, using out-of-state tuition as the response and only subset of features as the predictors ( Select 'private', 'Room.Board' , 'PhD' , 'perc.alumni' , 'Expend' , 'Grad.rate' ) Plot the results and briefly explain your findings"
      ],
      "metadata": {
        "id": "EVTWvfkV6rAd"
      }
    },
    {
      "cell_type": "markdown",
      "source": [
        "**ANSWER**"
      ],
      "metadata": {
        "id": "g8pVQDoV93KJ"
      }
    },
    {
      "cell_type": "markdown",
      "source": [
        "b) For which variables, if any, is there evidence of a non-linear relationship with the response?"
      ],
      "metadata": {
        "id": "xlea30oF65Jq"
      }
    },
    {
      "cell_type": "markdown",
      "source": [
        "ANSWER"
      ],
      "metadata": {
        "id": "dwJpfb-D98rG"
      }
    },
    {
      "cell_type": "markdown",
      "source": [
        "## Question 7\n",
        "\n",
        "Answer the questions below using the following dataset (WEEK3_Q7 CSV provided with the learner template):\n",
        "\n"
      ],
      "metadata": {
        "id": "TxYjEFo_9P9t"
      }
    },
    {
      "cell_type": "markdown",
      "source": [
        "a) Only by inspecting the plots shown below: Is there any temporal or spatial trend in the response variable `richness`?"
      ],
      "metadata": {
        "id": "kiBjGw8vcBWk"
      }
    },
    {
      "cell_type": "code",
      "source": [
        "sns.scatterplot(x=df2.Year,y=df2.richness)"
      ],
      "metadata": {
        "colab": {
          "base_uri": "https://localhost:8080/",
          "height": 514
        },
        "id": "FDKFTSzFyPn2",
        "outputId": "695614c2-2826-4e08-d413-c43cbe260b36"
      },
      "execution_count": null,
      "outputs": [
        {
          "output_type": "execute_result",
          "data": {
            "text/plain": [
              "<Axes: xlabel='Year', ylabel='richness'>"
            ]
          },
          "metadata": {},
          "execution_count": 26
        },
        {
          "output_type": "display_data",
          "data": {
            "text/plain": [
              "<Figure size 1440x576 with 1 Axes>"
            ],
            "image/png": "[encoded data removed]"
          },
          "metadata": {
            "needs_background": "light"
          }
        }
      ]
    },
    {
      "cell_type": "markdown",
      "source": [
        "**ANSWER**"
      ],
      "metadata": {
        "id": "5TvjK2Mr5tds"
      }
    },
    {
      "cell_type": "markdown",
      "source": [
        "b) Now, fit a Poisson GAM with the following structure `E(richness) = exp(f(year))*exp(g(location))`. Note that location is actually two features: `Longitude` and `Latitude.` Name this model `M1.` \n",
        "Plot the model, get the `summary` of `M1`, and answer: Is there evidence for effects of location and year?"
      ],
      "metadata": {
        "id": "TyV6DqXu6v2w"
      }
    },
    {
      "cell_type": "markdown",
      "source": [
        "**ANSWER**"
      ],
      "metadata": {
        "id": "33CNVSsTATtJ"
      }
    },
    {
      "cell_type": "markdown",
      "source": [
        "c) Now, fit another Poisson GAM model with the same structure as in `M1` , name this model `M2` but using interactions between Year, Latitude and Longitude "
      ],
      "metadata": {
        "id": "0tQb8XZemOoX"
      }
    },
    {
      "cell_type": "markdown",
      "source": [
        "**ANSWER**"
      ],
      "metadata": {
        "id": "fP-uI0MAAQQz"
      }
    },
    {
      "cell_type": "markdown",
      "source": [
        "d) Compare `M1` and `M2`. Note that you can use the $R^2$, AIC values, test error, among other approaches discussed in class. Which model should we select?"
      ],
      "metadata": {
        "id": "1x6wGZ5ZqX0S"
      }
    },
    {
      "cell_type": "markdown",
      "source": [
        "**ANSWER**"
      ],
      "metadata": {
        "id": "X0x_I1CaZIl6"
      }
    }
  ]
}