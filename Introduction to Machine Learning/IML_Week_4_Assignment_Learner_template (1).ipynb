{
  "nbformat": 4,
  "nbformat_minor": 0,
  "metadata": {
    "colab": {
      "provenance": []
    },
    "kernelspec": {
      "name": "python3",
      "display_name": "Python 3"
    },
    "language_info": {
      "name": "python"
    }
  },
  "cells": [
    {
      "cell_type": "markdown",
      "source": [
        "## Objective"
      ],
      "metadata": {
        "id": "e1wOc3AXSMUQ"
      }
    },
    {
      "cell_type": "markdown",
      "source": [
        "This homework sheet will help reviewing the basic concepts associated with classification models. Please review the lectures, suggested readings, and additional resources before getting started on the HW.\n"
      ],
      "metadata": {
        "id": "qVobrKcWT_KP"
      }
    },
    {
      "cell_type": "markdown",
      "source": [
        "**Some questions in this assignment will require you to conduct independent research beyond the material covered in the recorded content.**"
      ],
      "metadata": {
        "id": "MM14rHV5l0Zc"
      }
    },
    {
      "cell_type": "markdown",
      "source": [
        "**Questions**"
      ],
      "metadata": {
        "id": "6d9O1srPKj7H"
      }
    },
    {
      "cell_type": "markdown",
      "source": [
        "\n",
        "This homework is divided into two main parts. First, a conceptual component will review the basic concepts related to classification models. The second part of the homework is mostly intended to be a brief introduction to fitting and analyzing classifiers in `Python`. Several of these questions are modified from James et al. (2021).\n",
        "\n"
      ],
      "metadata": {
        "id": "7jNdnbsCoGxJ"
      }
    },
    {
      "cell_type": "markdown",
      "source": [
        "Marks Distribution\n",
        "\n",
        "| Question      | Marks |\n",
        "| ----------- | ----------- |\n",
        "| 1a    |    0.25  |\n",
        "| 1b    |    0.25   |\n",
        "| 1c    |    0.25   |\n",
        "| 1d     |   0.25    |\n",
        "| 2a     |    0.50  |\n",
        "| 2b     |    0.50  |\n",
        "| 3     |     1 |\n",
        "| 4a    |    1  |\n",
        "| 4b    |    1   |\n",
        "| 4c    |     0.5  |\n",
        "| 4d     |    1   |\n",
        "| 4e     |    1  |\n",
        "| 4f     |    1   |\n",
        "| 4g     |     0.25  |\n",
        "| 4h     |     0.25  |\n",
        "| 5a    |     1 |\n",
        "| 5b    |     1  |\n",
        "| 5c    |     1  |\n",
        "| 5d     |     1  |\n",
        "| 5e     |     1  |\n",
        "| 5f     |     1  |"
      ],
      "metadata": {
        "id": "M4abWGgSKoF_"
      }
    },
    {
      "cell_type": "markdown",
      "source": [
        "## Conceptual Questions"
      ],
      "metadata": {
        "id": "pNQHYwSLVdgr"
      }
    },
    {
      "cell_type": "markdown",
      "source": [
        "### Q1. Let’s examine the differences between LDA and QDA."
      ],
      "metadata": {
        "id": "mp_HSKE2tjg4"
      }
    },
    {
      "cell_type": "markdown",
      "source": [
        "#### a) If the Bayes decision boundary is linear, do we expect LDA or QDA to perform better on the training set? What about in the test set?"
      ],
      "metadata": {
        "id": "V2wd-2DJuYJX"
      }
    },
    {
      "cell_type": "markdown",
      "source": [
        " Answer:\n",
        "\n",
        "Provide answer in the markdown cell"
      ],
      "metadata": {
        "id": "HFFT375tpHjN"
      }
    },
    {
      "cell_type": "markdown",
      "source": [
        "#### b) If the Bayes decision boundary is non-linear, do we expect LDA or QDA to perform better on the training set? On the test set?\n"
      ],
      "metadata": {
        "id": "ekeUZKAaufvk"
      }
    },
    {
      "cell_type": "markdown",
      "source": [
        "Answer:\n",
        "\n",
        "Provide answer in the markdown cell"
      ],
      "metadata": {
        "id": "N-j_koZDrvhz"
      }
    },
    {
      "cell_type": "markdown",
      "source": [
        "#### c)In general, as the sample size n increases, do we expect the test prediction accuracy of QDA relative to LDA to improve, decline, or be unchanged? Why?"
      ],
      "metadata": {
        "id": "w7XSUDdGulBi"
      }
    },
    {
      "cell_type": "markdown",
      "source": [
        "Answer:\n",
        "\n",
        "Provide answer in the markdown cell"
      ],
      "metadata": {
        "id": "oVkgOBX_tDDq"
      }
    },
    {
      "cell_type": "markdown",
      "source": [
        "#### d)True or False:\n",
        "Even if the Bayes decision boundary for a given problem is linear, we will probably achieve a superior test error rate using QDA rather than LDA because QDA is flexible enough to model a linear decision boundary.\n"
      ],
      "metadata": {
        "id": "dc370xrFupXo"
      }
    },
    {
      "cell_type": "markdown",
      "source": [
        "Answer:\n",
        "\n",
        "Provide answer in the markdown cell"
      ],
      "metadata": {
        "id": "J5juavMztOI7"
      }
    },
    {
      "cell_type": "markdown",
      "source": [
        "### Q2) In relation to the odds and the Default dataset"
      ],
      "metadata": {
        "id": "xnw4bPR4uQgy"
      }
    },
    {
      "cell_type": "markdown",
      "source": [
        "#### a) On average, what fraction of people with an odds of `0.37` of defaulting on their credit card payment will in fact default?\n"
      ],
      "metadata": {
        "id": "L_KugOLmuuH7"
      }
    },
    {
      "cell_type": "code",
      "source": [
        "# BEGIN SOLUTION\n",
        "\n",
        "\n",
        "# END SOLUTION\n"
      ],
      "metadata": {
        "id": "Zbh0XNkZwYZW"
      },
      "execution_count": null,
      "outputs": []
    },
    {
      "cell_type": "markdown",
      "source": [
        "Provide answer in the markdown cell"
      ],
      "metadata": {
        "id": "DUqLtFeNw1uk"
      }
    },
    {
      "cell_type": "markdown",
      "source": [
        "#### b) Suppose that an individual has a `16%` chance of defaulting on their credit card payment. What are the odds that they will default?"
      ],
      "metadata": {
        "id": "0mWYYql2uVOV"
      }
    },
    {
      "cell_type": "code",
      "source": [
        "# BEGIN SOLUTION\n",
        "\n",
        "\n",
        "# END SOLUTION"
      ],
      "metadata": {
        "id": "se7WQTnpwsDX"
      },
      "execution_count": null,
      "outputs": []
    },
    {
      "cell_type": "markdown",
      "source": [
        "Answer:\n",
        "Provide answer in the markdown cell"
      ],
      "metadata": {
        "id": "h92wGq8qxRaK"
      }
    },
    {
      "cell_type": "markdown",
      "source": [
        "#### Q3. Suppose that we take a data set, divide it into equally sized training and test sets, and then try out two different classification procedures. First, we use logistic regression and get an error rate of `20%` on the training data and `30%` on the test data. Next we use 1-nearest neighbors (i.e. `K=1`) and get an average error rate (averaged over both test and training data sets) of `18%`. Based on these results, which method should we prefer to use for classification of new observations? Why?\n"
      ],
      "metadata": {
        "id": "7_mY8zwiyr0a"
      }
    },
    {
      "cell_type": "markdown",
      "source": [
        "Answer:\n",
        "Provide answer in the markdown cell"
      ],
      "metadata": {
        "id": "JBRuCtEVyi5Z"
      }
    },
    {
      "cell_type": "markdown",
      "source": [
        "\n",
        "## Applied"
      ],
      "metadata": {
        "id": "hcnUue8b2eEj"
      }
    },
    {
      "cell_type": "markdown",
      "source": [
        "#### 4) This question should be answered using the `Weekly` data set, which is part of the `ISLR2` package. This data is similar in nature to the `Smarket` data examined in the book (Ch4, lab). First, load the dataset:\n",
        "\n",
        "\n",
        " https://book.huihoo.com/introduction-to-statistical-learning/data.html\n",
        "\n",
        " Link for getting rdataset into python:\n",
        " https://www.statsmodels.org/dev/datasets/statsmodels.datasets.get_rdataset.html\n",
        "\n",
        "\n",
        " By using the below command you can get the ISLR dataset\n",
        " `sm.datasets.get_rdataset('Weekly', 'ISLR').data`"
      ],
      "metadata": {
        "id": "VS2s6Jz23i5d"
      }
    },
    {
      "cell_type": "markdown",
      "source": [
        "#### a) Produce some numerical and graphical summaries of the `Weekly` data. Can you identify any patterns? Hint: examine the __correlation__ between predictors."
      ],
      "metadata": {
        "id": "08u7KItt3nTz"
      }
    },
    {
      "cell_type": "markdown",
      "source": [
        "**Importing Libraries:**"
      ],
      "metadata": {
        "id": "musNGH4-p4lf"
      }
    },
    {
      "cell_type": "code",
      "source": [
        "#IMPORT LIBRARIES"
      ],
      "metadata": {
        "id": "zGevrqL04Lse"
      },
      "execution_count": null,
      "outputs": []
    },
    {
      "cell_type": "markdown",
      "source": [
        "**Loading dataset:**"
      ],
      "metadata": {
        "id": "hKnFyjcjpxm6"
      }
    },
    {
      "cell_type": "code",
      "source": [
        "#READ Weekly DATASET USING THE CODE GIVEN IN QUESTION 4"
      ],
      "metadata": {
        "id": "6-sWON49nV7D"
      },
      "execution_count": null,
      "outputs": []
    },
    {
      "cell_type": "code",
      "source": [
        "#PERFORM PRE PROCESSING OF DATA IF REQUIRED ( OBSERVE THE DATASET AND ITS VALUES CAREFULLY)"
      ],
      "metadata": {
        "id": "l_z_l7Sd3mSr"
      },
      "execution_count": null,
      "outputs": []
    },
    {
      "cell_type": "code",
      "source": [
        "# BEGIN SOLUTION\n",
        "# END SOLUTION"
      ],
      "metadata": {
        "id": "yNxK34lK3y0q"
      },
      "execution_count": null,
      "outputs": []
    },
    {
      "cell_type": "code",
      "source": [
        "# BEGIN SOLUTION\n",
        "\n",
        "\n",
        "# END SOLUTION"
      ],
      "metadata": {
        "id": "3Etrk07FqLpO"
      },
      "execution_count": null,
      "outputs": []
    },
    {
      "cell_type": "code",
      "source": [
        "# BEGIN SOLUTION\n",
        "\n",
        "# END SOLUTION"
      ],
      "metadata": {
        "id": "1IjN7Rj5raeJ"
      },
      "execution_count": null,
      "outputs": []
    },
    {
      "cell_type": "markdown",
      "source": [
        "You can refer to the `seaborn` library documentation to attempt this problem: https://seaborn.pydata.org/"
      ],
      "metadata": {
        "id": "Noc_Ov8g2qy2"
      }
    },
    {
      "cell_type": "markdown",
      "source": [
        "#### b) Use the full data set to perform a logistic regression with Direction as the response and the five `lag` variables plus `Volume` as predictors. Use the summary function to print the results. Do any of the predictors appear to be statistically significant? If so, which ones? Use the statsmodels to construct the classifier.\n",
        "\n",
        "Link: https://www.statsmodels.org/"
      ],
      "metadata": {
        "id": "afBL3OyWsicy"
      }
    },
    {
      "cell_type": "code",
      "source": [
        "#BEGIN SOLUTION\n",
        "\n",
        "# END SOLUTION"
      ],
      "metadata": {
        "id": "pKidlZJprkW8"
      },
      "execution_count": null,
      "outputs": []
    },
    {
      "cell_type": "code",
      "source": [
        "# BEGIN SOLUTION\n",
        "# END SOLUTION"
      ],
      "metadata": {
        "id": "FBIulKaGuJmv"
      },
      "execution_count": null,
      "outputs": []
    },
    {
      "cell_type": "markdown",
      "source": [],
      "metadata": {
        "id": "qPyvc3X3xhtp"
      }
    },
    {
      "cell_type": "markdown",
      "source": [
        "#### C) Compute the confusion matrix and overall fraction of correct predictions. Explain what the confusion matrix is telling you about the types of mistakes made by logistic regression."
      ],
      "metadata": {
        "id": "H1Kdkyb_xqPz"
      }
    },
    {
      "cell_type": "code",
      "source": [
        "# BEGIN SOLUTION\n",
        "\n",
        "# END SOLUTION"
      ],
      "metadata": {
        "id": "d101t34mv77q"
      },
      "execution_count": null,
      "outputs": []
    },
    {
      "cell_type": "code",
      "source": [
        "# BEGIN SOLUTION\n",
        "\n",
        "\n",
        "# END SOLUTION"
      ],
      "metadata": {
        "id": "pX_3VuENx0zW"
      },
      "execution_count": null,
      "outputs": []
    },
    {
      "cell_type": "markdown",
      "source": [
        "**Observations:**"
      ],
      "metadata": {
        "id": "ZTZTLh5xz4Xz"
      }
    },
    {
      "cell_type": "markdown",
      "source": [],
      "metadata": {
        "id": "BbfhlbrSzIoj"
      }
    },
    {
      "cell_type": "markdown",
      "source": [
        "#### d) Now fit the logistic regression model using a training data period from __1990 to 2008__, with `Lag2` as the only predictor. Compute the confusion matrix and the overall fraction of correct predictions for the held out data (that is, the data from __2009 and 2010__)."
      ],
      "metadata": {
        "id": "jdhsazPX0hOC"
      }
    },
    {
      "cell_type": "code",
      "source": [
        "# BEGIN SOLUTION\n",
        "# END SOLUTION"
      ],
      "metadata": {
        "id": "g00gW5nZyMuG"
      },
      "execution_count": null,
      "outputs": []
    },
    {
      "cell_type": "code",
      "source": [
        "# BEGIN SOLUTION\n",
        "# END SOLUTION"
      ],
      "metadata": {
        "id": "m5dXGIjF02gZ"
      },
      "execution_count": null,
      "outputs": []
    },
    {
      "cell_type": "code",
      "source": [
        "#BEGIN SOLUTION\n",
        "\n",
        "\n",
        "#END SOLUTION"
      ],
      "metadata": {
        "id": "L0ajeEU41NCV"
      },
      "execution_count": null,
      "outputs": []
    },
    {
      "cell_type": "code",
      "source": [],
      "metadata": {
        "id": "Pcwqe_mq1jdh"
      },
      "execution_count": null,
      "outputs": []
    },
    {
      "cell_type": "markdown",
      "source": [],
      "metadata": {
        "id": "2a6gbDYAdaTJ"
      }
    },
    {
      "cell_type": "markdown",
      "source": [
        "#### e)Repeat (d) using LDA."
      ],
      "metadata": {
        "id": "nDzGLqtTduGA"
      }
    },
    {
      "cell_type": "code",
      "source": [
        "# BEGIN SOLUTION\n",
        "\n",
        "\n",
        "# END SOLUTION"
      ],
      "metadata": {
        "id": "t2pgRzG2bncE"
      },
      "execution_count": null,
      "outputs": []
    },
    {
      "cell_type": "code",
      "source": [
        "# BEGIN SOLUTION\n",
        "\n",
        "\n",
        "# END SOLUTION\n"
      ],
      "metadata": {
        "id": "tsAgCsQRd207"
      },
      "execution_count": null,
      "outputs": []
    },
    {
      "cell_type": "code",
      "source": [
        "# BEGIN SOLUTION\n",
        "# END SOLUTION"
      ],
      "metadata": {
        "id": "RR5rfgM0e3bk"
      },
      "execution_count": null,
      "outputs": []
    },
    {
      "cell_type": "markdown",
      "source": [],
      "metadata": {
        "id": "T1Kn88Ejff01"
      }
    },
    {
      "cell_type": "markdown",
      "source": [
        "#### f) Repeat (d) using QDA."
      ],
      "metadata": {
        "id": "o0k5J369gcFK"
      }
    },
    {
      "cell_type": "code",
      "source": [
        "# BEGIN SOLUTION\n",
        "\n",
        "\n",
        "# END SOLUTION"
      ],
      "metadata": {
        "id": "c7Sxf16Ve6x2"
      },
      "execution_count": null,
      "outputs": []
    },
    {
      "cell_type": "code",
      "source": [
        "# BEGIN SOLUTION\n",
        "# END SOLUTION"
      ],
      "metadata": {
        "id": "hz2tsEdpgnvR"
      },
      "execution_count": null,
      "outputs": []
    },
    {
      "cell_type": "code",
      "source": [
        "# BEGIN SOLUTION\n",
        "# END SOLUTION"
      ],
      "metadata": {
        "id": "2Jq-s5sqg2Fk"
      },
      "execution_count": null,
      "outputs": []
    },
    {
      "cell_type": "markdown",
      "source": [],
      "metadata": {
        "id": "866i23-ChRVD"
      }
    },
    {
      "cell_type": "markdown",
      "source": [
        "#### g) Repeat (d) using KNN with K=1"
      ],
      "metadata": {
        "id": "EOQQ_Xd9iJH0"
      }
    },
    {
      "cell_type": "code",
      "source": [
        "# BEGIN SOLUTION\n",
        "\n",
        "# END SOLUTION"
      ],
      "metadata": {
        "id": "JmbCHZMdg5Zw"
      },
      "execution_count": null,
      "outputs": []
    },
    {
      "cell_type": "code",
      "source": [
        "# BEGIN SOLUTION\n",
        "\n",
        "# END SOLUTION"
      ],
      "metadata": {
        "id": "1lLT4HM8iXBf"
      },
      "execution_count": null,
      "outputs": []
    },
    {
      "cell_type": "code",
      "source": [
        "# BEGIN SOLUTION\n",
        "# END SOLUTION"
      ],
      "metadata": {
        "id": "mqtvieR4i20D"
      },
      "execution_count": null,
      "outputs": []
    },
    {
      "cell_type": "markdown",
      "source": [],
      "metadata": {
        "id": "HSwdQ0Pxi01S"
      }
    },
    {
      "cell_type": "markdown",
      "source": [
        "#### h) Which of these methods appears to provide the best results on this data?\n"
      ],
      "metadata": {
        "id": "VqWgDBhUlUeO"
      }
    },
    {
      "cell_type": "markdown",
      "source": [
        "Answer: Provide your answer in this Markdown cell"
      ],
      "metadata": {
        "id": "nzDxb-nWlPVk"
      }
    },
    {
      "cell_type": "markdown",
      "source": [
        "### 5) Develop a model to predict whether a given car gets high or low gas mileage based on the `Auto` data set. Load the dataset:"
      ],
      "metadata": {
        "id": "kQ-psrZKlztd"
      }
    },
    {
      "cell_type": "code",
      "source": [
        "# BEGIN SOLUTION\n",
        "#Load dataset\n",
        "\n",
        "# END SOLUTION"
      ],
      "metadata": {
        "id": "TsFrEe_sis1P"
      },
      "execution_count": null,
      "outputs": []
    },
    {
      "cell_type": "code",
      "source": [
        "# BEGIN SOLUTION\n",
        "\n",
        "# END SOLUTION"
      ],
      "metadata": {
        "id": "KkjhhJ9AnB9B"
      },
      "execution_count": null,
      "outputs": []
    },
    {
      "cell_type": "code",
      "source": [
        "# BEGIN SOLUTION\n",
        "\n",
        "# END SOLUTION"
      ],
      "metadata": {
        "id": "kHnuPOX3n6V9"
      },
      "execution_count": null,
      "outputs": []
    },
    {
      "cell_type": "markdown",
      "source": [
        "a) Create a binary variable, `mpg01`, that contains a `1` if `mpg` contains a value above its median, and a `0` if `mpg` contains a value below its median.Note : you may find it helpful to use the `pd.DataFrame()` function to create a single data set containing both `mpg01` and the other `Auto` variables.\n",
        "\n",
        "Link to median():\n",
        "https://pandas.pydata.org/docs/reference/api/pandas.DataFrame.median.html\n"
      ],
      "metadata": {
        "id": "mVRgCkY2oOUQ"
      }
    },
    {
      "cell_type": "code",
      "source": [
        "# BEGIN SOLUTION\n",
        "\n",
        "\n",
        "# END SOLUTION"
      ],
      "metadata": {
        "id": "GqwlzBe3oCOJ"
      },
      "execution_count": null,
      "outputs": []
    },
    {
      "cell_type": "markdown",
      "source": [
        "#### b) Explore the data graphically in order to investigate the association between `mpg01` and the other features. Which of the other features seem most likely to be useful in predicting `mpg01`? Scatterplots and boxplots may be useful tools to answer this question Describe your findings\n",
        "\n",
        "Link to Scatter plot: https://seaborn.pydata.org/generated/seaborn.scatterplot.html\n",
        "\n",
        "Link to Violin plot: https://seaborn.pydata.org/generated/seaborn.violinplot.html\n",
        "\n",
        "Link to Box plot: https://seaborn.pydata.org/generated/seaborn.boxplot.html"
      ],
      "metadata": {
        "id": "oPbaXW_zrJQV"
      }
    },
    {
      "cell_type": "code",
      "source": [
        "# BEGIN SOLUTION\n",
        "\n",
        "\n",
        "# END SOLUTION"
      ],
      "metadata": {
        "id": "ZiHjWePRqjKH"
      },
      "execution_count": null,
      "outputs": []
    },
    {
      "cell_type": "markdown",
      "source": [],
      "metadata": {
        "id": "F3WeYlfHsvA_"
      }
    },
    {
      "cell_type": "code",
      "source": [
        "# BEGIN SOLUTION\n",
        "\n",
        "# END SOLUTION"
      ],
      "metadata": {
        "id": "jQJAZHBirZNc"
      },
      "execution_count": null,
      "outputs": []
    },
    {
      "cell_type": "markdown",
      "source": [],
      "metadata": {
        "id": "d7O3eGnzvRG5"
      }
    },
    {
      "cell_type": "code",
      "source": [
        "# BEGIN SOLUTION\n",
        "\n",
        "# END SOLUTION"
      ],
      "metadata": {
        "id": "baaP0dlmtcji"
      },
      "execution_count": null,
      "outputs": []
    },
    {
      "cell_type": "markdown",
      "source": [],
      "metadata": {
        "id": "Kf6N0-zqYv67"
      }
    },
    {
      "cell_type": "markdown",
      "source": [
        "#### C) Split the data into a training set and a test set (70%, 30%). Use `random.seed(4)` to make the training data reproducible.\n",
        "\n",
        "Link to linear model: https://scikit-learn.org/stable/modules/generated/sklearn.model_selection.train_test_split.html"
      ],
      "metadata": {
        "id": "hGlmf-ndZHQF"
      }
    },
    {
      "cell_type": "code",
      "source": [
        "# BEGIN SOLUTION\n",
        "\n",
        "\n",
        "# END SOLUTION"
      ],
      "metadata": {
        "id": "CycZtGPCvaxg"
      },
      "execution_count": null,
      "outputs": []
    },
    {
      "cell_type": "markdown",
      "source": [
        "#### d) Perform LDA on the training data in order to predict `mpg01` using the variables that seemed most associated with `mpg01` in (b). What is the test error of the model obtained?\n",
        "\n"
      ],
      "metadata": {
        "id": "RYRqkRgIbdFC"
      }
    },
    {
      "cell_type": "code",
      "source": [
        "# BEGIN SOLUTION\n",
        "\n",
        "\n",
        "# END SOLUTION"
      ],
      "metadata": {
        "id": "IECqY3KnZR70"
      },
      "execution_count": null,
      "outputs": []
    },
    {
      "cell_type": "code",
      "source": [
        "# BEGIN SOLUTION\n",
        "\n",
        "# END SOLUTION"
      ],
      "metadata": {
        "id": "R1pZIK7FcoUx"
      },
      "execution_count": null,
      "outputs": []
    },
    {
      "cell_type": "code",
      "source": [
        "# BEGIN SOLUTION\n",
        "\n",
        "# END SOLUTION"
      ],
      "metadata": {
        "id": "Q23tm87ndPg5"
      },
      "execution_count": null,
      "outputs": []
    },
    {
      "cell_type": "code",
      "source": [
        "# BEGIN SOLUTION\n",
        "\n",
        "# END SOLUTION"
      ],
      "metadata": {
        "id": "MM8NTb1idR1d"
      },
      "execution_count": null,
      "outputs": []
    },
    {
      "cell_type": "code",
      "source": [
        "# BEGIN SOLUTION\n",
        "\n",
        "# END SOLUTION"
      ],
      "metadata": {
        "id": "p_FNyZbzdX35"
      },
      "execution_count": null,
      "outputs": []
    },
    {
      "cell_type": "code",
      "source": [
        "# BEGIN SOLUTION\n",
        "\n",
        "# END SOLUTION"
      ],
      "metadata": {
        "id": "C7yG-_6ldasB"
      },
      "execution_count": null,
      "outputs": []
    },
    {
      "cell_type": "markdown",
      "source": [
        "#### e) Perform QDA on the training data in order to predict `mpg01` using the variables that seemed most associated with `mpg01` in (b). What is the test error of the model obtained?\n"
      ],
      "metadata": {
        "id": "NyXIF3SNeoAG"
      }
    },
    {
      "cell_type": "code",
      "source": [
        "# BEGIN SOLUTION\n",
        "\n",
        "# END SOLUTION"
      ],
      "metadata": {
        "id": "KOIXdbJ0dkIR"
      },
      "execution_count": null,
      "outputs": []
    },
    {
      "cell_type": "code",
      "source": [
        " # BEGIN SOLUTION\n",
        "\n",
        "\n",
        "\n",
        "# END SOLUTION"
      ],
      "metadata": {
        "id": "iWKJQRpOetKw"
      },
      "execution_count": null,
      "outputs": []
    },
    {
      "cell_type": "markdown",
      "source": [],
      "metadata": {
        "id": "xaa3qk66e8Vo"
      }
    },
    {
      "cell_type": "code",
      "source": [
        "# BEGIN SOLUTION\n",
        "\n",
        "# END SOLUTION"
      ],
      "metadata": {
        "id": "z9q_MPmCfDwP"
      },
      "execution_count": null,
      "outputs": []
    },
    {
      "cell_type": "code",
      "source": [
        "# BEGIN SOLUTION\n",
        "\n",
        "# END SOLUTION"
      ],
      "metadata": {
        "id": "cpjsT1c1fGzk"
      },
      "execution_count": null,
      "outputs": []
    },
    {
      "cell_type": "markdown",
      "source": [],
      "metadata": {
        "id": "QwbzyCtIfbI5"
      }
    },
    {
      "cell_type": "markdown",
      "source": [
        "#### f) Perform logistic regression on the training data in order to predict `mpg01` using the variables that seemed most associated with `mpg01` in (b). What is the test error of the model obtained?\n",
        "\n",
        "Link to linear model: https://scikit-learn.org/stable/modules/generated/sklearn.linear_model.LogisticRegression.html\n"
      ],
      "metadata": {
        "id": "9KCO89nplgOU"
      }
    },
    {
      "cell_type": "code",
      "source": [
        "# BEGIN SOLUTION\n",
        "\n",
        "# END SOLUTION"
      ],
      "metadata": {
        "id": "PeOi6YwKfKG7"
      },
      "execution_count": null,
      "outputs": []
    },
    {
      "cell_type": "markdown",
      "source": [],
      "metadata": {
        "id": "UytSwbSPmMHz"
      }
    },
    {
      "cell_type": "code",
      "source": [
        "# BEGIN SOLUTION\n",
        "\n",
        "# END SOLUTION"
      ],
      "metadata": {
        "id": "SCj3McKemP3b"
      },
      "execution_count": null,
      "outputs": []
    },
    {
      "cell_type": "code",
      "source": [
        "# BEGIN SOLUTION\n",
        "\n",
        "# END SOLUTION"
      ],
      "metadata": {
        "id": "5rCKJiPrmdeY"
      },
      "execution_count": null,
      "outputs": []
    },
    {
      "cell_type": "markdown",
      "source": [],
      "metadata": {
        "id": "p2NqzvucQJTw"
      }
    }
  ]
}