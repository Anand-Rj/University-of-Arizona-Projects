{
  "cells": [
    {
      "cell_type": "markdown",
      "metadata": {
        "id": "RztTuHNRd1-a"
      },
      "source": [
        "# WEEK2: Resampling Methods"
      ]
    },
    {
      "cell_type": "markdown",
      "metadata": {
        "id": "G4ZhCI5PJtrO"
      },
      "source": [
        "# Objective"
      ]
    },
    {
      "cell_type": "markdown",
      "metadata": {
        "id": "3a2z43jfJwUY"
      },
      "source": [
        "This homework sheet will help reviewing the basic concepts associated with model selection and regularization. Please review the lectures, suggested readings, and additional resources _before_ getting started on the HW."
      ]
    },
    {
      "cell_type": "markdown",
      "metadata": {
        "id": "iwhWEDxUeICJ"
      },
      "source": [
        "**Some questions in this assignment will require you to conduct independent research beyond the material covered in the recorded content.**"
      ]
    },
    {
      "cell_type": "markdown",
      "metadata": {
        "id": "UrLG-psXJ7Rw"
      },
      "source": [
        "**Questions**\n",
        "\n",
        " This homework is divided into two main parts. First, a conceptual component will review the basic concepts related to resampling. The second part of the homework is mostly intended to be a brief introduction to regularization methods and resampling in python . Several of these questions are modified from James et al. (2021)."
      ]
    },
    {
      "cell_type": "markdown",
      "metadata": {
        "id": "PmqLj5qMeQdT"
      },
      "source": [
        "Marks Distribution"
      ]
    },
    {
      "cell_type": "markdown",
      "metadata": {
        "id": "TyEe9srieW8r"
      },
      "source": [
        "| Question      | Marks |\n",
        "| ----------- | ----------- |\n",
        "| Q1a    | 1     |\n",
        "| Q1b    | 0.50      |\n",
        "| Q1c   | 1      |\n",
        "| Q1d     | 0.50      |\n",
        "| Q1e     | 0.50     |\n",
        "| Q1f    | 0.50    |\n",
        "| Q2a    | 1     |\n",
        "| Q2b    | 1      |\n",
        "| Q2c   | 1      |\n",
        "| Q2d     | 1      |\n",
        "| Q3a   | 1    |\n",
        "| Q3b     | 1      |\n",
        "| Q4     | 1      |\n",
        "| Q5a    | 1    |\n",
        "| Q5b    | 1     |\n",
        "| Q5c   | 1     |\n",
        "| Q5d     | 1      |"
      ]
    },
    {
      "cell_type": "markdown",
      "metadata": {
        "id": "HSAHcEeQJ9Fs"
      },
      "source": [
        "# Conceptual"
      ]
    },
    {
      "cell_type": "markdown",
      "metadata": {
        "id": "dhRS_zVwKM8m"
      },
      "source": [
        "##  Q1. We will derive the probability that a given observation is part of a bootstrap sample. Suppose that we obtain a bootstrap sample from a set of `n` observations. **Please note that samples are obtained with replacement**."
      ]
    },
    {
      "cell_type": "markdown",
      "metadata": {
        "id": "7gy8fX2tpS79"
      },
      "source": [
        "### a) What is the probability that the first bootstrap observation is not the $jth$ observation from the original sample? Justify your answer."
      ]
    },
    {
      "cell_type": "markdown",
      "metadata": {
        "id": "V2wd-2DJuYJX"
      },
      "source": [
        "While getting the bootstrap sample with replacement the probability that the first observation in the bootstrap sample is not the jth observation from the original dataset is simply 1 - P as first observation is jth.\n",
        "\n",
        "Since each observation in the original dataset has an equal chance of being selected first the probability of being the jth observation is 1 divided by the total number of observations that is n.\n",
        "\n",
        "Hence the probability that it is not the jth observation is 1 - 1/n."
      ]
    },
    {
      "cell_type": "markdown",
      "metadata": {
        "id": "ekeUZKAaufvk"
      },
      "source": [
        "### b) What is the probability that the second bootstrap observation is not the $jth$ observation from the original sample?\n",
        "\n"
      ]
    },
    {
      "cell_type": "markdown",
      "metadata": {
        "id": "N-j_koZDrvhz"
      },
      "source": [
        "While getting the bootstrap sample with replacement the probability that the second observation in the bootstrap sample is not the 𝑗𝑡ℎ observation from the original dataset is the same as it is with the probability for the first observation which is 1 - 1/n.\n",
        "\n",
        "The order of selection in a bootstrap sample doesn't affect this probability, so it remains 1 - 1/n."
      ]
    },
    {
      "cell_type": "markdown",
      "metadata": {
        "id": "w7XSUDdGulBi"
      },
      "source": [
        "###  c) Argue that the probability that the $jth$ observation is not in the bootstrap sample is $(1 − 1/n)^n$."
      ]
    },
    {
      "cell_type": "markdown",
      "metadata": {
        "id": "oVkgOBX_tDDq"
      },
      "source": [
        "The probability of the 𝑗𝑡ℎ observation not being in the bootstrap sample can be explained using the following logic:\n",
        "\n",
        "Initially, for the first observation in the bootstrap sample, there's a probability of (1 - 1/n) that it will not be selected, indicating it is excluded from the bootstrap sample.\n",
        "\n",
        "Similarly, for the second observation, there's also a (1 - 1/n) probability of it not being included in the bootstrap sample.\n",
        "\n",
        "This process repeats for all n observations in the original sample, with each having a (1 - 1/n) probability of being absent from the bootstrap sample.\n",
        "\n",
        "To determine the collective probability that none of the n observations are in the bootstrap sample, we multiply these individual probabilities together because they are independent.\n",
        "\n",
        "Thus, the probability that the 𝑗𝑡ℎ observation is not in the bootstrap sample is calculated as (1 - 1/n) raised to the power of n, which is denoted as (1 - 1/n)^n. This concept is a fundamental aspect of probability known as the \"complement rule.\""
      ]
    },
    {
      "cell_type": "markdown",
      "metadata": {
        "id": "dc370xrFupXo"
      },
      "source": [
        "###  d) When `n = 5`, what is the probability that the $jth$ observation is in the bootstrap sample?"
      ]
    },
    {
      "cell_type": "markdown",
      "metadata": {
        "id": "J5juavMztOI7"
      },
      "source": [
        "The probability of the jth observation not being in the bootstrap sample, also known as the complement probability, can be calculated as follows: Complement Probability = (1 - 1/5)^5 = 0.327.\n",
        "\n",
        "To determine the probability of the jth observation being in the bootstrap sample, simply subtract the complement probability from 1: Probability(jth observation is in the bootstrap sample) = 1 - 0.327 = 0.672.\n",
        "\n",
        "Therefore, for a sample size of n = 5, the probability that the jth observation is in the bootstrap sample is approximately 0.672 or 67.2%."
      ]
    },
    {
      "cell_type": "markdown",
      "metadata": {
        "id": "hgp34gdCkzRb"
      },
      "source": [
        "### e) When `n = 100`, what is the probability that the $jth$ observation is in the bootstrap sample?"
      ]
    },
    {
      "cell_type": "markdown",
      "metadata": {
        "id": "uFx80ZiUrNOl"
      },
      "source": [
        "The probability of the jth observation not being in the bootstrap sample, also known as the complement probability, can be calculated as follows: Complement Probability = (1 - 1/100)^100 = 0.366.\n",
        "\n",
        "To determine the probability of the jth observation being in the bootstrap sample, simply subtract the complement probability from 1: Probability(jth observation is in the bootstrap sample) = 1 - 0.366 = 0.634.\n",
        "\n",
        "Therefore, for a sample size of n = 100, the probability that the jth observation is in the bootstrap sample is approximately 0.634 or 63.4%.\n"
      ]
    },
    {
      "cell_type": "markdown",
      "metadata": {
        "id": "Fml00xhEr1t-"
      },
      "source": [
        "### f) When `n = 1000`, what is the probability that the $jth$ observation is in the bootstrap sample?\n"
      ]
    },
    {
      "cell_type": "markdown",
      "metadata": {
        "id": "9Jtododpr8GH"
      },
      "source": [
        "The probability of the jth observation not being in the bootstrap sample, also known as the complement probability, can be calculated as follows: Complement Probability = (1 - 1/1000)^1000 = 0.368.\n",
        "\n",
        "To determine the probability of the jth observation being in the bootstrap sample, simply subtract the complement probability from 1: Probability(jth observation is in the bootstrap sample) = 1 - 0.368 = 0.632.\n",
        "\n",
        "Therefore, for a sample size of n = 1000, the probability that the jth observation is in the bootstrap sample is approximately 0.632 or 63.2%.\n"
      ]
    },
    {
      "cell_type": "markdown",
      "metadata": {
        "id": "xnw4bPR4uQgy"
      },
      "source": [
        "## Q2)\n",
        "The following questions are relative to k-fold cross-validation."
      ]
    },
    {
      "cell_type": "markdown",
      "metadata": {
        "id": "L_KugOLmuuH7"
      },
      "source": [
        "### a) Explain how k-fold cross-validation is implemented.\n"
      ]
    },
    {
      "cell_type": "markdown",
      "metadata": {
        "id": "hA1M81a-uAQV"
      },
      "source": [
        "K-fold cross-validation involves breaking the dataset into k subsets.\n",
        "\n",
        "While each iteration one of these subsets serves as the validation set while the other are training.\n",
        "\n",
        "The model is trained and evaluated k times and performance metrics are collected for each iteration.\n",
        "\n",
        "The final performance metric is the average of these values which provides a more reliable assessment of the models generalization ability and minimizes the impact of random data splitting.\n",
        "\n",
        "This technique helps in analyzing how well the model is expected to perform on new and unknown data and can uncover overfitting issues."
      ]
    },
    {
      "cell_type": "markdown",
      "metadata": {
        "id": "0mWYYql2uVOV"
      },
      "source": [
        "### b) How would you choose the analyzed k? Does that matter?"
      ]
    },
    {
      "cell_type": "markdown",
      "metadata": {
        "id": "h92wGq8qxRaK"
      },
      "source": [
        "The choice of the \"k\" value in k-fold cross-validation is important and depends on various factors.\n",
        "\n",
        "The following steps can be followed to decide upon the KFCV:\n",
        "\n",
        "**Size of the Data:** While using small dataset it is better to use a larger \"k\" to make sure each fold has enough data.\n",
        "\n",
        "**Computational Resources:** Larger \"k\" values require more time and computational power. When the  resources are limited one might prefer a smaller \"k\".\n",
        "\n",
        "**Balancing Act:** Larger \"k\" values reduce bias but increase variance while smaller \"k\" values do the opposite. Usually it is better to go with k=10 because it balances these factors.\n",
        "\n",
        "**Nature of the Data:** If our data has an order we make sure to maintain that order in each fold. During which using techniques like time series cross-validation.\n",
        "\n",
        "**Statistical Significance:** One require more statistically important results a larger \"k\" can help because it tests the model on a wider range of data.\n",
        "\n",
        "The choice of \"k\" have an impact on the output. It can affect how well our model performs. It is best practice to experiment with different \"k\" values to see which one is the best for our specific scenario.\n"
      ]
    },
    {
      "cell_type": "markdown",
      "metadata": {
        "id": "7_mY8zwiyr0a"
      },
      "source": [
        "### c) What are the advantages and disadvantages of k-fold cross-validation relative to: *The validation set* approach?\n"
      ]
    },
    {
      "cell_type": "markdown",
      "metadata": {
        "id": "9hQ1d-2fxsCB"
      },
      "source": [
        "Advantages of K-fold Cross-Validation:\n",
        "\n",
        "- K-fold cross-validation optimally utilizes data for evaluation, offering a stable estimation of a model's performance.\n",
        "- It provides a thorough assessment by testing the model on different combinations of training and validation data.\n",
        "- All data points are utilized in various folds, minimizing data wastage.\n",
        "\n",
        "Drawbacks of K-fold Cross-Validation:\n",
        "\n",
        "- It can be computationally hard especially with numerous folds or large datasets.\n",
        "- Implementation of K-fold cross-validation may require more intricate programming.\n",
        "\n",
        "Advantages of the Validation Set Approach:\n",
        "\n",
        "- The validation set approach is straightforward to grasp and computationally efficient.\n",
        "- It is suitable for scenarios involving extensive datasets or limited computational capabilities.\n",
        "\n",
        "Disadvantages of the Validation Set Approach:\n",
        "\n",
        "- Performance estimates can significantly differ based on a single random data split, leading to higher variability.\n",
        "- A substantial portion of the data is set aside for validation, which might not be ideal with limited data.\n",
        "- The evaluation might not accurately represent the model's actual performance due to bias from a specific random split.\n",
        "\n",
        "Therefore, while K-fold cross-validation delivers a robust and comprehensive evaluation of model performance, the validation set approach is simpler and computationally efficient but may produce more variable performance estimates. The choice between them should consider our objectives, dataset size, and available resources."
      ]
    },
    {
      "cell_type": "markdown",
      "metadata": {
        "id": "VS2s6Jz23i5d"
      },
      "source": [
        "### d)  What are the advantages and disadvantages of k-fold cross-validation relative to: *LOOCV*?"
      ]
    },
    {
      "cell_type": "markdown",
      "metadata": {
        "id": "FGYQZ87y729n"
      },
      "source": [
        "**Advantages of KFCV Over LOOCV:**\n",
        "\n",
        "KFCV is less influenced by individual data points making it a more strong option when some data points have a significant impact on the model's performance.\n",
        "\n",
        "KFCV is faster when handling with large datasets because it will not require as many iterations as LOOCV which can be very slow or lagged due to its one iteration per data point approach.\n",
        "\n",
        "KFCV tends to provide more reliable performance estimates because it averages results from multiple validation sets reducing variability.\n",
        "LOOCV can be more sensitive to outliers or peculiar data points.\n",
        "\n",
        "**Disadvantages of KFCV Compared to LOOCV:**\n",
        "\n",
        "KFCV will not useful at detecting model bias because it doesn't push the model as hard as LOOCV whereas LOOCV does by training on nearly all data points individually can reveal bias issues more clearly when compared with KFCV.\n",
        "\n",
        "**Advantages of LOOCV Over KFCV:**\n",
        "\n",
        "LOOCV is great in identifying bias in a model. It rigorously tests the model's performance by leaving out one data point at a time making it a robust tool for bias detection.\n",
        "\n",
        "**Disadvantages of LOOCV Compared to KFCV:**\n",
        "\n",
        "LOOCV collects more variable performance estimates due to its sensitivity to the specific data point carried out in each iteration.\n",
        "\n",
        "LOOCV is computationally intensive and can be slow especially with huge datasets as it requires many iterations. KFCV is faster because it divides the data into lesser subsets.\n",
        "\n",
        "\n",
        "\n",
        "So therefore KFCV is a practical choice for offering efficiency, stable averages, and lower sensitivity to individual data points.\n",
        "\n",
        "LOOCV is best suited in bias detection but is computationally expensive and can result in more variable performance estimates.\n"
      ]
    },
    {
      "cell_type": "markdown",
      "metadata": {
        "id": "5HVFDHDqS5dT"
      },
      "source": [
        "# Applied"
      ]
    },
    {
      "cell_type": "markdown",
      "metadata": {
        "id": "vZxb-dffwoc7"
      },
      "source": [
        "We have to use college dataset to answer the questions given in the notebook"
      ]
    },
    {
      "cell_type": "markdown",
      "metadata": {
        "id": "08u7KItt3nTz"
      },
      "source": [
        "## Q3)"
      ]
    },
    {
      "cell_type": "markdown",
      "metadata": {
        "id": "QPXoXSVpNE5c"
      },
      "source": [
        "### a) What is the following code supposed to do?"
      ]
    },
    {
      "cell_type": "code",
      "execution_count": 2,
      "metadata": {
        "id": "pv3RUA5OrUqK",
        "colab": {
          "base_uri": "https://localhost:8080/"
        },
        "outputId": "03db5448-556e-469b-cc75-c71f997d12c8"
      },
      "outputs": [
        {
          "output_type": "stream",
          "name": "stdout",
          "text": [
            "[18.90941334  0.06392184  0.06529567  0.06645944  0.06635131  0.06711744\n",
            "  0.06887067  0.06992106  0.07416099  0.08925889]\n",
            "[0.2704315  0.00074919 0.0010154  0.00124199 0.00088693 0.00130226\n",
            " 0.00204394 0.00160397 0.00287653 0.00666339]\n"
          ]
        }
      ],
      "source": [
        "import numpy as np\n",
        "import pandas as pd\n",
        "from sklearn.linear_model import LinearRegression\n",
        "from sklearn.preprocessing import PolynomialFeatures\n",
        "from sklearn.model_selection import KFold\n",
        "import matplotlib.pyplot as plt\n",
        "\n",
        "# Define constants\n",
        "N = 100\n",
        "ORDER = 2\n",
        "N_FOLDS = 20\n",
        "POLY_DEGREE = np.arange(1, 11)\n",
        "N_REPLICATES = 10\n",
        "\n",
        "# Set random seed for reproducibility\n",
        "np.random.seed(123)\n",
        "\n",
        "# Generate simulated data\n",
        "x = np.random.uniform(low=-4, high=4, size=N)\n",
        "y = np.random.normal(loc=x**ORDER, scale=0.25, size=N)\n",
        "data = pd.DataFrame({'x': x, 'y': y})\n",
        "\n",
        "# Run multiple replicates and average the MSE estimates\n",
        "mse_estimates = np.zeros((N_REPLICATES, len(POLY_DEGREE)))\n",
        "for r in range(N_REPLICATES):\n",
        "    kf = KFold(n_splits=N_FOLDS, shuffle=True)\n",
        "    indices = [(train_index, test_index) for train_index, test_index in kf.split(data)]\n",
        "    for q_idx, q in enumerate(POLY_DEGREE):\n",
        "        y_hat = np.zeros(N)\n",
        "        for train_index, test_index in indices:\n",
        "            # Fit on K-1 folds\n",
        "            x_train, y_train = data.iloc[train_index]['x'], data.iloc[train_index]['y']\n",
        "            poly = PolynomialFeatures(degree=q)\n",
        "            x_train_poly = poly.fit_transform(x_train.values.reshape(-1, 1))\n",
        "            lin_reg = LinearRegression()\n",
        "            lin_reg.fit(x_train_poly, y_train)\n",
        "\n",
        "            # Predict on the kth fold\n",
        "            x_test = data.iloc[test_index]['x']\n",
        "            x_test_poly = poly.fit_transform(x_test.values.reshape(-1, 1))\n",
        "            y_hat[test_index] = lin_reg.predict(x_test_poly)\n",
        "\n",
        "        # Get the MSE estimate\n",
        "        mse_estimate = np.mean((y_hat - data['y'])**2)\n",
        "        mse_estimates[r, q_idx] = mse_estimate\n",
        "\n",
        "# Average the MSE estimates across replicates\n",
        "mse_mean = np.mean(mse_estimates, axis=0)\n",
        "mse_std = np.std(mse_estimates, axis=0)\n",
        "\n",
        "print(mse_mean)\n",
        "print(mse_std)"
      ]
    },
    {
      "cell_type": "markdown",
      "metadata": {
        "id": "DoI7d3EYj6L2"
      },
      "source": [
        "The code essentially performs polynomial regression for various polynomial degrees applies k-fold cross-validation to evaluate model performance and averages MSE estimates over multiple replicates. This process allows for the comparison of model performance for different polynomial degrees. The results are typically used to select the best polynomial degree that minimizes MSE.\n",
        "\n",
        "1.The required libraries are imported.\n",
        "\n",
        "2.The constants are defined such as the number of data points (N), polynomial order (ORDER), number of folds for cross-validation (N_FOLDS),array of polynomial degrees (POLY_DEGREE) and the number of replicates (N_REPLICATES).\n",
        "\n",
        "3.The random seed is set for reproducibility of result.\n",
        "\n",
        "4.The data with a polynomial relationship between x and y with few randomness is added to the data is generated.\n",
        "\n",
        "5.Multiple replicates are run to examine various different polynomial degrees.\n",
        "\n",
        "6.K-fold is used to split the data into training and test sets for each replicate ensuring randomness in the process.\n",
        "\n",
        "7.There are different polynomial degrees specified in POLY_DEGREE are iterated over in a loop.\n",
        "\n",
        "8.A polynomial regression model is fitted to the training data (K-1 folds) and the test data (kth fold) is predicted using linear regression.\n",
        "\n",
        "9.The Mean Squared Error (MSE) between predicted values (y_hat) and actual target values (data['y']) for each degree is calculated.\n",
        "\n",
        "10.The computed MSE estimates for various polynomial degrees and replicates are stored in the mse_estimates array.\n",
        "\n",
        "11.The mean (mse_mean) and standard deviation (mse_std) of the MSE estimates across replicates for each polynomial degree are calculated."
      ]
    },
    {
      "cell_type": "markdown",
      "metadata": {
        "id": "aOwxNWf_NcOO"
      },
      "source": [
        " ### b) To the best of your knowledge, improve the structure, content, clarity, and reproducibility of the code presented before in \"part a\" of this question (e.g. would you run a single or multiple replicates?). Fix any mistakes (if you find any). Finally, generate at least two plots summarizing your findings regarding the best-fitting polynomial order on the simulated dataset (also from \"part a\"): (1) MSE vs polynomial order, and (2) x vs y, along with a plot of the selected model."
      ]
    },
    {
      "cell_type": "code",
      "execution_count": 3,
      "metadata": {
        "id": "lv3xMCqlqqaC",
        "colab": {
          "base_uri": "https://localhost:8080/",
          "height": 361
        },
        "outputId": "02a4a47e-9302-43d1-d2a7-7570289e9f34"
      },
      "outputs": [
        {
          "output_type": "display_data",
          "data": {
            "text/plain": [
              "<Figure size 1200x500 with 2 Axes>"
            ],
            "image/png": "[encoded data removed]"
          },
          "metadata": {}
        }
      ],
      "source": [
        "def generate_data(N, ORDER):\n",
        "    np.random.seed(123)\n",
        "    x = np.random.uniform(low=-4, high=4, size=N)\n",
        "    y = np.random.normal(loc=x**ORDER, scale=0.25, size=N)\n",
        "    data = pd.DataFrame({'x': x, 'y': y})\n",
        "    return data\n",
        "\n",
        "def run_polynomial_regression(data, POLY_DEGREE, N_FOLDS, N_REPLICATES):\n",
        "    mse_estimates = np.zeros((N_REPLICATES, len(POLY_DEGREE)))\n",
        "\n",
        "    for r in range(N_REPLICATES):\n",
        "        kf = KFold(n_splits=N_FOLDS, shuffle=True)\n",
        "        indices = [(train_index, test_index) for train_index, test_index in kf.split(data)]\n",
        "\n",
        "        for q_idx, q in enumerate(POLY_DEGREE):\n",
        "            y_hat = np.zeros(len(data))\n",
        "\n",
        "            for train_index, test_index in indices:\n",
        "                x_train, y_train = data.iloc[train_index]['x'], data.iloc[train_index]['y']\n",
        "                poly = PolynomialFeatures(degree=q)\n",
        "                x_train_poly = poly.fit_transform(x_train.values.reshape(-1, 1))\n",
        "                lin_reg = LinearRegression()\n",
        "                lin_reg.fit(x_train_poly, y_train)\n",
        "\n",
        "                x_test = data.iloc[test_index]['x']\n",
        "                x_test_poly = poly.fit_transform(x_test.values.reshape(-1, 1))\n",
        "                y_hat[test_index] = lin_reg.predict(x_test_poly)\n",
        "\n",
        "            mse_estimate = np.mean((y_hat - data['y'])**2)\n",
        "            mse_estimates[r, q_idx] = mse_estimate\n",
        "\n",
        "    mse_mean = np.mean(mse_estimates, axis=0)\n",
        "    mse_std = np.std(mse_estimates, axis=0)\n",
        "    return mse_mean, mse_std\n",
        "\n",
        "def plot_results(POLY_DEGREE, mse_mean, data, best_degree):\n",
        "    plt.figure(figsize=(12, 5))\n",
        "\n",
        "    # MSE vs Polynomial Order\n",
        "    plt.subplot(1, 2, 1)\n",
        "    plt.errorbar(POLY_DEGREE, mse_mean, yerr=mse_std, marker='o', linestyle='-', color='b')\n",
        "    plt.title(\"MSE vs Polynomial Order\")\n",
        "    plt.xlabel(\"Polynomial Order\")\n",
        "    plt.ylabel(\"Mean Squared Error\")\n",
        "\n",
        "    # Scatter plot of x vs. y with the selected model\n",
        "    plt.subplot(1, 2, 2)\n",
        "    plt.scatter(data['x'], data['y'], label=\"Data\", color='b')\n",
        "    poly = PolynomialFeatures(degree=best_degree)\n",
        "    x_poly = poly.fit_transform(data['x'].values.reshape(-1, 1))\n",
        "    lin_reg = LinearRegression()\n",
        "    lin_reg.fit(x_poly, data['y'])\n",
        "    y_pred = lin_reg.predict(x_poly)\n",
        "    plt.plot(data['x'], y_pred, color='r', label=f\"Polynomial Degree {best_degree} Model\")\n",
        "    plt.title(\"Scatter Plot of x vs. y with Best-Fitting Model\")\n",
        "    plt.xlabel(\"x\")\n",
        "    plt.ylabel(\"y\")\n",
        "    plt.legend()\n",
        "\n",
        "    plt.tight_layout()\n",
        "    plt.show()\n",
        "\n",
        "N = 100\n",
        "ORDER = 2\n",
        "N_FOLDS = 20\n",
        "POLY_DEGREE = np.arange(1, 11)\n",
        "N_REPLICATES = 10\n",
        "\n",
        "data = generate_data(N, ORDER)\n",
        "mse_mean, mse_std = run_polynomial_regression(data, POLY_DEGREE, N_FOLDS, N_REPLICATES)\n",
        "best_degree = POLY_DEGREE[np.argmin(mse_mean)]\n",
        "plot_results(POLY_DEGREE, mse_mean, data, best_degree)"
      ]
    },
    {
      "cell_type": "markdown",
      "metadata": {
        "id": "aMNw-qL6mKEH"
      },
      "source": [
        "## Q4) Bootstrap the following dataset (`n = 1000`) to obtain median and 95% CI (Confidence interval)for parameter estimates (slope and intercept) summarizing the relationship between `x` and `y_measured.` What happens with median parameter estimates when you examine `y` instead?"
      ]
    },
    {
      "cell_type": "code",
      "execution_count": 4,
      "metadata": {
        "id": "DJ11XwVw1qrm",
        "colab": {
          "base_uri": "https://localhost:8080/"
        },
        "outputId": "662dcd59-84fe-432b-9a75-572f972a10a2"
      },
      "outputs": [
        {
          "output_type": "stream",
          "name": "stdout",
          "text": [
            "Slope:\n",
            "Median: 1.2393478546195178\n",
            "95% CI: [0.82452111 1.67057881]\n",
            "Intercept:\n",
            "Median: -1.9067957220343121\n",
            "95% CI: [-2.09829841 -1.71291474]\n"
          ]
        }
      ],
      "source": [
        "import numpy as np\n",
        "from numpy.random import default_rng\n",
        "import scipy.stats as stats\n",
        "\n",
        "rng = default_rng(seed=1)\n",
        "nobs = 1000\n",
        "x = rng.normal(size=nobs)\n",
        "y = x - 2 * x**2\n",
        "y_measured = y + rng.normal(size=nobs)\n",
        "\n",
        "n_bootstrap_samples = 1000\n",
        "\n",
        "slope_estimates = []\n",
        "intercept_estimates = []\n",
        "\n",
        "for _ in range(n_bootstrap_samples):\n",
        "    bootstrap_indices = np.random.choice(nobs, size=nobs, replace=True)\n",
        "    bootstrap_sample_x = x[bootstrap_indices]\n",
        "    bootstrap_sample_y_measured = y_measured[bootstrap_indices]\n",
        "\n",
        "    X = bootstrap_sample_x.reshape(-1, 1)\n",
        "    y = bootstrap_sample_y_measured\n",
        "    model = LinearRegression()\n",
        "    model.fit(X, y)\n",
        "\n",
        "    slope_estimates.append(model.coef_[0])\n",
        "    intercept_estimates.append(model.intercept_)\n",
        "\n",
        "get_median_and_ci = lambda estimates: (np.median(estimates), np.percentile(estimates, [2.5, 97.5]))\n",
        "\n",
        "median_slope, ci_slope = get_median_and_ci(slope_estimates)\n",
        "median_intercept, ci_intercept = get_median_and_ci(intercept_estimates)\n",
        "\n",
        "print(\"Slope:\")\n",
        "print(\"Median:\", median_slope)\n",
        "print(\"95% CI:\", ci_slope)\n",
        "\n",
        "print(\"Intercept:\")\n",
        "print(\"Median:\", median_intercept)\n",
        "print(\"95% CI:\", ci_intercept)\n",
        "\n"
      ]
    },
    {
      "cell_type": "markdown",
      "metadata": {
        "id": "_skayhIR2F7g"
      },
      "source": [
        "The median slope is around 1.2393\n",
        "indicate moderate positive relationship between x and y_measured.\n",
        "\n",
        "The 95% confidence interval for the slope is between 0.82 and 1.67 shows us the likely range for true slope.\n",
        "\n",
        "The median intercept is approximately -1.90 shows that the value of y_measured when x is zero which is negative.\n",
        "\n",
        "The 95% confidence interval for the intercept ranges from about -2.09 to -1.71 representing the likely values for the true intercept.\n",
        "\n",
        "This values shows the linear relationship between x and y_measured and the associated uncertainty."
      ]
    },
    {
      "cell_type": "markdown",
      "metadata": {
        "id": "ddHcOis8CCoO"
      },
      "source": [
        "## Q5) We will predict the number of applications received using the other variables in the **College dataset.** Please load the relevant dataset first.\n"
      ]
    },
    {
      "cell_type": "markdown",
      "metadata": {
        "id": "musNGH4-p4lf"
      },
      "source": [
        "**Importing Libraries:**"
      ]
    },
    {
      "cell_type": "code",
      "execution_count": 5,
      "metadata": {
        "id": "zGevrqL04Lse"
      },
      "outputs": [],
      "source": [
        "#IMPORT LIBRARIES\n",
        "import pandas as pd\n",
        "import numpy as np"
      ]
    },
    {
      "cell_type": "markdown",
      "metadata": {
        "id": "hKnFyjcjpxm6"
      },
      "source": [
        "**Loading dataset:**"
      ]
    },
    {
      "cell_type": "code",
      "execution_count": 6,
      "metadata": {
        "id": "6-sWON49nV7D"
      },
      "outputs": [],
      "source": [
        "#READ AUTO.CSV DATASET\n",
        "df = pd.read_csv('data.csv')"
      ]
    },
    {
      "cell_type": "code",
      "execution_count": 7,
      "metadata": {
        "id": "tcRA2D78fLxO",
        "colab": {
          "base_uri": "https://localhost:8080/",
          "height": 226
        },
        "outputId": "ffbbe590-6253-49c1-e8b9-fb518294c99c"
      },
      "outputs": [
        {
          "output_type": "execute_result",
          "data": {
            "text/plain": [
              "  private  apps  accept  enroll  top10perc  top25perc  f_undergrad  \\\n",
              "0     Yes  1660    1232     721         23         52         2885   \n",
              "1     Yes  2186    1924     512         16         29         2683   \n",
              "2     Yes  1428    1097     336         22         50         1036   \n",
              "3     Yes   417     349     137         60         89          510   \n",
              "4     Yes   193     146      55         16         44          249   \n",
              "\n",
              "   p_undergrad  outstate  room_board  books  personal  phd  terminal  \\\n",
              "0          537      7440        3300    450      2200   70        78   \n",
              "1         1227     12280        6450    750      1500   29        30   \n",
              "2           99     11250        3750    400      1165   53        66   \n",
              "3           63     12960        5450    450       875   92        97   \n",
              "4          869      7560        4120    800      1500   76        72   \n",
              "\n",
              "   s_f_ratio  perc_alumni  expend  grad_rate  \n",
              "0       18.1           12    7041         60  \n",
              "1       12.2           16   10527         56  \n",
              "2       12.9           30    8735         54  \n",
              "3        7.7           37   19016         59  \n",
              "4       11.9            2   10922         15  "
            ],
            "text/html": [
              "\n",
              "  <div id=\"df-ef68107f-5d3c-485e-a340-98071462b005\" class=\"colab-df-container\">\n",
              "    <div>\n",
              "<style scoped>\n",
              "    .dataframe tbody tr th:only-of-type {\n",
              "        vertical-align: middle;\n",
              "    }\n",
              "\n",
              "    .dataframe tbody tr th {\n",
              "        vertical-align: top;\n",
              "    }\n",
              "\n",
              "    .dataframe thead th {\n",
              "        text-align: right;\n",
              "    }\n",
              "</style>\n",
              "<table border=\"1\" class=\"dataframe\">\n",
              "  <thead>\n",
              "    <tr style=\"text-align: right;\">\n",
              "      <th></th>\n",
              "      <th>private</th>\n",
              "      <th>apps</th>\n",
              "      <th>accept</th>\n",
              "      <th>enroll</th>\n",
              "      <th>top10perc</th>\n",
              "      <th>top25perc</th>\n",
              "      <th>f_undergrad</th>\n",
              "      <th>p_undergrad</th>\n",
              "      <th>outstate</th>\n",
              "      <th>room_board</th>\n",
              "      <th>books</th>\n",
              "      <th>personal</th>\n",
              "      <th>phd</th>\n",
              "      <th>terminal</th>\n",
              "      <th>s_f_ratio</th>\n",
              "      <th>perc_alumni</th>\n",
              "      <th>expend</th>\n",
              "      <th>grad_rate</th>\n",
              "    </tr>\n",
              "  </thead>\n",
              "  <tbody>\n",
              "    <tr>\n",
              "      <th>0</th>\n",
              "      <td>Yes</td>\n",
              "      <td>1660</td>\n",
              "      <td>1232</td>\n",
              "      <td>721</td>\n",
              "      <td>23</td>\n",
              "      <td>52</td>\n",
              "      <td>2885</td>\n",
              "      <td>537</td>\n",
              "      <td>7440</td>\n",
              "      <td>3300</td>\n",
              "      <td>450</td>\n",
              "      <td>2200</td>\n",
              "      <td>70</td>\n",
              "      <td>78</td>\n",
              "      <td>18.1</td>\n",
              "      <td>12</td>\n",
              "      <td>7041</td>\n",
              "      <td>60</td>\n",
              "    </tr>\n",
              "    <tr>\n",
              "      <th>1</th>\n",
              "      <td>Yes</td>\n",
              "      <td>2186</td>\n",
              "      <td>1924</td>\n",
              "      <td>512</td>\n",
              "      <td>16</td>\n",
              "      <td>29</td>\n",
              "      <td>2683</td>\n",
              "      <td>1227</td>\n",
              "      <td>12280</td>\n",
              "      <td>6450</td>\n",
              "      <td>750</td>\n",
              "      <td>1500</td>\n",
              "      <td>29</td>\n",
              "      <td>30</td>\n",
              "      <td>12.2</td>\n",
              "      <td>16</td>\n",
              "      <td>10527</td>\n",
              "      <td>56</td>\n",
              "    </tr>\n",
              "    <tr>\n",
              "      <th>2</th>\n",
              "      <td>Yes</td>\n",
              "      <td>1428</td>\n",
              "      <td>1097</td>\n",
              "      <td>336</td>\n",
              "      <td>22</td>\n",
              "      <td>50</td>\n",
              "      <td>1036</td>\n",
              "      <td>99</td>\n",
              "      <td>11250</td>\n",
              "      <td>3750</td>\n",
              "      <td>400</td>\n",
              "      <td>1165</td>\n",
              "      <td>53</td>\n",
              "      <td>66</td>\n",
              "      <td>12.9</td>\n",
              "      <td>30</td>\n",
              "      <td>8735</td>\n",
              "      <td>54</td>\n",
              "    </tr>\n",
              "    <tr>\n",
              "      <th>3</th>\n",
              "      <td>Yes</td>\n",
              "      <td>417</td>\n",
              "      <td>349</td>\n",
              "      <td>137</td>\n",
              "      <td>60</td>\n",
              "      <td>89</td>\n",
              "      <td>510</td>\n",
              "      <td>63</td>\n",
              "      <td>12960</td>\n",
              "      <td>5450</td>\n",
              "      <td>450</td>\n",
              "      <td>875</td>\n",
              "      <td>92</td>\n",
              "      <td>97</td>\n",
              "      <td>7.7</td>\n",
              "      <td>37</td>\n",
              "      <td>19016</td>\n",
              "      <td>59</td>\n",
              "    </tr>\n",
              "    <tr>\n",
              "      <th>4</th>\n",
              "      <td>Yes</td>\n",
              "      <td>193</td>\n",
              "      <td>146</td>\n",
              "      <td>55</td>\n",
              "      <td>16</td>\n",
              "      <td>44</td>\n",
              "      <td>249</td>\n",
              "      <td>869</td>\n",
              "      <td>7560</td>\n",
              "      <td>4120</td>\n",
              "      <td>800</td>\n",
              "      <td>1500</td>\n",
              "      <td>76</td>\n",
              "      <td>72</td>\n",
              "      <td>11.9</td>\n",
              "      <td>2</td>\n",
              "      <td>10922</td>\n",
              "      <td>15</td>\n",
              "    </tr>\n",
              "  </tbody>\n",
              "</table>\n",
              "</div>\n",
              "    <div class=\"colab-df-buttons\">\n",
              "\n",
              "  <div class=\"colab-df-container\">\n",
              "    <button class=\"colab-df-convert\" onclick=\"convertToInteractive('df-ef68107f-5d3c-485e-a340-98071462b005')\"\n",
              "            title=\"Convert this dataframe to an interactive table.\"\n",
              "            style=\"display:none;\">\n",
              "\n",
              "  <svg xmlns=\"http://www.w3.org/2000/svg\" height=\"24px\" viewBox=\"0 -960 960 960\">\n",
              "    <path d=\"M120-120v-720h720v720H120Zm60-500h600v-160H180v160Zm220 220h160v-160H400v160Zm0 220h160v-160H400v160ZM180-400h160v-160H180v160Zm440 0h160v-160H620v160ZM180-180h160v-160H180v160Zm440 0h160v-160H620v160Z\"/>\n",
              "  </svg>\n",
              "    </button>\n",
              "\n",
              "  <style>\n",
              "    .colab-df-container {\n",
              "      display:flex;\n",
              "      gap: 12px;\n",
              "    }\n",
              "\n",
              "    .colab-df-convert {\n",
              "      background-color: #E8F0FE;\n",
              "      border: none;\n",
              "      border-radius: 50%;\n",
              "      cursor: pointer;\n",
              "      display: none;\n",
              "      fill: #1967D2;\n",
              "      height: 32px;\n",
              "      padding: 0 0 0 0;\n",
              "      width: 32px;\n",
              "    }\n",
              "\n",
              "    .colab-df-convert:hover {\n",
              "      background-color: #E2EBFA;\n",
              "      box-shadow: 0px 1px 2px rgba(60, 64, 67, 0.3), 0px 1px 3px 1px rgba(60, 64, 67, 0.15);\n",
              "      fill: #174EA6;\n",
              "    }\n",
              "\n",
              "    .colab-df-buttons div {\n",
              "      margin-bottom: 4px;\n",
              "    }\n",
              "\n",
              "    [theme=dark] .colab-df-convert {\n",
              "      background-color: #3B4455;\n",
              "      fill: #D2E3FC;\n",
              "    }\n",
              "\n",
              "    [theme=dark] .colab-df-convert:hover {\n",
              "      background-color: #434B5C;\n",
              "      box-shadow: 0px 1px 3px 1px rgba(0, 0, 0, 0.15);\n",
              "      filter: drop-shadow(0px 1px 2px rgba(0, 0, 0, 0.3));\n",
              "      fill: #FFFFFF;\n",
              "    }\n",
              "  </style>\n",
              "\n",
              "    <script>\n",
              "      const buttonEl =\n",
              "        document.querySelector('#df-ef68107f-5d3c-485e-a340-98071462b005 button.colab-df-convert');\n",
              "      buttonEl.style.display =\n",
              "        google.colab.kernel.accessAllowed ? 'block' : 'none';\n",
              "\n",
              "      async function convertToInteractive(key) {\n",
              "        const element = document.querySelector('#df-ef68107f-5d3c-485e-a340-98071462b005');\n",
              "        const dataTable =\n",
              "          await google.colab.kernel.invokeFunction('convertToInteractive',\n",
              "                                                    [key], {});\n",
              "        if (!dataTable) return;\n",
              "\n",
              "        const docLinkHtml = 'Like what you see? Visit the ' +\n",
              "          '<a target=\"_blank\" href=https://colab.research.google.com/notebooks/data_table.ipynb>data table notebook</a>'\n",
              "          + ' to learn more about interactive tables.';\n",
              "        element.innerHTML = '';\n",
              "        dataTable['output_type'] = 'display_data';\n",
              "        await google.colab.output.renderOutput(dataTable, element);\n",
              "        const docLink = document.createElement('div');\n",
              "        docLink.innerHTML = docLinkHtml;\n",
              "        element.appendChild(docLink);\n",
              "      }\n",
              "    </script>\n",
              "  </div>\n",
              "\n",
              "\n",
              "<div id=\"df-3acb56de-3b82-41e6-9191-9fb0d1c119c3\">\n",
              "  <button class=\"colab-df-quickchart\" onclick=\"quickchart('df-3acb56de-3b82-41e6-9191-9fb0d1c119c3')\"\n",
              "            title=\"Suggest charts\"\n",
              "            style=\"display:none;\">\n",
              "\n",
              "<svg xmlns=\"http://www.w3.org/2000/svg\" height=\"24px\"viewBox=\"0 0 24 24\"\n",
              "     width=\"24px\">\n",
              "    <g>\n",
              "        <path d=\"M19 3H5c-1.1 0-2 .9-2 2v14c0 1.1.9 2 2 2h14c1.1 0 2-.9 2-2V5c0-1.1-.9-2-2-2zM9 17H7v-7h2v7zm4 0h-2V7h2v10zm4 0h-2v-4h2v4z\"/>\n",
              "    </g>\n",
              "</svg>\n",
              "  </button>\n",
              "\n",
              "<style>\n",
              "  .colab-df-quickchart {\n",
              "      --bg-color: #E8F0FE;\n",
              "      --fill-color: #1967D2;\n",
              "      --hover-bg-color: #E2EBFA;\n",
              "      --hover-fill-color: #174EA6;\n",
              "      --disabled-fill-color: #AAA;\n",
              "      --disabled-bg-color: #DDD;\n",
              "  }\n",
              "\n",
              "  [theme=dark] .colab-df-quickchart {\n",
              "      --bg-color: #3B4455;\n",
              "      --fill-color: #D2E3FC;\n",
              "      --hover-bg-color: #434B5C;\n",
              "      --hover-fill-color: #FFFFFF;\n",
              "      --disabled-bg-color: #3B4455;\n",
              "      --disabled-fill-color: #666;\n",
              "  }\n",
              "\n",
              "  .colab-df-quickchart {\n",
              "    background-color: var(--bg-color);\n",
              "    border: none;\n",
              "    border-radius: 50%;\n",
              "    cursor: pointer;\n",
              "    display: none;\n",
              "    fill: var(--fill-color);\n",
              "    height: 32px;\n",
              "    padding: 0;\n",
              "    width: 32px;\n",
              "  }\n",
              "\n",
              "  .colab-df-quickchart:hover {\n",
              "    background-color: var(--hover-bg-color);\n",
              "    box-shadow: 0 1px 2px rgba(60, 64, 67, 0.3), 0 1px 3px 1px rgba(60, 64, 67, 0.15);\n",
              "    fill: var(--button-hover-fill-color);\n",
              "  }\n",
              "\n",
              "  .colab-df-quickchart-complete:disabled,\n",
              "  .colab-df-quickchart-complete:disabled:hover {\n",
              "    background-color: var(--disabled-bg-color);\n",
              "    fill: var(--disabled-fill-color);\n",
              "    box-shadow: none;\n",
              "  }\n",
              "\n",
              "  .colab-df-spinner {\n",
              "    border: 2px solid var(--fill-color);\n",
              "    border-color: transparent;\n",
              "    border-bottom-color: var(--fill-color);\n",
              "    animation:\n",
              "      spin 1s steps(1) infinite;\n",
              "  }\n",
              "\n",
              "  @keyframes spin {\n",
              "    0% {\n",
              "      border-color: transparent;\n",
              "      border-bottom-color: var(--fill-color);\n",
              "      border-left-color: var(--fill-color);\n",
              "    }\n",
              "    20% {\n",
              "      border-color: transparent;\n",
              "      border-left-color: var(--fill-color);\n",
              "      border-top-color: var(--fill-color);\n",
              "    }\n",
              "    30% {\n",
              "      border-color: transparent;\n",
              "      border-left-color: var(--fill-color);\n",
              "      border-top-color: var(--fill-color);\n",
              "      border-right-color: var(--fill-color);\n",
              "    }\n",
              "    40% {\n",
              "      border-color: transparent;\n",
              "      border-right-color: var(--fill-color);\n",
              "      border-top-color: var(--fill-color);\n",
              "    }\n",
              "    60% {\n",
              "      border-color: transparent;\n",
              "      border-right-color: var(--fill-color);\n",
              "    }\n",
              "    80% {\n",
              "      border-color: transparent;\n",
              "      border-right-color: var(--fill-color);\n",
              "      border-bottom-color: var(--fill-color);\n",
              "    }\n",
              "    90% {\n",
              "      border-color: transparent;\n",
              "      border-bottom-color: var(--fill-color);\n",
              "    }\n",
              "  }\n",
              "</style>\n",
              "\n",
              "  <script>\n",
              "    async function quickchart(key) {\n",
              "      const quickchartButtonEl =\n",
              "        document.querySelector('#' + key + ' button');\n",
              "      quickchartButtonEl.disabled = true;  // To prevent multiple clicks.\n",
              "      quickchartButtonEl.classList.add('colab-df-spinner');\n",
              "      try {\n",
              "        const charts = await google.colab.kernel.invokeFunction(\n",
              "            'suggestCharts', [key], {});\n",
              "      } catch (error) {\n",
              "        console.error('Error during call to suggestCharts:', error);\n",
              "      }\n",
              "      quickchartButtonEl.classList.remove('colab-df-spinner');\n",
              "      quickchartButtonEl.classList.add('colab-df-quickchart-complete');\n",
              "    }\n",
              "    (() => {\n",
              "      let quickchartButtonEl =\n",
              "        document.querySelector('#df-3acb56de-3b82-41e6-9191-9fb0d1c119c3 button');\n",
              "      quickchartButtonEl.style.display =\n",
              "        google.colab.kernel.accessAllowed ? 'block' : 'none';\n",
              "    })();\n",
              "  </script>\n",
              "</div>\n",
              "\n",
              "    </div>\n",
              "  </div>\n"
            ],
            "application/vnd.google.colaboratory.intrinsic+json": {
              "type": "dataframe",
              "variable_name": "df",
              "summary": "{\n  \"name\": \"df\",\n  \"rows\": 777,\n  \"fields\": [\n    {\n      \"column\": \"private\",\n      \"properties\": {\n        \"dtype\": \"category\",\n        \"num_unique_values\": 2,\n        \"samples\": [\n          \"No\",\n          \"Yes\"\n        ],\n        \"semantic_type\": \"\",\n        \"description\": \"\"\n      }\n    },\n    {\n      \"column\": \"apps\",\n      \"properties\": {\n        \"dtype\": \"number\",\n        \"std\": 3870,\n        \"min\": 81,\n        \"max\": 48094,\n        \"num_unique_values\": 711,\n        \"samples\": [\n          323,\n          1127\n        ],\n        \"semantic_type\": \"\",\n        \"description\": \"\"\n      }\n    },\n    {\n      \"column\": \"accept\",\n      \"properties\": {\n        \"dtype\": \"number\",\n        \"std\": 2451,\n        \"min\": 72,\n        \"max\": 26330,\n        \"num_unique_values\": 693,\n        \"samples\": [\n          689,\n          1623\n        ],\n        \"semantic_type\": \"\",\n        \"description\": \"\"\n      }\n    },\n    {\n      \"column\": \"enroll\",\n      \"properties\": {\n        \"dtype\": \"number\",\n        \"std\": 929,\n        \"min\": 35,\n        \"max\": 6392,\n        \"num_unique_values\": 581,\n        \"samples\": [\n          769,\n          223\n        ],\n        \"semantic_type\": \"\",\n        \"description\": \"\"\n      }\n    },\n    {\n      \"column\": \"top10perc\",\n      \"properties\": {\n        \"dtype\": \"number\",\n        \"std\": 17,\n        \"min\": 1,\n        \"max\": 96,\n        \"num_unique_values\": 82,\n        \"samples\": [\n          67,\n          23\n        ],\n        \"semantic_type\": \"\",\n        \"description\": \"\"\n      }\n    },\n    {\n      \"column\": \"top25perc\",\n      \"properties\": {\n        \"dtype\": \"number\",\n        \"std\": 19,\n        \"min\": 9,\n        \"max\": 100,\n        \"num_unique_values\": 89,\n        \"samples\": [\n          100,\n          65\n        ],\n        \"semantic_type\": \"\",\n        \"description\": \"\"\n      }\n    },\n    {\n      \"column\": \"f_undergrad\",\n      \"properties\": {\n        \"dtype\": \"number\",\n        \"std\": 4850,\n        \"min\": 139,\n        \"max\": 31643,\n        \"num_unique_values\": 714,\n        \"samples\": [\n          2649,\n          2997\n        ],\n        \"semantic_type\": \"\",\n        \"description\": \"\"\n      }\n    },\n    {\n      \"column\": \"p_undergrad\",\n      \"properties\": {\n        \"dtype\": \"number\",\n        \"std\": 1522,\n        \"min\": 1,\n        \"max\": 21836,\n        \"num_unique_values\": 566,\n        \"samples\": [\n          1344,\n          1552\n        ],\n        \"semantic_type\": \"\",\n        \"description\": \"\"\n      }\n    },\n    {\n      \"column\": \"outstate\",\n      \"properties\": {\n        \"dtype\": \"number\",\n        \"std\": 4023,\n        \"min\": 2340,\n        \"max\": 21700,\n        \"num_unique_values\": 640,\n        \"samples\": [\n          5764,\n          6995\n        ],\n        \"semantic_type\": \"\",\n        \"description\": \"\"\n      }\n    },\n    {\n      \"column\": \"room_board\",\n      \"properties\": {\n        \"dtype\": \"number\",\n        \"std\": 1096,\n        \"min\": 1780,\n        \"max\": 8124,\n        \"num_unique_values\": 553,\n        \"samples\": [\n          3392,\n          3150\n        ],\n        \"semantic_type\": \"\",\n        \"description\": \"\"\n      }\n    },\n    {\n      \"column\": \"books\",\n      \"properties\": {\n        \"dtype\": \"number\",\n        \"std\": 165,\n        \"min\": 96,\n        \"max\": 2340,\n        \"num_unique_values\": 122,\n        \"samples\": [\n          475,\n          670\n        ],\n        \"semantic_type\": \"\",\n        \"description\": \"\"\n      }\n    },\n    {\n      \"column\": \"personal\",\n      \"properties\": {\n        \"dtype\": \"number\",\n        \"std\": 677,\n        \"min\": 250,\n        \"max\": 6800,\n        \"num_unique_values\": 294,\n        \"samples\": [\n          250,\n          1000\n        ],\n        \"semantic_type\": \"\",\n        \"description\": \"\"\n      }\n    },\n    {\n      \"column\": \"phd\",\n      \"properties\": {\n        \"dtype\": \"number\",\n        \"std\": 16,\n        \"min\": 8,\n        \"max\": 103,\n        \"num_unique_values\": 78,\n        \"samples\": [\n          61,\n          70\n        ],\n        \"semantic_type\": \"\",\n        \"description\": \"\"\n      }\n    },\n    {\n      \"column\": \"terminal\",\n      \"properties\": {\n        \"dtype\": \"number\",\n        \"std\": 14,\n        \"min\": 24,\n        \"max\": 100,\n        \"num_unique_values\": 65,\n        \"samples\": [\n          43,\n          54\n        ],\n        \"semantic_type\": \"\",\n        \"description\": \"\"\n      }\n    },\n    {\n      \"column\": \"s_f_ratio\",\n      \"properties\": {\n        \"dtype\": \"number\",\n        \"std\": 3.958349135205549,\n        \"min\": 2.5,\n        \"max\": 39.8,\n        \"num_unique_values\": 173,\n        \"samples\": [\n          25.3,\n          14.0\n        ],\n        \"semantic_type\": \"\",\n        \"description\": \"\"\n      }\n    },\n    {\n      \"column\": \"perc_alumni\",\n      \"properties\": {\n        \"dtype\": \"number\",\n        \"std\": 12,\n        \"min\": 0,\n        \"max\": 64,\n        \"num_unique_values\": 61,\n        \"samples\": [\n          12,\n          11\n        ],\n        \"semantic_type\": \"\",\n        \"description\": \"\"\n      }\n    },\n    {\n      \"column\": \"expend\",\n      \"properties\": {\n        \"dtype\": \"number\",\n        \"std\": 5221,\n        \"min\": 3186,\n        \"max\": 56233,\n        \"num_unique_values\": 744,\n        \"samples\": [\n          17500,\n          13705\n        ],\n        \"semantic_type\": \"\",\n        \"description\": \"\"\n      }\n    },\n    {\n      \"column\": \"grad_rate\",\n      \"properties\": {\n        \"dtype\": \"number\",\n        \"std\": 17,\n        \"min\": 10,\n        \"max\": 118,\n        \"num_unique_values\": 81,\n        \"samples\": [\n          35,\n          60\n        ],\n        \"semantic_type\": \"\",\n        \"description\": \"\"\n      }\n    }\n  ]\n}"
            }
          },
          "metadata": {},
          "execution_count": 7
        }
      ],
      "source": [
        "#PERFORM PRE PROCESSING OF DATA IF REQUIRED ( OBSERVE THE DATASET AND ITS VALUES CAREFULLY)\n",
        "df.head(5)"
      ]
    },
    {
      "cell_type": "code",
      "source": [
        "df.info()"
      ],
      "metadata": {
        "colab": {
          "base_uri": "https://localhost:8080/"
        },
        "id": "2OhodEtERGZX",
        "outputId": "cd9e9349-223e-4232-f9cc-302de49044b3"
      },
      "execution_count": 8,
      "outputs": [
        {
          "output_type": "stream",
          "name": "stdout",
          "text": [
            "<class 'pandas.core.frame.DataFrame'>\n",
            "RangeIndex: 777 entries, 0 to 776\n",
            "Data columns (total 18 columns):\n",
            " #   Column       Non-Null Count  Dtype  \n",
            "---  ------       --------------  -----  \n",
            " 0   private      777 non-null    object \n",
            " 1   apps         777 non-null    int64  \n",
            " 2   accept       777 non-null    int64  \n",
            " 3   enroll       777 non-null    int64  \n",
            " 4   top10perc    777 non-null    int64  \n",
            " 5   top25perc    777 non-null    int64  \n",
            " 6   f_undergrad  777 non-null    int64  \n",
            " 7   p_undergrad  777 non-null    int64  \n",
            " 8   outstate     777 non-null    int64  \n",
            " 9   room_board   777 non-null    int64  \n",
            " 10  books        777 non-null    int64  \n",
            " 11  personal     777 non-null    int64  \n",
            " 12  phd          777 non-null    int64  \n",
            " 13  terminal     777 non-null    int64  \n",
            " 14  s_f_ratio    777 non-null    float64\n",
            " 15  perc_alumni  777 non-null    int64  \n",
            " 16  expend       777 non-null    int64  \n",
            " 17  grad_rate    777 non-null    int64  \n",
            "dtypes: float64(1), int64(16), object(1)\n",
            "memory usage: 109.4+ KB\n"
          ]
        }
      ]
    },
    {
      "cell_type": "markdown",
      "metadata": {
        "id": "jbzD19JRCPcq"
      },
      "source": [
        "### a) Split the data set into a training set and a test set."
      ]
    },
    {
      "cell_type": "code",
      "execution_count": 9,
      "metadata": {
        "id": "z2VPQlRTEFSx",
        "colab": {
          "base_uri": "https://localhost:8080/"
        },
        "outputId": "84751818-c4a0-4e70-fd9a-a8e755a53147"
      },
      "outputs": [
        {
          "output_type": "stream",
          "name": "stdout",
          "text": [
            "Training set shape: (621, 17) (621,)\n",
            "Test set shape: (156, 17) (156,)\n"
          ]
        }
      ],
      "source": [
        "# BEGIN SOLUTION\n",
        "from sklearn.model_selection import train_test_split\n",
        "from sklearn.preprocessing import LabelEncoder\n",
        "\n",
        "le = LabelEncoder()\n",
        "df['private'] = le.fit_transform(df['private'])\n",
        "X = df.drop('private', axis=1)\n",
        "y = df['private']\n",
        "X_train, X_test, y_train, y_test = train_test_split(X, y, test_size=0.2, random_state=42)\n",
        "\n",
        "print(\"Training set shape:\", X_train.shape, y_train.shape)\n",
        "print(\"Test set shape:\", X_test.shape, y_test.shape)\n",
        "# END SOLUTION"
      ]
    },
    {
      "cell_type": "markdown",
      "metadata": {
        "id": "edftCrWqf5uC"
      },
      "source": [
        "### b) Fit a linear model using least squares on the training set, and report the test error obtained.\n",
        "Link to linear model: https://scikit-learn.org/stable/modules/generated/sklearn.linear_model.LinearRegression.html\n"
      ]
    },
    {
      "cell_type": "code",
      "execution_count": 10,
      "metadata": {
        "id": "3Bob99XBf2p7",
        "colab": {
          "base_uri": "https://localhost:8080/"
        },
        "outputId": "c764fbc6-0c17-438b-9a2d-9ea25148005d"
      },
      "outputs": [
        {
          "output_type": "stream",
          "name": "stdout",
          "text": [
            "Test Error (mse): 0.08188770334710004\n"
          ]
        }
      ],
      "source": [
        "#BEGIN SOLUTION\n",
        "\n",
        "from sklearn.linear_model import LinearRegression\n",
        "from sklearn.metrics import mean_squared_error\n",
        "\n",
        "model = LinearRegression()\n",
        "# Fiting the model on the training data\n",
        "model.fit(X_train, y_train)\n",
        "# Predicting on the test set\n",
        "y_pred = model.predict(X_test)\n",
        "# Calculating the MSE\n",
        "test_error = mean_squared_error(y_test, y_pred)\n",
        "print(\"Test Error (mse):\", test_error)\n",
        "\n",
        "# END SOLUTION"
      ]
    },
    {
      "cell_type": "markdown",
      "metadata": {
        "id": "pdea7OyMhAw6"
      },
      "source": [
        "### c) Fit a ridge regression model on the training set, with $\\lambda$ chosen by cross-validation. Report the test error obtained.\n",
        "\n",
        "Link to ridge regresion : https://scikit-learn.org/stable/modules/generated/sklearn.linear_model.Ridge.html"
      ]
    },
    {
      "cell_type": "code",
      "execution_count": 11,
      "metadata": {
        "id": "_tl5cegudy_Q",
        "colab": {
          "base_uri": "https://localhost:8080/"
        },
        "outputId": "39b3f8b5-6dcf-4448-d53a-e4dbb6bff77b"
      },
      "outputs": [
        {
          "output_type": "stream",
          "name": "stdout",
          "text": [
            "Best Alpha chosen by cross-validation: 100.0\n",
            "Test Error (mse) with Ridge Regression: 0.08188885736464889\n"
          ]
        }
      ],
      "source": [
        "#BEGIN SOLUTION\n",
        "from sklearn.linear_model import RidgeCV\n",
        "# Creating a RidgeCV model with a range of alphas\n",
        "alphas = [0.01, 0.1, 1, 10, 100]\n",
        "ridge_cv = RidgeCV(alphas=alphas)\n",
        "# Fiting the RidgeCV model on the training data\n",
        "ridge_cv.fit(X_train, y_train)\n",
        "best_alpha = ridge_cv.alpha_\n",
        "print(\"Best Alpha chosen by cross-validation:\", best_alpha)\n",
        "# Calculating the test error (mse)\n",
        "y_pred = ridge_cv.predict(X_test)\n",
        "test_error = mean_squared_error(y_test, y_pred)\n",
        "print(\"Test Error (mse) with Ridge Regression:\", test_error)\n",
        "# END SOLUTION"
      ]
    },
    {
      "cell_type": "markdown",
      "metadata": {
        "id": "Q-Y4EBqihWnB"
      },
      "source": [
        "### d) Fit a lasso model on the training set, with $\\lambda$ chosen by cross-validation. Report the test error obtained, along with the number of non-zero coefficient estimates.\n",
        " Link to lasso :https://scikit-learn.org/0.15/modules/generated/sklearn.linear_model.Lasso.html"
      ]
    },
    {
      "cell_type": "code",
      "execution_count": 12,
      "metadata": {
        "id": "FA-uxEgIgOwL",
        "colab": {
          "base_uri": "https://localhost:8080/"
        },
        "outputId": "84254858-fa8c-4d6e-f0bc-c212a3acf27b"
      },
      "outputs": [
        {
          "output_type": "stream",
          "name": "stdout",
          "text": [
            "Best Alpha chosen by cross-validation: 0.01\n",
            "Test Error (mse) with Lasso Regression: 0.08175796032844726\n",
            "Number of Non-Zero Coefficients: 17\n"
          ]
        }
      ],
      "source": [
        "#BEGIN SOLUTION\n",
        "from sklearn.linear_model import LassoCV\n",
        "# creating a LassoCV model with alphas\n",
        "lasso_cv = LassoCV(alphas=[0.01, 0.1, 1, 10, 100], cv=5)\n",
        "# Fiting the LassoCV model on the training data\n",
        "lasso_cv.fit(X_train, y_train)\n",
        "best_alpha = lasso_cv.alpha_\n",
        "print(\"Best Alpha chosen by cross-validation:\", best_alpha)\n",
        "# Calculating the test error (mse)\n",
        "test_predictions = lasso_cv.predict(X_test)\n",
        "test_error = mean_squared_error(y_test, test_predictions)\n",
        "print(\"Test Error (mse) with Lasso Regression:\", test_error)\n",
        "non_zero_coefficients = np.sum(lasso_cv.coef_ != 0)\n",
        "print(\"Number of Non-Zero Coefficients:\", non_zero_coefficients)\n",
        "# END SOLUTION"
      ]
    },
    {
      "cell_type": "code",
      "source": [],
      "metadata": {
        "id": "jykP25IKR6_U"
      },
      "execution_count": null,
      "outputs": []
    }
  ],
  "metadata": {
    "colab": {
      "provenance": []
    },
    "kernelspec": {
      "display_name": "Python 3 (ipykernel)",
      "language": "python",
      "name": "python3"
    },
    "language_info": {
      "codemirror_mode": {
        "name": "ipython",
        "version": 3
      },
      "file_extension": ".py",
      "mimetype": "text/x-python",
      "name": "python",
      "nbconvert_exporter": "python",
      "pygments_lexer": "ipython3",
      "version": "3.9.12"
    }
  },
  "nbformat": 4,
  "nbformat_minor": 0
}