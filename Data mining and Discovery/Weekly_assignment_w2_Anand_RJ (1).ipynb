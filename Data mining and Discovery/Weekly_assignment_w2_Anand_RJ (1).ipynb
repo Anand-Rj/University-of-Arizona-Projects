{
  "cells": [
    {
      "cell_type": "markdown",
      "id": "c99bc0f4",
      "metadata": {
        "id": "c99bc0f4"
      },
      "source": [
        "# Week:2 Know your data"
      ]
    },
    {
      "cell_type": "markdown",
      "id": "17614dd2",
      "metadata": {
        "id": "17614dd2"
      },
      "source": [
        "### Objective:\n",
        "The objective of the assignment is to perform statistical analysis on a given data using python libraries and exploratory data analysis using data visualization techniques.\n",
        "\n",
        "We have to use Fatal Police Shooting Data to answer the questions given in this notebook."
      ]
    },
    {
      "cell_type": "markdown",
      "id": "94579906",
      "metadata": {
        "id": "94579906"
      },
      "source": [
        "### Fatal Police Shooting Data"
      ]
    },
    {
      "cell_type": "markdown",
      "id": "4fbb8326",
      "metadata": {
        "id": "4fbb8326"
      },
      "source": [
        "**About dataset**\\\n",
        "The dataset consists of following columns\n",
        "1. **id**                         : unqiue identifier of each victim\n",
        "2. **name**                       : name of a victim\n",
        "3. **date**                       : date on fatal shooting\n",
        "4. **manner_of_death**            : manner of death classification\n",
        "    * Shot\n",
        "    * Shot and Tasered\n",
        "5. **armed**                      : indicates that the victim was armed with some sort of implement that a police officer believed could inflict harm\n",
        "    * undetermined: it is not known whether or not the victim had a weapon\n",
        "    * unknown: the victim was armed, but it is not known what the object was\n",
        "    * unarmed: the victim was not armed\n",
        "6. **age**                        : age of victim\n",
        "7. **gender**                     : the gender of the victim. The Post identifies victims by the gender they identify with if reports indicate that it differs from their biological sex.\n",
        "    * M: Male\n",
        "    * F: Female\n",
        "    * None: Unknown\n",
        "8. **race**                       : race of victim\n",
        "    * W: White, non-Hispanic\n",
        "    * B: Black, non-Hispanic\n",
        "    * A: Asian\n",
        "    * N: Native American\n",
        "    * H: Hispanic\n",
        "    * O: Other\n",
        "    * None: unknown\n",
        "9. **city**                       : the municipality where the fatal shooting took place. Note that in some cases this field may contain a county name if a more specific municipality is unavailable or unknown.\n",
        "10. **state**                     : two-letter postal code abbreviation\n",
        "11. **signs_of_mental_illness**   : News reports have indicated the victim had a history of mental health issues, expressed suicidal intentions or was experiencing mental distress at the time of the shooting.\n",
        "12. **threat_level**              : These would include incidents where officers or others were shot at, threatened with a gun, attacked with other weapons or physical force, etc. The attack category is meant to flag the highest level of threat. The other and undetermined categories represent all remaining cases. Other includes many incidents where officers or others faced significant threats.\n",
        "13. **flee**                      : News reports have indicated the victim was moving away from officers\n",
        "    * Foot\n",
        "    * Car\n",
        "    * Not fleeing\n",
        "14. **body_camera**               : News reports have indicated an officer was wearing a body camera and it may have recorded some portion of the incident."
      ]
    },
    {
      "cell_type": "markdown",
      "id": "e14398de",
      "metadata": {
        "id": "e14398de"
      },
      "source": [
        "## Let's Begin"
      ]
    },
    {
      "cell_type": "code",
      "execution_count": 1,
      "id": "bbffb6a9",
      "metadata": {
        "id": "bbffb6a9"
      },
      "outputs": [],
      "source": [
        "# Install the libraries\n",
        "import pandas as pd\n",
        "import numpy as np\n",
        "import matplotlib.pyplot as plt\n",
        "import seaborn as sns\n",
        "%matplotlib inline"
      ]
    },
    {
      "cell_type": "code",
      "execution_count": 3,
      "id": "336383ca",
      "metadata": {
        "id": "336383ca",
        "outputId": "b3446e42-3439-46a1-b8bb-dde848501b9c",
        "colab": {
          "base_uri": "https://localhost:8080/",
          "height": 313
        }
      },
      "outputs": [
        {
          "output_type": "execute_result",
          "data": {
            "text/plain": [
              "   id                name        date   manner_of_death       armed   age  \\\n",
              "0   3          Tim Elliot  2015-01-02              shot         gun  53.0   \n",
              "1   4    Lewis Lee Lembke  2015-01-02              shot         gun  47.0   \n",
              "2   5  John Paul Quintero  2015-01-03  shot and Tasered     unarmed  23.0   \n",
              "3   8     Matthew Hoffman  2015-01-04              shot  toy weapon  32.0   \n",
              "4   9   Michael Rodriguez  2015-01-04              shot    nail gun  39.0   \n",
              "\n",
              "  gender race           city state  signs_of_mental_illness threat_level  \\\n",
              "0      M    A        Shelton    WA                     True       attack   \n",
              "1      M    W          Aloha    OR                    False       attack   \n",
              "2      M    H        Wichita    KS                    False        other   \n",
              "3      M    W  San Francisco    CA                     True       attack   \n",
              "4      M    H          Evans    CO                    False       attack   \n",
              "\n",
              "          flee  body_camera   age_categories  \n",
              "0  Not fleeing        False  Senior citizens  \n",
              "1  Not fleeing        False            Adult  \n",
              "2  Not fleeing        False            Youth  \n",
              "3  Not fleeing        False            Youth  \n",
              "4  Not fleeing        False            Adult  "
            ],
            "text/html": [
              "\n",
              "  <div id=\"df-d61fd0ea-4930-483f-8b86-b6437c4cc0b1\" class=\"colab-df-container\">\n",
              "    <div>\n",
              "<style scoped>\n",
              "    .dataframe tbody tr th:only-of-type {\n",
              "        vertical-align: middle;\n",
              "    }\n",
              "\n",
              "    .dataframe tbody tr th {\n",
              "        vertical-align: top;\n",
              "    }\n",
              "\n",
              "    .dataframe thead th {\n",
              "        text-align: right;\n",
              "    }\n",
              "</style>\n",
              "<table border=\"1\" class=\"dataframe\">\n",
              "  <thead>\n",
              "    <tr style=\"text-align: right;\">\n",
              "      <th></th>\n",
              "      <th>id</th>\n",
              "      <th>name</th>\n",
              "      <th>date</th>\n",
              "      <th>manner_of_death</th>\n",
              "      <th>armed</th>\n",
              "      <th>age</th>\n",
              "      <th>gender</th>\n",
              "      <th>race</th>\n",
              "      <th>city</th>\n",
              "      <th>state</th>\n",
              "      <th>signs_of_mental_illness</th>\n",
              "      <th>threat_level</th>\n",
              "      <th>flee</th>\n",
              "      <th>body_camera</th>\n",
              "      <th>age_categories</th>\n",
              "    </tr>\n",
              "  </thead>\n",
              "  <tbody>\n",
              "    <tr>\n",
              "      <th>0</th>\n",
              "      <td>3</td>\n",
              "      <td>Tim Elliot</td>\n",
              "      <td>2015-01-02</td>\n",
              "      <td>shot</td>\n",
              "      <td>gun</td>\n",
              "      <td>53.0</td>\n",
              "      <td>M</td>\n",
              "      <td>A</td>\n",
              "      <td>Shelton</td>\n",
              "      <td>WA</td>\n",
              "      <td>True</td>\n",
              "      <td>attack</td>\n",
              "      <td>Not fleeing</td>\n",
              "      <td>False</td>\n",
              "      <td>Senior citizens</td>\n",
              "    </tr>\n",
              "    <tr>\n",
              "      <th>1</th>\n",
              "      <td>4</td>\n",
              "      <td>Lewis Lee Lembke</td>\n",
              "      <td>2015-01-02</td>\n",
              "      <td>shot</td>\n",
              "      <td>gun</td>\n",
              "      <td>47.0</td>\n",
              "      <td>M</td>\n",
              "      <td>W</td>\n",
              "      <td>Aloha</td>\n",
              "      <td>OR</td>\n",
              "      <td>False</td>\n",
              "      <td>attack</td>\n",
              "      <td>Not fleeing</td>\n",
              "      <td>False</td>\n",
              "      <td>Adult</td>\n",
              "    </tr>\n",
              "    <tr>\n",
              "      <th>2</th>\n",
              "      <td>5</td>\n",
              "      <td>John Paul Quintero</td>\n",
              "      <td>2015-01-03</td>\n",
              "      <td>shot and Tasered</td>\n",
              "      <td>unarmed</td>\n",
              "      <td>23.0</td>\n",
              "      <td>M</td>\n",
              "      <td>H</td>\n",
              "      <td>Wichita</td>\n",
              "      <td>KS</td>\n",
              "      <td>False</td>\n",
              "      <td>other</td>\n",
              "      <td>Not fleeing</td>\n",
              "      <td>False</td>\n",
              "      <td>Youth</td>\n",
              "    </tr>\n",
              "    <tr>\n",
              "      <th>3</th>\n",
              "      <td>8</td>\n",
              "      <td>Matthew Hoffman</td>\n",
              "      <td>2015-01-04</td>\n",
              "      <td>shot</td>\n",
              "      <td>toy weapon</td>\n",
              "      <td>32.0</td>\n",
              "      <td>M</td>\n",
              "      <td>W</td>\n",
              "      <td>San Francisco</td>\n",
              "      <td>CA</td>\n",
              "      <td>True</td>\n",
              "      <td>attack</td>\n",
              "      <td>Not fleeing</td>\n",
              "      <td>False</td>\n",
              "      <td>Youth</td>\n",
              "    </tr>\n",
              "    <tr>\n",
              "      <th>4</th>\n",
              "      <td>9</td>\n",
              "      <td>Michael Rodriguez</td>\n",
              "      <td>2015-01-04</td>\n",
              "      <td>shot</td>\n",
              "      <td>nail gun</td>\n",
              "      <td>39.0</td>\n",
              "      <td>M</td>\n",
              "      <td>H</td>\n",
              "      <td>Evans</td>\n",
              "      <td>CO</td>\n",
              "      <td>False</td>\n",
              "      <td>attack</td>\n",
              "      <td>Not fleeing</td>\n",
              "      <td>False</td>\n",
              "      <td>Adult</td>\n",
              "    </tr>\n",
              "  </tbody>\n",
              "</table>\n",
              "</div>\n",
              "    <div class=\"colab-df-buttons\">\n",
              "\n",
              "  <div class=\"colab-df-container\">\n",
              "    <button class=\"colab-df-convert\" onclick=\"convertToInteractive('df-d61fd0ea-4930-483f-8b86-b6437c4cc0b1')\"\n",
              "            title=\"Convert this dataframe to an interactive table.\"\n",
              "            style=\"display:none;\">\n",
              "\n",
              "  <svg xmlns=\"http://www.w3.org/2000/svg\" height=\"24px\" viewBox=\"0 -960 960 960\">\n",
              "    <path d=\"M120-120v-720h720v720H120Zm60-500h600v-160H180v160Zm220 220h160v-160H400v160Zm0 220h160v-160H400v160ZM180-400h160v-160H180v160Zm440 0h160v-160H620v160ZM180-180h160v-160H180v160Zm440 0h160v-160H620v160Z\"/>\n",
              "  </svg>\n",
              "    </button>\n",
              "\n",
              "  <style>\n",
              "    .colab-df-container {\n",
              "      display:flex;\n",
              "      gap: 12px;\n",
              "    }\n",
              "\n",
              "    .colab-df-convert {\n",
              "      background-color: #E8F0FE;\n",
              "      border: none;\n",
              "      border-radius: 50%;\n",
              "      cursor: pointer;\n",
              "      display: none;\n",
              "      fill: #1967D2;\n",
              "      height: 32px;\n",
              "      padding: 0 0 0 0;\n",
              "      width: 32px;\n",
              "    }\n",
              "\n",
              "    .colab-df-convert:hover {\n",
              "      background-color: #E2EBFA;\n",
              "      box-shadow: 0px 1px 2px rgba(60, 64, 67, 0.3), 0px 1px 3px 1px rgba(60, 64, 67, 0.15);\n",
              "      fill: #174EA6;\n",
              "    }\n",
              "\n",
              "    .colab-df-buttons div {\n",
              "      margin-bottom: 4px;\n",
              "    }\n",
              "\n",
              "    [theme=dark] .colab-df-convert {\n",
              "      background-color: #3B4455;\n",
              "      fill: #D2E3FC;\n",
              "    }\n",
              "\n",
              "    [theme=dark] .colab-df-convert:hover {\n",
              "      background-color: #434B5C;\n",
              "      box-shadow: 0px 1px 3px 1px rgba(0, 0, 0, 0.15);\n",
              "      filter: drop-shadow(0px 1px 2px rgba(0, 0, 0, 0.3));\n",
              "      fill: #FFFFFF;\n",
              "    }\n",
              "  </style>\n",
              "\n",
              "    <script>\n",
              "      const buttonEl =\n",
              "        document.querySelector('#df-d61fd0ea-4930-483f-8b86-b6437c4cc0b1 button.colab-df-convert');\n",
              "      buttonEl.style.display =\n",
              "        google.colab.kernel.accessAllowed ? 'block' : 'none';\n",
              "\n",
              "      async function convertToInteractive(key) {\n",
              "        const element = document.querySelector('#df-d61fd0ea-4930-483f-8b86-b6437c4cc0b1');\n",
              "        const dataTable =\n",
              "          await google.colab.kernel.invokeFunction('convertToInteractive',\n",
              "                                                    [key], {});\n",
              "        if (!dataTable) return;\n",
              "\n",
              "        const docLinkHtml = 'Like what you see? Visit the ' +\n",
              "          '<a target=\"_blank\" href=https://colab.research.google.com/notebooks/data_table.ipynb>data table notebook</a>'\n",
              "          + ' to learn more about interactive tables.';\n",
              "        element.innerHTML = '';\n",
              "        dataTable['output_type'] = 'display_data';\n",
              "        await google.colab.output.renderOutput(dataTable, element);\n",
              "        const docLink = document.createElement('div');\n",
              "        docLink.innerHTML = docLinkHtml;\n",
              "        element.appendChild(docLink);\n",
              "      }\n",
              "    </script>\n",
              "  </div>\n",
              "\n",
              "\n",
              "<div id=\"df-19c10f11-601d-4a94-b521-8be729f5903d\">\n",
              "  <button class=\"colab-df-quickchart\" onclick=\"quickchart('df-19c10f11-601d-4a94-b521-8be729f5903d')\"\n",
              "            title=\"Suggest charts\"\n",
              "            style=\"display:none;\">\n",
              "\n",
              "<svg xmlns=\"http://www.w3.org/2000/svg\" height=\"24px\"viewBox=\"0 0 24 24\"\n",
              "     width=\"24px\">\n",
              "    <g>\n",
              "        <path d=\"M19 3H5c-1.1 0-2 .9-2 2v14c0 1.1.9 2 2 2h14c1.1 0 2-.9 2-2V5c0-1.1-.9-2-2-2zM9 17H7v-7h2v7zm4 0h-2V7h2v10zm4 0h-2v-4h2v4z\"/>\n",
              "    </g>\n",
              "</svg>\n",
              "  </button>\n",
              "\n",
              "<style>\n",
              "  .colab-df-quickchart {\n",
              "      --bg-color: #E8F0FE;\n",
              "      --fill-color: #1967D2;\n",
              "      --hover-bg-color: #E2EBFA;\n",
              "      --hover-fill-color: #174EA6;\n",
              "      --disabled-fill-color: #AAA;\n",
              "      --disabled-bg-color: #DDD;\n",
              "  }\n",
              "\n",
              "  [theme=dark] .colab-df-quickchart {\n",
              "      --bg-color: #3B4455;\n",
              "      --fill-color: #D2E3FC;\n",
              "      --hover-bg-color: #434B5C;\n",
              "      --hover-fill-color: #FFFFFF;\n",
              "      --disabled-bg-color: #3B4455;\n",
              "      --disabled-fill-color: #666;\n",
              "  }\n",
              "\n",
              "  .colab-df-quickchart {\n",
              "    background-color: var(--bg-color);\n",
              "    border: none;\n",
              "    border-radius: 50%;\n",
              "    cursor: pointer;\n",
              "    display: none;\n",
              "    fill: var(--fill-color);\n",
              "    height: 32px;\n",
              "    padding: 0;\n",
              "    width: 32px;\n",
              "  }\n",
              "\n",
              "  .colab-df-quickchart:hover {\n",
              "    background-color: var(--hover-bg-color);\n",
              "    box-shadow: 0 1px 2px rgba(60, 64, 67, 0.3), 0 1px 3px 1px rgba(60, 64, 67, 0.15);\n",
              "    fill: var(--button-hover-fill-color);\n",
              "  }\n",
              "\n",
              "  .colab-df-quickchart-complete:disabled,\n",
              "  .colab-df-quickchart-complete:disabled:hover {\n",
              "    background-color: var(--disabled-bg-color);\n",
              "    fill: var(--disabled-fill-color);\n",
              "    box-shadow: none;\n",
              "  }\n",
              "\n",
              "  .colab-df-spinner {\n",
              "    border: 2px solid var(--fill-color);\n",
              "    border-color: transparent;\n",
              "    border-bottom-color: var(--fill-color);\n",
              "    animation:\n",
              "      spin 1s steps(1) infinite;\n",
              "  }\n",
              "\n",
              "  @keyframes spin {\n",
              "    0% {\n",
              "      border-color: transparent;\n",
              "      border-bottom-color: var(--fill-color);\n",
              "      border-left-color: var(--fill-color);\n",
              "    }\n",
              "    20% {\n",
              "      border-color: transparent;\n",
              "      border-left-color: var(--fill-color);\n",
              "      border-top-color: var(--fill-color);\n",
              "    }\n",
              "    30% {\n",
              "      border-color: transparent;\n",
              "      border-left-color: var(--fill-color);\n",
              "      border-top-color: var(--fill-color);\n",
              "      border-right-color: var(--fill-color);\n",
              "    }\n",
              "    40% {\n",
              "      border-color: transparent;\n",
              "      border-right-color: var(--fill-color);\n",
              "      border-top-color: var(--fill-color);\n",
              "    }\n",
              "    60% {\n",
              "      border-color: transparent;\n",
              "      border-right-color: var(--fill-color);\n",
              "    }\n",
              "    80% {\n",
              "      border-color: transparent;\n",
              "      border-right-color: var(--fill-color);\n",
              "      border-bottom-color: var(--fill-color);\n",
              "    }\n",
              "    90% {\n",
              "      border-color: transparent;\n",
              "      border-bottom-color: var(--fill-color);\n",
              "    }\n",
              "  }\n",
              "</style>\n",
              "\n",
              "  <script>\n",
              "    async function quickchart(key) {\n",
              "      const quickchartButtonEl =\n",
              "        document.querySelector('#' + key + ' button');\n",
              "      quickchartButtonEl.disabled = true;  // To prevent multiple clicks.\n",
              "      quickchartButtonEl.classList.add('colab-df-spinner');\n",
              "      try {\n",
              "        const charts = await google.colab.kernel.invokeFunction(\n",
              "            'suggestCharts', [key], {});\n",
              "      } catch (error) {\n",
              "        console.error('Error during call to suggestCharts:', error);\n",
              "      }\n",
              "      quickchartButtonEl.classList.remove('colab-df-spinner');\n",
              "      quickchartButtonEl.classList.add('colab-df-quickchart-complete');\n",
              "    }\n",
              "    (() => {\n",
              "      let quickchartButtonEl =\n",
              "        document.querySelector('#df-19c10f11-601d-4a94-b521-8be729f5903d button');\n",
              "      quickchartButtonEl.style.display =\n",
              "        google.colab.kernel.accessAllowed ? 'block' : 'none';\n",
              "    })();\n",
              "  </script>\n",
              "</div>\n",
              "\n",
              "    </div>\n",
              "  </div>\n"
            ]
          },
          "metadata": {},
          "execution_count": 3
        }
      ],
      "source": [
        "# Load the dataframe\n",
        "df = pd.read_csv('week_1_assignment_output.csv')\n",
        "df.head()\n",
        "\n",
        "# TODO: Code to fill:\n",
        "# 1. '<<__A__>>' --> Path of the csv file"
      ]
    },
    {
      "cell_type": "code",
      "execution_count": 4,
      "id": "f7c7f28b",
      "metadata": {
        "id": "f7c7f28b",
        "outputId": "47b0203d-7f53-42b9-eb8a-286a79cef009",
        "colab": {
          "base_uri": "https://localhost:8080/"
        }
      },
      "outputs": [
        {
          "output_type": "execute_result",
          "data": {
            "text/plain": [
              "(4478, 15)"
            ]
          },
          "metadata": {},
          "execution_count": 4
        }
      ],
      "source": [
        "# Check the shape of the dataset\n",
        "df.shape"
      ]
    },
    {
      "cell_type": "markdown",
      "id": "8340d0e8",
      "metadata": {
        "id": "8340d0e8"
      },
      "source": [
        "### Question: 1 (2 Marks)\n",
        "\n",
        "Display the count of missing values in each column of a dataset"
      ]
    },
    {
      "cell_type": "code",
      "execution_count": 5,
      "id": "4c6deb73",
      "metadata": {
        "id": "4c6deb73",
        "colab": {
          "base_uri": "https://localhost:8080/"
        },
        "outputId": "c04d8dab-f627-4c06-92e2-30625786cf86"
      },
      "outputs": [
        {
          "output_type": "execute_result",
          "data": {
            "text/plain": [
              "id                           0\n",
              "name                         0\n",
              "date                         0\n",
              "manner_of_death              0\n",
              "armed                      248\n",
              "age                        169\n",
              "gender                       5\n",
              "race                       373\n",
              "city                         0\n",
              "state                        0\n",
              "signs_of_mental_illness      0\n",
              "threat_level                 0\n",
              "flee                       179\n",
              "body_camera                  0\n",
              "age_categories               0\n",
              "dtype: int64"
            ]
          },
          "metadata": {},
          "execution_count": 5
        }
      ],
      "source": [
        "df.isnull().sum()\n",
        "\n",
        "# TODO: Code to fill:\n",
        "# 1. '<<__A__>>' --> Use correct method from pandas library to check for number of missing values\n"
      ]
    },
    {
      "cell_type": "markdown",
      "id": "a4efbe66",
      "metadata": {
        "id": "a4efbe66"
      },
      "source": [
        "### Question: 2 (2 Marks)\n",
        "Display the outliers present in the age column using IQR method"
      ]
    },
    {
      "cell_type": "code",
      "execution_count": 6,
      "id": "a6d96152",
      "metadata": {
        "id": "a6d96152"
      },
      "outputs": [],
      "source": [
        "# Quantile 1 of age column (25 percentage)\n",
        "Q1 = df['age'].quantile(0.25)\n",
        "# Quantile 3 of age column (75 percentage)\n",
        "Q3 =  df['age'].quantile(0.75)"
      ]
    },
    {
      "cell_type": "code",
      "execution_count": 7,
      "id": "c25e9091",
      "metadata": {
        "id": "c25e9091",
        "colab": {
          "base_uri": "https://localhost:8080/"
        },
        "outputId": "0e105c44-887b-46e6-bc49-aad4bb611c80"
      },
      "outputs": [
        {
          "output_type": "execute_result",
          "data": {
            "text/plain": [
              "18.0"
            ]
          },
          "metadata": {},
          "execution_count": 7
        }
      ],
      "source": [
        "# Inter Quartile Range\n",
        "IQR = Q3 - Q1\n",
        "IQR"
      ]
    },
    {
      "cell_type": "code",
      "execution_count": 8,
      "id": "3cd435d2",
      "metadata": {
        "id": "3cd435d2",
        "colab": {
          "base_uri": "https://localhost:8080/"
        },
        "outputId": "9a71b184-62eb-4af5-d876-00fa69e52d75"
      },
      "outputs": [
        {
          "output_type": "stream",
          "name": "stdout",
          "text": [
            "72.0\n",
            "0.0\n"
          ]
        }
      ],
      "source": [
        "# Outliers present in upper case\n",
        "upper_case = Q3 + (1.5*IQR)\n",
        "print(upper_case)\n",
        "# Outliers present in lower case\n",
        "lower_case = Q1 - (1.5*IQR)\n",
        "print(lower_case)"
      ]
    },
    {
      "cell_type": "code",
      "execution_count": 9,
      "id": "ihPsqm9iWw88",
      "metadata": {
        "id": "ihPsqm9iWw88"
      },
      "outputs": [],
      "source": [
        "# Loop through the each data record in the age column and append a data to the outliers list variable\n",
        "outliers = []\n",
        "for i in df['age']:\n",
        "  if (i < lower_case or i > upper_case):  # if any data point in the age column less than lower case or any data point greater than upper case will be an outlier\n",
        "    outliers.append(i)\n",
        "\n",
        "# TODO: Code to fill:\n",
        "\n",
        "# 1. '<<__A__>>' --> column name\n",
        "# 2. '<<__B__>>' --> Apply the condition"
      ]
    },
    {
      "cell_type": "code",
      "execution_count": 10,
      "id": "MF5leAr0JqlX",
      "metadata": {
        "id": "MF5leAr0JqlX",
        "colab": {
          "base_uri": "https://localhost:8080/"
        },
        "outputId": "907fb6bf-d214-422b-9400-12876e59eeb9"
      },
      "outputs": [
        {
          "output_type": "stream",
          "name": "stdout",
          "text": [
            "[75.0, 74.0, 77.0, 83.0, 76.0, 86.0, 76.0, 77.0, 76.0, 76.0, 80.0, 82.0, 86.0, 76.0, 83.0, 73.0, 91.0, 73.0, 79.0, 74.0, 75.0, 82.0, 76.0, 78.0, 84.0, 84.0, 81.0, 89.0, 73.0, 77.0, 76.0, 84.0, 81.0, 80.0, 77.0, 76.0, 74.0, 76.0, 73.0]\n"
          ]
        }
      ],
      "source": [
        "# print outliers\n",
        "print(outliers)"
      ]
    },
    {
      "cell_type": "markdown",
      "id": "195e585a",
      "metadata": {
        "id": "195e585a"
      },
      "source": [
        "### Question: 3 (2 Marks)\n",
        "Group the year, gender, age categories to check how many victims were harmed"
      ]
    },
    {
      "cell_type": "code",
      "execution_count": 11,
      "id": "5c295817",
      "metadata": {
        "id": "5c295817"
      },
      "outputs": [],
      "source": [
        "# Create a new column by extracting year from the date column\n",
        "df['year'] = pd.to_datetime(df['date']).dt.year"
      ]
    },
    {
      "cell_type": "code",
      "execution_count": 27,
      "id": "fb42388f",
      "metadata": {
        "id": "fb42388f",
        "colab": {
          "base_uri": "https://localhost:8080/"
        },
        "outputId": "9d29f659-dd8d-4637-a943-749c71579f47"
      },
      "outputs": [
        {
          "output_type": "execute_result",
          "data": {
            "text/plain": [
              "year  gender  age_categories  id  \n",
              "2015  F       Adult           111     1\n",
              "                              118     1\n",
              "                              557     1\n",
              "                              1046    1\n",
              "                              987     1\n",
              "                                     ..\n",
              "2019  M       Youth           4367    1\n",
              "                              4374    1\n",
              "                              4376    1\n",
              "                              4381    1\n",
              "                              4921    1\n",
              "Length: 4473, dtype: int64"
            ]
          },
          "metadata": {},
          "execution_count": 27
        }
      ],
      "source": [
        "#groupby the year, gender, age_categories columns\n",
        "df.groupby([ 'year','gender','age_categories'])[['id']].value_counts()\n",
        "#Replace '<>' with correct method\n",
        "\n",
        "# TODO: Code to fill:\n",
        "\n",
        "# 1. '<<__A__>>' --> write your code here by selecting appropriate method/function from python\n",
        "# 2. '<<__B__>>' --> write column names from dataframe\n",
        "# 3. '<<__C__>>' --> write your command"
      ]
    },
    {
      "cell_type": "markdown",
      "id": "yjEYx9yHE7bB",
      "metadata": {
        "id": "yjEYx9yHE7bB"
      },
      "source": [
        "the above dataframe represents the grouped data of year, gender and age_categories based on the id of the inidviadual victims.\n",
        "\n",
        "the total number victims harmed are 4473."
      ]
    },
    {
      "cell_type": "markdown",
      "id": "be08780a",
      "metadata": {
        "id": "be08780a"
      },
      "source": [
        "### Question: 4 (2 Marks )\n",
        "Generate a bar plot using seaborn and understand the threat levels of different age categories"
      ]
    },
    {
      "cell_type": "code",
      "execution_count": 25,
      "id": "0cde59bf",
      "metadata": {
        "id": "0cde59bf",
        "colab": {
          "base_uri": "https://localhost:8080/",
          "height": 581
        },
        "outputId": "ea6a3fc6-014f-4ce2-a743-1367317f4a2b"
      },
      "outputs": [
        {
          "output_type": "execute_result",
          "data": {
            "text/plain": [
              "Text(0, 0.5, 'Count on Threat Level')"
            ]
          },
          "metadata": {},
          "execution_count": 25
        },
        {
          "output_type": "display_data",
          "data": {
            "text/plain": [
              "<Figure size 1200x600 with 1 Axes>"
            ],
            "image/png": "[encoded data removed]"
          },
          "metadata": {}
        }
      ],
      "source": [
        "# set a plot size (12,6)\n",
        "plt.figure(figsize=(12,6))\n",
        "sns.barplot(x='age_categories', y='Count', hue='threat_level', data=df.groupby(['age_categories','threat_level']).size().to_frame('Count').reset_index())\n",
        "\n",
        "# Set plot title and x and y axis labels\n",
        "plt.title('Threat Levels Across Age Categories')\n",
        "plt.xlabel('Age Categories')\n",
        "plt.ylabel('Count on Threat Level')\n",
        "\n",
        "# TODO: Code to fill:\n",
        "#Replace '<>' with correct method\n",
        "\n",
        "# 1. '<<__A__>>' --> write your code to set plot size\n",
        "# 2. '<<__B__>>' --> write your code here by selecting appropriate method from seaborn\n",
        "# 3. '<<__C__>>' --> write your parameter here to load data\n",
        "# 4. '<<__D__>>' --> write your hue column"
      ]
    },
    {
      "cell_type": "markdown",
      "source": [
        "**The types of Threat level(i.e Attack, other, Undertermined) are higher count in the youth age categories.**\n",
        "\n",
        "**This is followed by the Adult age categories.**"
      ],
      "metadata": {
        "id": "7J7tQZIENY5Z"
      },
      "id": "7J7tQZIENY5Z"
    },
    {
      "cell_type": "markdown",
      "id": "d9347ed8",
      "metadata": {
        "id": "d9347ed8"
      },
      "source": [
        "### Question: 5 (2 Marks )\n",
        "Generate a bar plot using seaborn and understand the year wise kills based on victim race"
      ]
    },
    {
      "cell_type": "code",
      "source": [
        "# set a plot size (12,6)\n",
        "plt.figure(figsize=(12,6))\n",
        "sns.barplot(x='year', y='Count', hue='race', data=df.groupby(['year','race']).size().to_frame('Count').reset_index())\n",
        "\n",
        "# Set plot title and x and y axis labels\n",
        "plt.title('Year wise kills based on victim race')\n",
        "plt.xlabel('Year')\n",
        "plt.ylabel('count')"
      ],
      "metadata": {
        "colab": {
          "base_uri": "https://localhost:8080/",
          "height": 581
        },
        "id": "8sop4DxMm5eO",
        "outputId": "702c2282-af24-4188-bd32-4174f3045446"
      },
      "id": "8sop4DxMm5eO",
      "execution_count": 16,
      "outputs": [
        {
          "output_type": "execute_result",
          "data": {
            "text/plain": [
              "Text(0, 0.5, 'count')"
            ]
          },
          "metadata": {},
          "execution_count": 16
        },
        {
          "output_type": "display_data",
          "data": {
            "text/plain": [
              "<Figure size 1200x600 with 1 Axes>"
            ],
            "image/png": "[encoded data removed]"
          },
          "metadata": {}
        }
      ]
    },
    {
      "cell_type": "markdown",
      "source": [
        "In all the years (i.e from 2015 to 2019) the year wise kill of Whites are all time high.\n",
        "\n",
        "This is followed by the Blacks in all the years."
      ],
      "metadata": {
        "id": "iWWTnqyZN1Lt"
      },
      "id": "iWWTnqyZN1Lt"
    },
    {
      "cell_type": "code",
      "execution_count": 28,
      "id": "4Na7zRHCw4sG",
      "metadata": {
        "id": "4Na7zRHCw4sG"
      },
      "outputs": [],
      "source": [
        "# Save the data into csv to use for week-3 assignment\n",
        "df.to_csv(\"week_2_assignment_output.csv\",index=False)"
      ]
    },
    {
      "cell_type": "markdown",
      "id": "9f6279cb",
      "metadata": {
        "id": "9f6279cb"
      },
      "source": [
        "## Thank you!"
      ]
    }
  ],
  "metadata": {
    "colab": {
      "provenance": []
    },
    "kernelspec": {
      "display_name": "Python 3 (ipykernel)",
      "language": "python",
      "name": "python3"
    },
    "language_info": {
      "codemirror_mode": {
        "name": "ipython",
        "version": 3
      },
      "file_extension": ".py",
      "mimetype": "text/x-python",
      "name": "python",
      "nbconvert_exporter": "python",
      "pygments_lexer": "ipython3",
      "version": "3.9.7"
    }
  },
  "nbformat": 4,
  "nbformat_minor": 5
}