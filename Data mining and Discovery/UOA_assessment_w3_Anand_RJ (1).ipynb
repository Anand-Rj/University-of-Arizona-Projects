{
  "cells": [
    {
      "cell_type": "markdown",
      "id": "c99bc0f4",
      "metadata": {
        "id": "c99bc0f4"
      },
      "source": [
        "# Week:3 Data pre-processing"
      ]
    },
    {
      "cell_type": "markdown",
      "id": "17614dd2",
      "metadata": {
        "id": "17614dd2"
      },
      "source": [
        "### Objective:\n",
        "The objective of this assignment is to perform exploratory data analysis, data pre-processing, data cleaning, scaling, transformation, check correlation between variables and perform sampling.\n",
        "\n",
        "We use the Fatal Police Shooting data to answer the questions given in this notebook."
      ]
    },
    {
      "cell_type": "markdown",
      "id": "94579906",
      "metadata": {
        "id": "94579906"
      },
      "source": [
        "### Fatal Police Shooting Data"
      ]
    },
    {
      "cell_type": "markdown",
      "id": "4fbb8326",
      "metadata": {
        "id": "4fbb8326"
      },
      "source": [
        "**About dataset**\\\n",
        "The dataset consists of following columns\n",
        "1. **id**                         : unqiue identifier of each victim\n",
        "2. **name**                       : name of a victim\n",
        "3. **date**                       : date on fatal shooting\n",
        "4. **manner_of_death**            : manner of death classification\n",
        "    * Shot\n",
        "    * Shot and Tasered\n",
        "5. **armed**                      : indicates that the victim was armed with some sort of implement that a police officer believed could inflict harm\n",
        "    * undetermined: it is not known whether or not the victim had a weapon\n",
        "    * unknown: the victim was armed, but it is not known what the object was\n",
        "    * unarmed: the victim was not armed\n",
        "6. **age**                        : age of victim\n",
        "7. **gender**                     : the gender of the victim. The Post identifies victims by the gender they identify with if reports indicate that it differs from their biological sex.\n",
        "    * M: Male\n",
        "    * F: Female\n",
        "    * None: Unknown\n",
        "8. **race**                       : race of victim\n",
        "    * W: White, non-Hispanic\n",
        "    * B: Black, non-Hispanic\n",
        "    * A: Asian\n",
        "    * N: Native American\n",
        "    * H: Hispanic\n",
        "    * O: Other\n",
        "    * None: unknown\n",
        "9. **city**                       : the municipality where the fatal shooting took place. Note that in some cases this field may contain a county name if a more specific municipality is unavailable or unknown.\n",
        "10. **state**                     : two-letter postal code abbreviation\n",
        "11. **signs_of_mental_illness**   : News reports have indicated the victim had a history of mental health issues, expressed suicidal intentions or was experiencing mental distress at the time of the shooting.\n",
        "12. **threat_level**              : These would include incidents where officers or others were shot at, threatened with a gun, attacked with other weapons or physical force, etc. The attack category is meant to flag the highest level of threat. The other and undetermined categories represent all remaining cases. Other includes many incidents where officers or others faced significant threats.\n",
        "13. **flee**                      : News reports have indicated the victim was moving away from officers\n",
        "    * Foot\n",
        "    * Car\n",
        "    * Not fleeing\n",
        "14. **body_camera**               : News reports have indicated an officer was wearing a body camera and it may have recorded some portion of the incident."
      ]
    },
    {
      "cell_type": "markdown",
      "id": "e14398de",
      "metadata": {
        "id": "e14398de"
      },
      "source": [
        "## Let's Begin"
      ]
    },
    {
      "cell_type": "code",
      "execution_count": 2,
      "id": "bbffb6a9",
      "metadata": {
        "id": "bbffb6a9"
      },
      "outputs": [],
      "source": [
        "# Install the libraries\n",
        "import pandas as pd\n",
        "import numpy as np\n",
        "import matplotlib.pyplot as plt\n",
        "import seaborn as sns\n",
        "%matplotlib inline"
      ]
    },
    {
      "cell_type": "code",
      "execution_count": 4,
      "id": "336383ca",
      "metadata": {
        "colab": {
          "base_uri": "https://localhost:8080/",
          "height": 313
        },
        "id": "336383ca",
        "outputId": "3ff648b0-940f-4cbf-ba3a-39922ed079a7"
      },
      "outputs": [
        {
          "output_type": "execute_result",
          "data": {
            "text/plain": [
              "   id                name        date   manner_of_death       armed   age  \\\n",
              "0   3          Tim Elliot  2015-01-02              shot         gun  53.0   \n",
              "1   4    Lewis Lee Lembke  2015-01-02              shot         gun  47.0   \n",
              "2   5  John Paul Quintero  2015-01-03  shot and Tasered     unarmed  23.0   \n",
              "3   8     Matthew Hoffman  2015-01-04              shot  toy weapon  32.0   \n",
              "4   9   Michael Rodriguez  2015-01-04              shot    nail gun  39.0   \n",
              "\n",
              "  gender race           city state  signs_of_mental_illness threat_level  \\\n",
              "0      M    A        Shelton    WA                     True       attack   \n",
              "1      M    W          Aloha    OR                    False       attack   \n",
              "2      M    H        Wichita    KS                    False        other   \n",
              "3      M    W  San Francisco    CA                     True       attack   \n",
              "4      M    H          Evans    CO                    False       attack   \n",
              "\n",
              "          flee  body_camera   age_categories  year  \n",
              "0  Not fleeing        False  Senior citizens  2015  \n",
              "1  Not fleeing        False            Adult  2015  \n",
              "2  Not fleeing        False            Youth  2015  \n",
              "3  Not fleeing        False            Youth  2015  \n",
              "4  Not fleeing        False            Adult  2015  "
            ],
            "text/html": [
              "\n",
              "  <div id=\"df-75a28aeb-cc3b-4223-bb4e-bd677844ba79\" class=\"colab-df-container\">\n",
              "    <div>\n",
              "<style scoped>\n",
              "    .dataframe tbody tr th:only-of-type {\n",
              "        vertical-align: middle;\n",
              "    }\n",
              "\n",
              "    .dataframe tbody tr th {\n",
              "        vertical-align: top;\n",
              "    }\n",
              "\n",
              "    .dataframe thead th {\n",
              "        text-align: right;\n",
              "    }\n",
              "</style>\n",
              "<table border=\"1\" class=\"dataframe\">\n",
              "  <thead>\n",
              "    <tr style=\"text-align: right;\">\n",
              "      <th></th>\n",
              "      <th>id</th>\n",
              "      <th>name</th>\n",
              "      <th>date</th>\n",
              "      <th>manner_of_death</th>\n",
              "      <th>armed</th>\n",
              "      <th>age</th>\n",
              "      <th>gender</th>\n",
              "      <th>race</th>\n",
              "      <th>city</th>\n",
              "      <th>state</th>\n",
              "      <th>signs_of_mental_illness</th>\n",
              "      <th>threat_level</th>\n",
              "      <th>flee</th>\n",
              "      <th>body_camera</th>\n",
              "      <th>age_categories</th>\n",
              "      <th>year</th>\n",
              "    </tr>\n",
              "  </thead>\n",
              "  <tbody>\n",
              "    <tr>\n",
              "      <th>0</th>\n",
              "      <td>3</td>\n",
              "      <td>Tim Elliot</td>\n",
              "      <td>2015-01-02</td>\n",
              "      <td>shot</td>\n",
              "      <td>gun</td>\n",
              "      <td>53.0</td>\n",
              "      <td>M</td>\n",
              "      <td>A</td>\n",
              "      <td>Shelton</td>\n",
              "      <td>WA</td>\n",
              "      <td>True</td>\n",
              "      <td>attack</td>\n",
              "      <td>Not fleeing</td>\n",
              "      <td>False</td>\n",
              "      <td>Senior citizens</td>\n",
              "      <td>2015</td>\n",
              "    </tr>\n",
              "    <tr>\n",
              "      <th>1</th>\n",
              "      <td>4</td>\n",
              "      <td>Lewis Lee Lembke</td>\n",
              "      <td>2015-01-02</td>\n",
              "      <td>shot</td>\n",
              "      <td>gun</td>\n",
              "      <td>47.0</td>\n",
              "      <td>M</td>\n",
              "      <td>W</td>\n",
              "      <td>Aloha</td>\n",
              "      <td>OR</td>\n",
              "      <td>False</td>\n",
              "      <td>attack</td>\n",
              "      <td>Not fleeing</td>\n",
              "      <td>False</td>\n",
              "      <td>Adult</td>\n",
              "      <td>2015</td>\n",
              "    </tr>\n",
              "    <tr>\n",
              "      <th>2</th>\n",
              "      <td>5</td>\n",
              "      <td>John Paul Quintero</td>\n",
              "      <td>2015-01-03</td>\n",
              "      <td>shot and Tasered</td>\n",
              "      <td>unarmed</td>\n",
              "      <td>23.0</td>\n",
              "      <td>M</td>\n",
              "      <td>H</td>\n",
              "      <td>Wichita</td>\n",
              "      <td>KS</td>\n",
              "      <td>False</td>\n",
              "      <td>other</td>\n",
              "      <td>Not fleeing</td>\n",
              "      <td>False</td>\n",
              "      <td>Youth</td>\n",
              "      <td>2015</td>\n",
              "    </tr>\n",
              "    <tr>\n",
              "      <th>3</th>\n",
              "      <td>8</td>\n",
              "      <td>Matthew Hoffman</td>\n",
              "      <td>2015-01-04</td>\n",
              "      <td>shot</td>\n",
              "      <td>toy weapon</td>\n",
              "      <td>32.0</td>\n",
              "      <td>M</td>\n",
              "      <td>W</td>\n",
              "      <td>San Francisco</td>\n",
              "      <td>CA</td>\n",
              "      <td>True</td>\n",
              "      <td>attack</td>\n",
              "      <td>Not fleeing</td>\n",
              "      <td>False</td>\n",
              "      <td>Youth</td>\n",
              "      <td>2015</td>\n",
              "    </tr>\n",
              "    <tr>\n",
              "      <th>4</th>\n",
              "      <td>9</td>\n",
              "      <td>Michael Rodriguez</td>\n",
              "      <td>2015-01-04</td>\n",
              "      <td>shot</td>\n",
              "      <td>nail gun</td>\n",
              "      <td>39.0</td>\n",
              "      <td>M</td>\n",
              "      <td>H</td>\n",
              "      <td>Evans</td>\n",
              "      <td>CO</td>\n",
              "      <td>False</td>\n",
              "      <td>attack</td>\n",
              "      <td>Not fleeing</td>\n",
              "      <td>False</td>\n",
              "      <td>Adult</td>\n",
              "      <td>2015</td>\n",
              "    </tr>\n",
              "  </tbody>\n",
              "</table>\n",
              "</div>\n",
              "    <div class=\"colab-df-buttons\">\n",
              "\n",
              "  <div class=\"colab-df-container\">\n",
              "    <button class=\"colab-df-convert\" onclick=\"convertToInteractive('df-75a28aeb-cc3b-4223-bb4e-bd677844ba79')\"\n",
              "            title=\"Convert this dataframe to an interactive table.\"\n",
              "            style=\"display:none;\">\n",
              "\n",
              "  <svg xmlns=\"http://www.w3.org/2000/svg\" height=\"24px\" viewBox=\"0 -960 960 960\">\n",
              "    <path d=\"M120-120v-720h720v720H120Zm60-500h600v-160H180v160Zm220 220h160v-160H400v160Zm0 220h160v-160H400v160ZM180-400h160v-160H180v160Zm440 0h160v-160H620v160ZM180-180h160v-160H180v160Zm440 0h160v-160H620v160Z\"/>\n",
              "  </svg>\n",
              "    </button>\n",
              "\n",
              "  <style>\n",
              "    .colab-df-container {\n",
              "      display:flex;\n",
              "      gap: 12px;\n",
              "    }\n",
              "\n",
              "    .colab-df-convert {\n",
              "      background-color: #E8F0FE;\n",
              "      border: none;\n",
              "      border-radius: 50%;\n",
              "      cursor: pointer;\n",
              "      display: none;\n",
              "      fill: #1967D2;\n",
              "      height: 32px;\n",
              "      padding: 0 0 0 0;\n",
              "      width: 32px;\n",
              "    }\n",
              "\n",
              "    .colab-df-convert:hover {\n",
              "      background-color: #E2EBFA;\n",
              "      box-shadow: 0px 1px 2px rgba(60, 64, 67, 0.3), 0px 1px 3px 1px rgba(60, 64, 67, 0.15);\n",
              "      fill: #174EA6;\n",
              "    }\n",
              "\n",
              "    .colab-df-buttons div {\n",
              "      margin-bottom: 4px;\n",
              "    }\n",
              "\n",
              "    [theme=dark] .colab-df-convert {\n",
              "      background-color: #3B4455;\n",
              "      fill: #D2E3FC;\n",
              "    }\n",
              "\n",
              "    [theme=dark] .colab-df-convert:hover {\n",
              "      background-color: #434B5C;\n",
              "      box-shadow: 0px 1px 3px 1px rgba(0, 0, 0, 0.15);\n",
              "      filter: drop-shadow(0px 1px 2px rgba(0, 0, 0, 0.3));\n",
              "      fill: #FFFFFF;\n",
              "    }\n",
              "  </style>\n",
              "\n",
              "    <script>\n",
              "      const buttonEl =\n",
              "        document.querySelector('#df-75a28aeb-cc3b-4223-bb4e-bd677844ba79 button.colab-df-convert');\n",
              "      buttonEl.style.display =\n",
              "        google.colab.kernel.accessAllowed ? 'block' : 'none';\n",
              "\n",
              "      async function convertToInteractive(key) {\n",
              "        const element = document.querySelector('#df-75a28aeb-cc3b-4223-bb4e-bd677844ba79');\n",
              "        const dataTable =\n",
              "          await google.colab.kernel.invokeFunction('convertToInteractive',\n",
              "                                                    [key], {});\n",
              "        if (!dataTable) return;\n",
              "\n",
              "        const docLinkHtml = 'Like what you see? Visit the ' +\n",
              "          '<a target=\"_blank\" href=https://colab.research.google.com/notebooks/data_table.ipynb>data table notebook</a>'\n",
              "          + ' to learn more about interactive tables.';\n",
              "        element.innerHTML = '';\n",
              "        dataTable['output_type'] = 'display_data';\n",
              "        await google.colab.output.renderOutput(dataTable, element);\n",
              "        const docLink = document.createElement('div');\n",
              "        docLink.innerHTML = docLinkHtml;\n",
              "        element.appendChild(docLink);\n",
              "      }\n",
              "    </script>\n",
              "  </div>\n",
              "\n",
              "\n",
              "<div id=\"df-23e60b66-1fac-4277-83e9-16913b9e212e\">\n",
              "  <button class=\"colab-df-quickchart\" onclick=\"quickchart('df-23e60b66-1fac-4277-83e9-16913b9e212e')\"\n",
              "            title=\"Suggest charts\"\n",
              "            style=\"display:none;\">\n",
              "\n",
              "<svg xmlns=\"http://www.w3.org/2000/svg\" height=\"24px\"viewBox=\"0 0 24 24\"\n",
              "     width=\"24px\">\n",
              "    <g>\n",
              "        <path d=\"M19 3H5c-1.1 0-2 .9-2 2v14c0 1.1.9 2 2 2h14c1.1 0 2-.9 2-2V5c0-1.1-.9-2-2-2zM9 17H7v-7h2v7zm4 0h-2V7h2v10zm4 0h-2v-4h2v4z\"/>\n",
              "    </g>\n",
              "</svg>\n",
              "  </button>\n",
              "\n",
              "<style>\n",
              "  .colab-df-quickchart {\n",
              "      --bg-color: #E8F0FE;\n",
              "      --fill-color: #1967D2;\n",
              "      --hover-bg-color: #E2EBFA;\n",
              "      --hover-fill-color: #174EA6;\n",
              "      --disabled-fill-color: #AAA;\n",
              "      --disabled-bg-color: #DDD;\n",
              "  }\n",
              "\n",
              "  [theme=dark] .colab-df-quickchart {\n",
              "      --bg-color: #3B4455;\n",
              "      --fill-color: #D2E3FC;\n",
              "      --hover-bg-color: #434B5C;\n",
              "      --hover-fill-color: #FFFFFF;\n",
              "      --disabled-bg-color: #3B4455;\n",
              "      --disabled-fill-color: #666;\n",
              "  }\n",
              "\n",
              "  .colab-df-quickchart {\n",
              "    background-color: var(--bg-color);\n",
              "    border: none;\n",
              "    border-radius: 50%;\n",
              "    cursor: pointer;\n",
              "    display: none;\n",
              "    fill: var(--fill-color);\n",
              "    height: 32px;\n",
              "    padding: 0;\n",
              "    width: 32px;\n",
              "  }\n",
              "\n",
              "  .colab-df-quickchart:hover {\n",
              "    background-color: var(--hover-bg-color);\n",
              "    box-shadow: 0 1px 2px rgba(60, 64, 67, 0.3), 0 1px 3px 1px rgba(60, 64, 67, 0.15);\n",
              "    fill: var(--button-hover-fill-color);\n",
              "  }\n",
              "\n",
              "  .colab-df-quickchart-complete:disabled,\n",
              "  .colab-df-quickchart-complete:disabled:hover {\n",
              "    background-color: var(--disabled-bg-color);\n",
              "    fill: var(--disabled-fill-color);\n",
              "    box-shadow: none;\n",
              "  }\n",
              "\n",
              "  .colab-df-spinner {\n",
              "    border: 2px solid var(--fill-color);\n",
              "    border-color: transparent;\n",
              "    border-bottom-color: var(--fill-color);\n",
              "    animation:\n",
              "      spin 1s steps(1) infinite;\n",
              "  }\n",
              "\n",
              "  @keyframes spin {\n",
              "    0% {\n",
              "      border-color: transparent;\n",
              "      border-bottom-color: var(--fill-color);\n",
              "      border-left-color: var(--fill-color);\n",
              "    }\n",
              "    20% {\n",
              "      border-color: transparent;\n",
              "      border-left-color: var(--fill-color);\n",
              "      border-top-color: var(--fill-color);\n",
              "    }\n",
              "    30% {\n",
              "      border-color: transparent;\n",
              "      border-left-color: var(--fill-color);\n",
              "      border-top-color: var(--fill-color);\n",
              "      border-right-color: var(--fill-color);\n",
              "    }\n",
              "    40% {\n",
              "      border-color: transparent;\n",
              "      border-right-color: var(--fill-color);\n",
              "      border-top-color: var(--fill-color);\n",
              "    }\n",
              "    60% {\n",
              "      border-color: transparent;\n",
              "      border-right-color: var(--fill-color);\n",
              "    }\n",
              "    80% {\n",
              "      border-color: transparent;\n",
              "      border-right-color: var(--fill-color);\n",
              "      border-bottom-color: var(--fill-color);\n",
              "    }\n",
              "    90% {\n",
              "      border-color: transparent;\n",
              "      border-bottom-color: var(--fill-color);\n",
              "    }\n",
              "  }\n",
              "</style>\n",
              "\n",
              "  <script>\n",
              "    async function quickchart(key) {\n",
              "      const quickchartButtonEl =\n",
              "        document.querySelector('#' + key + ' button');\n",
              "      quickchartButtonEl.disabled = true;  // To prevent multiple clicks.\n",
              "      quickchartButtonEl.classList.add('colab-df-spinner');\n",
              "      try {\n",
              "        const charts = await google.colab.kernel.invokeFunction(\n",
              "            'suggestCharts', [key], {});\n",
              "      } catch (error) {\n",
              "        console.error('Error during call to suggestCharts:', error);\n",
              "      }\n",
              "      quickchartButtonEl.classList.remove('colab-df-spinner');\n",
              "      quickchartButtonEl.classList.add('colab-df-quickchart-complete');\n",
              "    }\n",
              "    (() => {\n",
              "      let quickchartButtonEl =\n",
              "        document.querySelector('#df-23e60b66-1fac-4277-83e9-16913b9e212e button');\n",
              "      quickchartButtonEl.style.display =\n",
              "        google.colab.kernel.accessAllowed ? 'block' : 'none';\n",
              "    })();\n",
              "  </script>\n",
              "</div>\n",
              "\n",
              "    </div>\n",
              "  </div>\n"
            ]
          },
          "metadata": {},
          "execution_count": 4
        }
      ],
      "source": [
        "# Load the dataframe\n",
        "df = pd.read_csv('week_2_assignment_output.csv')\n",
        "df.head()\n",
        "\n",
        "# TODO: Code to fill:\n",
        "# 1. '<<__A__>>' --> Path of the csv file"
      ]
    },
    {
      "cell_type": "code",
      "execution_count": 5,
      "id": "f7c7f28b",
      "metadata": {
        "id": "f7c7f28b",
        "colab": {
          "base_uri": "https://localhost:8080/"
        },
        "outputId": "b6709cfa-b71e-4536-fef6-870e1a731380"
      },
      "outputs": [
        {
          "output_type": "execute_result",
          "data": {
            "text/plain": [
              "(4478, 16)"
            ]
          },
          "metadata": {},
          "execution_count": 5
        }
      ],
      "source": [
        "# Check the shape of the dataset\n",
        "df.shape"
      ]
    },
    {
      "cell_type": "markdown",
      "source": [
        "**There are 16 columns and 4478 rows of data present in the current dataset.**"
      ],
      "metadata": {
        "id": "2HjcwZpmN8_i"
      },
      "id": "2HjcwZpmN8_i"
    },
    {
      "cell_type": "markdown",
      "id": "8340d0e8",
      "metadata": {
        "id": "8340d0e8"
      },
      "source": [
        "### Question: 1 ( 1 Mark )\n",
        "\n",
        "Check and Handle the missing values (NaN) present in each column with the respective methods"
      ]
    },
    {
      "cell_type": "code",
      "execution_count": 6,
      "id": "4c6deb73",
      "metadata": {
        "id": "4c6deb73",
        "colab": {
          "base_uri": "https://localhost:8080/"
        },
        "outputId": "34d7d54b-27eb-41b4-9212-26a3232a4514"
      },
      "outputs": [
        {
          "output_type": "execute_result",
          "data": {
            "text/plain": [
              "id                           0\n",
              "name                         0\n",
              "date                         0\n",
              "manner_of_death              0\n",
              "armed                      248\n",
              "age                        169\n",
              "gender                       5\n",
              "race                       373\n",
              "city                         0\n",
              "state                        0\n",
              "signs_of_mental_illness      0\n",
              "threat_level                 0\n",
              "flee                       179\n",
              "body_camera                  0\n",
              "age_categories               0\n",
              "year                         0\n",
              "dtype: int64"
            ]
          },
          "metadata": {},
          "execution_count": 6
        }
      ],
      "source": [
        "# Check the dataframe for missing values in the column before handling\n",
        "df.isnull().sum()\n",
        "\n",
        "# TODO: Code to fill:\n",
        "\n",
        "# 1. '<<__A__>>' --> Use correct method\n",
        "# 2. '<<__B__>>' --> Use correct method\n"
      ]
    },
    {
      "cell_type": "code",
      "source": [
        "# Handle the missing values\n",
        "#Here we are using the mode to impute the missing values in the respective columns\n",
        "df['armed'].fillna(df['armed'].mode()[0],inplace=True)\n",
        "df['age'].fillna(df['age'].mode()[0],inplace=True)\n",
        "df['gender'].fillna(df['gender'].mode()[0],inplace=True)\n",
        "df['race'].fillna(df['race'].mode()[0],inplace=True)\n",
        "df['flee'].fillna(df['flee'].mode()[0],inplace=True)\n",
        "\n",
        "\n",
        "# write your code here to handle missing values for other columns\n",
        "\n",
        "# TODO: Code to fill:\n",
        "\n",
        "# 1. '<<__A__>>' --> Appropriate filling method\n",
        "# 2. '<<__B__>>' --> column_name\n",
        "# 3. '<<__C__>>' --> column_name"
      ],
      "metadata": {
        "id": "xQtkuyrr_W9n"
      },
      "id": "xQtkuyrr_W9n",
      "execution_count": 7,
      "outputs": []
    },
    {
      "cell_type": "code",
      "source": [
        "# Check dataframe after handling missing values\n",
        "df.isnull().sum()\n",
        "# TODO: Code to fill:\n",
        "\n",
        "# 1. '<<__A__>>' --> Use correct method\n",
        "# 2. '<<__B__>>' --> Use correct method"
      ],
      "metadata": {
        "id": "VWjDG6QOP4pc",
        "colab": {
          "base_uri": "https://localhost:8080/"
        },
        "outputId": "5972b6c9-9b7c-45b7-821f-92c53f55cc3e"
      },
      "id": "VWjDG6QOP4pc",
      "execution_count": 8,
      "outputs": [
        {
          "output_type": "execute_result",
          "data": {
            "text/plain": [
              "id                         0\n",
              "name                       0\n",
              "date                       0\n",
              "manner_of_death            0\n",
              "armed                      0\n",
              "age                        0\n",
              "gender                     0\n",
              "race                       0\n",
              "city                       0\n",
              "state                      0\n",
              "signs_of_mental_illness    0\n",
              "threat_level               0\n",
              "flee                       0\n",
              "body_camera                0\n",
              "age_categories             0\n",
              "year                       0\n",
              "dtype: int64"
            ]
          },
          "metadata": {},
          "execution_count": 8
        }
      ]
    },
    {
      "cell_type": "markdown",
      "id": "a4efbe66",
      "metadata": {
        "id": "a4efbe66"
      },
      "source": [
        "### Question: 2 (1 Mark )\n",
        "Handle the outliers present in the age column"
      ]
    },
    {
      "cell_type": "code",
      "source": [
        "# Display the box plot before handling outliers in the age column\n",
        "sns.boxplot(df['age'])\n",
        "\n",
        "# TODO: Code to fill:\n",
        "\n",
        "# 1. '<<__A__>>' --> Display the box plot before handling outliers in the age column"
      ],
      "metadata": {
        "id": "9Nrr8Ki4UBzy",
        "colab": {
          "base_uri": "https://localhost:8080/",
          "height": 428
        },
        "outputId": "6d3e89e8-05f6-4e84-df4e-ec91489bf663"
      },
      "id": "9Nrr8Ki4UBzy",
      "execution_count": 9,
      "outputs": [
        {
          "output_type": "execute_result",
          "data": {
            "text/plain": [
              "<Axes: ylabel='age'>"
            ]
          },
          "metadata": {},
          "execution_count": 9
        },
        {
          "output_type": "display_data",
          "data": {
            "text/plain": [
              "<Figure size 640x480 with 1 Axes>"
            ],
            "image/png": "[encoded data removed]"
          },
          "metadata": {}
        }
      ]
    },
    {
      "cell_type": "code",
      "execution_count": 10,
      "metadata": {
        "id": "a6d96152"
      },
      "outputs": [],
      "source": [
        "# Quantile 1 of age column (25 percentage)\n",
        "Q1 = df['age'].quantile(0.25)\n",
        "# Quantile 3 of age column (75 percentage)\n",
        "Q3 = df['age'].quantile(0.75)"
      ],
      "id": "a6d96152"
    },
    {
      "cell_type": "code",
      "execution_count": 11,
      "metadata": {
        "id": "c25e9091",
        "colab": {
          "base_uri": "https://localhost:8080/"
        },
        "outputId": "69847dde-25cf-4234-d11d-522173435e71"
      },
      "outputs": [
        {
          "output_type": "execute_result",
          "data": {
            "text/plain": [
              "19.0"
            ]
          },
          "metadata": {},
          "execution_count": 11
        }
      ],
      "source": [
        "# Inter Quartile Range\n",
        "IQR = Q3 - Q1\n",
        "IQR"
      ],
      "id": "c25e9091"
    },
    {
      "cell_type": "code",
      "execution_count": 12,
      "metadata": {
        "id": "3cd435d2",
        "colab": {
          "base_uri": "https://localhost:8080/"
        },
        "outputId": "55218161-9767-48b7-9328-2e7eed8225c7"
      },
      "outputs": [
        {
          "output_type": "stream",
          "name": "stdout",
          "text": [
            "73.5\n",
            "-2.5\n"
          ]
        }
      ],
      "source": [
        "# Outliers present in upper case\n",
        "upper_case = Q3 + (1.5*IQR)\n",
        "print(upper_case)\n",
        "# Outliers present in lower case\n",
        "lower_case = Q1 - (1.5*IQR)\n",
        "print(lower_case)"
      ],
      "id": "3cd435d2"
    },
    {
      "cell_type": "code",
      "source": [
        "# Loop through the each data record in the age column and append a data to the list variable\n",
        "outliers = []\n",
        "for i in df['age']:\n",
        "    if (i < lower_case or i >upper_case):\n",
        "        outliers.append(i)"
      ],
      "metadata": {
        "id": "xHAFOvprlDgl"
      },
      "id": "xHAFOvprlDgl",
      "execution_count": 13,
      "outputs": []
    },
    {
      "cell_type": "code",
      "source": [
        "print(outliers)"
      ],
      "metadata": {
        "id": "H7dxmFtpWGXk",
        "colab": {
          "base_uri": "https://localhost:8080/"
        },
        "outputId": "e56c94c6-a11f-43a5-b474-de859c53f9e6"
      },
      "id": "H7dxmFtpWGXk",
      "execution_count": 14,
      "outputs": [
        {
          "output_type": "stream",
          "name": "stdout",
          "text": [
            "[75.0, 74.0, 77.0, 83.0, 76.0, 86.0, 76.0, 77.0, 76.0, 76.0, 80.0, 82.0, 86.0, 76.0, 83.0, 91.0, 79.0, 74.0, 75.0, 82.0, 76.0, 78.0, 84.0, 84.0, 81.0, 89.0, 77.0, 76.0, 84.0, 81.0, 80.0, 77.0, 76.0, 74.0, 76.0]\n"
          ]
        }
      ]
    },
    {
      "cell_type": "code",
      "source": [
        "# Remove the outliers in age column\n",
        "df['age'] = np.clip(df['age'],lower_case,upper_case)\n",
        "\n",
        "# TODO: Code to fill:\n",
        "\n",
        "# 1. '<<__B__>>' --> write the your command to remove outliers outside upper case and lower case"
      ],
      "metadata": {
        "id": "6vaGoy85XhQi"
      },
      "id": "6vaGoy85XhQi",
      "execution_count": 15,
      "outputs": []
    },
    {
      "cell_type": "code",
      "source": [
        "# Display the box plot after handling outliers in the age column\n",
        "sns.boxplot(df['age'])\n",
        "\n",
        "# TODO: Code to fill:\n",
        "\n",
        "# 1  '<<__C__>>' --> Display the box plot after handling outliers in the age column"
      ],
      "metadata": {
        "id": "o4dxsnxYbinT",
        "colab": {
          "base_uri": "https://localhost:8080/",
          "height": 428
        },
        "outputId": "2d9d25ca-8a9e-45f1-b905-1cace6da30bc"
      },
      "id": "o4dxsnxYbinT",
      "execution_count": 16,
      "outputs": [
        {
          "output_type": "execute_result",
          "data": {
            "text/plain": [
              "<Axes: ylabel='age'>"
            ]
          },
          "metadata": {},
          "execution_count": 16
        },
        {
          "output_type": "display_data",
          "data": {
            "text/plain": [
              "<Figure size 640x480 with 1 Axes>"
            ],
            "image/png": "[encoded data removed]"
          },
          "metadata": {}
        }
      ]
    },
    {
      "cell_type": "markdown",
      "id": "195e585a",
      "metadata": {
        "id": "195e585a"
      },
      "source": [
        "### Question: 3 ( 1 Mark )\n",
        "Plot a bar graph which tells most repeated weapons used to attack the people  "
      ]
    },
    {
      "cell_type": "code",
      "source": [
        "# Get the value count of armed column\n",
        "armed = df.armed.value_counts()\n",
        "# set the plot size\n",
        "plt.figure(figsize=(12,6))\n",
        "# Create a bar plot using above variable by filtering upto 7 rows\n",
        "sns.barplot(x=armed[:7].index,y=armed[:7].values)\n",
        "plt.ylabel('No of armed weapons')\n",
        "plt.xlabel('Armed Weapons')\n",
        "plt.title('Repeated weapons used to attack the people')\n",
        "\n",
        "# TODO: Code to fill:\n",
        "\n",
        "# 1. '<<__A__>>' --> Set the plot size\n",
        "# 2. '<<__B__>>' --> set a name for y label\n",
        "# 3. '<<__C__>>' --> set a name for x label\n",
        "# 4. '<<__D__>>' --> set a title for the graph with a  fontsize 15 in the colour of blue"
      ],
      "metadata": {
        "id": "nyI9VIXrb197",
        "colab": {
          "base_uri": "https://localhost:8080/",
          "height": 373
        },
        "outputId": "e13743ed-88f6-4d2c-b3c9-ee31d62603b9"
      },
      "id": "nyI9VIXrb197",
      "execution_count": 17,
      "outputs": [
        {
          "output_type": "execute_result",
          "data": {
            "text/plain": [
              "Text(0.5, 1.0, 'Repeated weapons used to attack the people')"
            ]
          },
          "metadata": {},
          "execution_count": 17
        },
        {
          "output_type": "display_data",
          "data": {
            "text/plain": [
              "<Figure size 1200x600 with 1 Axes>"
            ],
            "image/png": "[encoded data removed]"
          },
          "metadata": {}
        }
      ]
    },
    {
      "cell_type": "markdown",
      "source": [
        "Gun is the most repeated weapon in the attacks of the people.\n",
        "This is followed by Knife.\n",
        "\n",
        "The unknown weapon is the minimum used weapon in the attacks."
      ],
      "metadata": {
        "id": "8iRasyT2QfWS"
      },
      "id": "8iRasyT2QfWS"
    },
    {
      "cell_type": "markdown",
      "id": "be08780a",
      "metadata": {
        "id": "be08780a"
      },
      "source": [
        "### Question: 4 ( 2 Marks )\n",
        "Generate a bar plot to identify days in which the count of attacks are reported most"
      ]
    },
    {
      "cell_type": "code",
      "source": [
        "# Create a new columns day, month, year using date column with the help of pandas to_datetime method\n",
        "df['day'] = pd.to_datetime(df['date']).dt.day\n",
        "df['month'] = pd.to_datetime(df['date']).dt.month\n",
        "df['year'] = pd.to_datetime(df['date']).dt.year"
      ],
      "metadata": {
        "id": "_wg5L08ocZff"
      },
      "id": "_wg5L08ocZff",
      "execution_count": null,
      "outputs": []
    },
    {
      "cell_type": "code",
      "source": [
        "#Plot a bar graph in which days the count of attacks are more\n",
        "df['day'].value_counts().plot(kind='bar', figsize=(12,6))\n",
        "\n",
        "plt.ylabel('No of attacks')\n",
        "plt.xlabel('Date(Day)')\n",
        "plt.title('Attacks with specific to the days')\n",
        "# TODO: Code to fill:\n",
        "\n",
        "# 1. '<<__A__>>' --> Fill the column name for which you want to plot a bar graph\n",
        "# 2. '<<__B__>>' --> write your method here to count the values\n",
        "# 3. '<<__C__>>' --> fill the type of plot\n",
        "# 4. '<<__D__>>' --> Set plot size (12,6)"
      ],
      "metadata": {
        "id": "3enV_aY1eNHT",
        "colab": {
          "base_uri": "https://localhost:8080/",
          "height": 585
        },
        "outputId": "673ac1f9-a823-499d-802a-da52c821623d"
      },
      "id": "3enV_aY1eNHT",
      "execution_count": null,
      "outputs": [
        {
          "output_type": "execute_result",
          "data": {
            "text/plain": [
              "Text(0.5, 1.0, 'Attacks with specific to the days')"
            ]
          },
          "metadata": {},
          "execution_count": 17
        },
        {
          "output_type": "display_data",
          "data": {
            "text/plain": [
              "<Figure size 1200x600 with 1 Axes>"
            ],
            "image/png": "[encoded data removed]"
          },
          "metadata": {}
        }
      ]
    },
    {
      "cell_type": "markdown",
      "source": [
        "5th day(Date) of the month the attacks has happened the most.\n",
        "\n",
        "31st day(Date) of the month the attacks has happened the least."
      ],
      "metadata": {
        "id": "HpQEDebdRaiB"
      },
      "id": "HpQEDebdRaiB"
    },
    {
      "cell_type": "markdown",
      "id": "d9347ed8",
      "metadata": {
        "id": "d9347ed8"
      },
      "source": [
        "### Question: 5 ( 2 Marks )\n",
        "Display the Top 10 states where the high number of cases recorded"
      ]
    },
    {
      "cell_type": "code",
      "execution_count": null,
      "id": "3baae75c",
      "metadata": {
        "id": "3baae75c",
        "colab": {
          "base_uri": "https://localhost:8080/",
          "height": 660
        },
        "outputId": "424b92ff-b85b-4f6a-e142-380b9f70dda3"
      },
      "outputs": [
        {
          "output_type": "execute_result",
          "data": {
            "text/plain": [
              "Text(0.5, 1.0, 'Top 10 states')"
            ]
          },
          "metadata": {},
          "execution_count": 18
        },
        {
          "output_type": "display_data",
          "data": {
            "text/plain": [
              "<Figure size 1000x700 with 1 Axes>"
            ],
            "image/png": "[encoded data removed]"
          },
          "metadata": {}
        }
      ],
      "source": [
        "#Write your code here\n",
        "state = df['state'].value_counts().head(10)\n",
        "#Display the Top 10 states using bar chart\n",
        "plt.figure(figsize=(10,7))\n",
        "sns.barplot(x=state.index, y=state.values)\n",
        "plt.ylabel('Number of cases reported')\n",
        "plt.xlabel('States')\n",
        "plt.title('Top 10 states', color='blue', fontsize=15)\n",
        "\n",
        "\n",
        "# TODO: Code to fill:\n",
        "\n",
        "# 1. '<<__A__>>' --> Fill the column name\n",
        "# 2. '<<__B__>>' --> write your method here to count the values\n",
        "# 3. '<<__C__>>' --> Provide x axis values from state dataframe created in previous step\n",
        "# 4. '<<__D__>>' --> Provide y axis values from state dataframe created in previous step\n"
      ]
    },
    {
      "cell_type": "markdown",
      "source": [
        "California (CA) has most number of cases recorded.\n",
        "\n",
        "North Carolina (NC) has least number of cases recorded."
      ],
      "metadata": {
        "id": "lZQSEzkkRhjS"
      },
      "id": "lZQSEzkkRhjS"
    },
    {
      "cell_type": "markdown",
      "source": [
        "### Question: 6 ( 1 Mark )\n",
        "Drop the features that have more unique string values and not relevant to the model."
      ],
      "metadata": {
        "id": "kubiq3XvoaUE"
      },
      "id": "kubiq3XvoaUE"
    },
    {
      "cell_type": "code",
      "source": [
        "# Drop the features that have more unique string values and not relevant to the model.\n",
        "\n",
        "#dropping the name and id column as it is not mandate to know the victims details as we are not analysing with specific to the victim\n",
        "#dropping date column as day , month and year columns are created from this column seperately\n",
        "df.drop(columns=['name', 'id', 'date'], axis=1, inplace=True)"
      ],
      "metadata": {
        "id": "YiwyptpOoorz"
      },
      "id": "YiwyptpOoorz",
      "execution_count": 18,
      "outputs": []
    },
    {
      "cell_type": "code",
      "source": [
        "#Display the top 5 rows of dataset after droping the unnecessary features\n",
        "df.head(5)\n",
        "# TODO: Code to fill:\n",
        "\n",
        "# 1. '<<__A__>>' --> Fill appropriate method for removing features\n",
        "# 2. '<<__B__>>' --> column names\n",
        "# 3. '<<__C__>>' --> Give the axis for removing features\n",
        "# 3. '<<__D__>>' --> Use the correct method to get top 5 rows of dataset after droping the unnessacary features"
      ],
      "metadata": {
        "id": "t95ykFkxoyQZ",
        "colab": {
          "base_uri": "https://localhost:8080/",
          "height": 313
        },
        "outputId": "81f38f4b-053e-4221-b69b-628aaf0e8521"
      },
      "id": "t95ykFkxoyQZ",
      "execution_count": 19,
      "outputs": [
        {
          "output_type": "execute_result",
          "data": {
            "text/plain": [
              "    manner_of_death       armed   age gender race           city state  \\\n",
              "0              shot         gun  53.0      M    A        Shelton    WA   \n",
              "1              shot         gun  47.0      M    W          Aloha    OR   \n",
              "2  shot and Tasered     unarmed  23.0      M    H        Wichita    KS   \n",
              "3              shot  toy weapon  32.0      M    W  San Francisco    CA   \n",
              "4              shot    nail gun  39.0      M    H          Evans    CO   \n",
              "\n",
              "   signs_of_mental_illness threat_level         flee  body_camera  \\\n",
              "0                     True       attack  Not fleeing        False   \n",
              "1                    False       attack  Not fleeing        False   \n",
              "2                    False        other  Not fleeing        False   \n",
              "3                     True       attack  Not fleeing        False   \n",
              "4                    False       attack  Not fleeing        False   \n",
              "\n",
              "    age_categories  year  \n",
              "0  Senior citizens  2015  \n",
              "1            Adult  2015  \n",
              "2            Youth  2015  \n",
              "3            Youth  2015  \n",
              "4            Adult  2015  "
            ],
            "text/html": [
              "\n",
              "  <div id=\"df-41da6484-c567-4593-8646-21afa02ffdf6\" class=\"colab-df-container\">\n",
              "    <div>\n",
              "<style scoped>\n",
              "    .dataframe tbody tr th:only-of-type {\n",
              "        vertical-align: middle;\n",
              "    }\n",
              "\n",
              "    .dataframe tbody tr th {\n",
              "        vertical-align: top;\n",
              "    }\n",
              "\n",
              "    .dataframe thead th {\n",
              "        text-align: right;\n",
              "    }\n",
              "</style>\n",
              "<table border=\"1\" class=\"dataframe\">\n",
              "  <thead>\n",
              "    <tr style=\"text-align: right;\">\n",
              "      <th></th>\n",
              "      <th>manner_of_death</th>\n",
              "      <th>armed</th>\n",
              "      <th>age</th>\n",
              "      <th>gender</th>\n",
              "      <th>race</th>\n",
              "      <th>city</th>\n",
              "      <th>state</th>\n",
              "      <th>signs_of_mental_illness</th>\n",
              "      <th>threat_level</th>\n",
              "      <th>flee</th>\n",
              "      <th>body_camera</th>\n",
              "      <th>age_categories</th>\n",
              "      <th>year</th>\n",
              "    </tr>\n",
              "  </thead>\n",
              "  <tbody>\n",
              "    <tr>\n",
              "      <th>0</th>\n",
              "      <td>shot</td>\n",
              "      <td>gun</td>\n",
              "      <td>53.0</td>\n",
              "      <td>M</td>\n",
              "      <td>A</td>\n",
              "      <td>Shelton</td>\n",
              "      <td>WA</td>\n",
              "      <td>True</td>\n",
              "      <td>attack</td>\n",
              "      <td>Not fleeing</td>\n",
              "      <td>False</td>\n",
              "      <td>Senior citizens</td>\n",
              "      <td>2015</td>\n",
              "    </tr>\n",
              "    <tr>\n",
              "      <th>1</th>\n",
              "      <td>shot</td>\n",
              "      <td>gun</td>\n",
              "      <td>47.0</td>\n",
              "      <td>M</td>\n",
              "      <td>W</td>\n",
              "      <td>Aloha</td>\n",
              "      <td>OR</td>\n",
              "      <td>False</td>\n",
              "      <td>attack</td>\n",
              "      <td>Not fleeing</td>\n",
              "      <td>False</td>\n",
              "      <td>Adult</td>\n",
              "      <td>2015</td>\n",
              "    </tr>\n",
              "    <tr>\n",
              "      <th>2</th>\n",
              "      <td>shot and Tasered</td>\n",
              "      <td>unarmed</td>\n",
              "      <td>23.0</td>\n",
              "      <td>M</td>\n",
              "      <td>H</td>\n",
              "      <td>Wichita</td>\n",
              "      <td>KS</td>\n",
              "      <td>False</td>\n",
              "      <td>other</td>\n",
              "      <td>Not fleeing</td>\n",
              "      <td>False</td>\n",
              "      <td>Youth</td>\n",
              "      <td>2015</td>\n",
              "    </tr>\n",
              "    <tr>\n",
              "      <th>3</th>\n",
              "      <td>shot</td>\n",
              "      <td>toy weapon</td>\n",
              "      <td>32.0</td>\n",
              "      <td>M</td>\n",
              "      <td>W</td>\n",
              "      <td>San Francisco</td>\n",
              "      <td>CA</td>\n",
              "      <td>True</td>\n",
              "      <td>attack</td>\n",
              "      <td>Not fleeing</td>\n",
              "      <td>False</td>\n",
              "      <td>Youth</td>\n",
              "      <td>2015</td>\n",
              "    </tr>\n",
              "    <tr>\n",
              "      <th>4</th>\n",
              "      <td>shot</td>\n",
              "      <td>nail gun</td>\n",
              "      <td>39.0</td>\n",
              "      <td>M</td>\n",
              "      <td>H</td>\n",
              "      <td>Evans</td>\n",
              "      <td>CO</td>\n",
              "      <td>False</td>\n",
              "      <td>attack</td>\n",
              "      <td>Not fleeing</td>\n",
              "      <td>False</td>\n",
              "      <td>Adult</td>\n",
              "      <td>2015</td>\n",
              "    </tr>\n",
              "  </tbody>\n",
              "</table>\n",
              "</div>\n",
              "    <div class=\"colab-df-buttons\">\n",
              "\n",
              "  <div class=\"colab-df-container\">\n",
              "    <button class=\"colab-df-convert\" onclick=\"convertToInteractive('df-41da6484-c567-4593-8646-21afa02ffdf6')\"\n",
              "            title=\"Convert this dataframe to an interactive table.\"\n",
              "            style=\"display:none;\">\n",
              "\n",
              "  <svg xmlns=\"http://www.w3.org/2000/svg\" height=\"24px\" viewBox=\"0 -960 960 960\">\n",
              "    <path d=\"M120-120v-720h720v720H120Zm60-500h600v-160H180v160Zm220 220h160v-160H400v160Zm0 220h160v-160H400v160ZM180-400h160v-160H180v160Zm440 0h160v-160H620v160ZM180-180h160v-160H180v160Zm440 0h160v-160H620v160Z\"/>\n",
              "  </svg>\n",
              "    </button>\n",
              "\n",
              "  <style>\n",
              "    .colab-df-container {\n",
              "      display:flex;\n",
              "      gap: 12px;\n",
              "    }\n",
              "\n",
              "    .colab-df-convert {\n",
              "      background-color: #E8F0FE;\n",
              "      border: none;\n",
              "      border-radius: 50%;\n",
              "      cursor: pointer;\n",
              "      display: none;\n",
              "      fill: #1967D2;\n",
              "      height: 32px;\n",
              "      padding: 0 0 0 0;\n",
              "      width: 32px;\n",
              "    }\n",
              "\n",
              "    .colab-df-convert:hover {\n",
              "      background-color: #E2EBFA;\n",
              "      box-shadow: 0px 1px 2px rgba(60, 64, 67, 0.3), 0px 1px 3px 1px rgba(60, 64, 67, 0.15);\n",
              "      fill: #174EA6;\n",
              "    }\n",
              "\n",
              "    .colab-df-buttons div {\n",
              "      margin-bottom: 4px;\n",
              "    }\n",
              "\n",
              "    [theme=dark] .colab-df-convert {\n",
              "      background-color: #3B4455;\n",
              "      fill: #D2E3FC;\n",
              "    }\n",
              "\n",
              "    [theme=dark] .colab-df-convert:hover {\n",
              "      background-color: #434B5C;\n",
              "      box-shadow: 0px 1px 3px 1px rgba(0, 0, 0, 0.15);\n",
              "      filter: drop-shadow(0px 1px 2px rgba(0, 0, 0, 0.3));\n",
              "      fill: #FFFFFF;\n",
              "    }\n",
              "  </style>\n",
              "\n",
              "    <script>\n",
              "      const buttonEl =\n",
              "        document.querySelector('#df-41da6484-c567-4593-8646-21afa02ffdf6 button.colab-df-convert');\n",
              "      buttonEl.style.display =\n",
              "        google.colab.kernel.accessAllowed ? 'block' : 'none';\n",
              "\n",
              "      async function convertToInteractive(key) {\n",
              "        const element = document.querySelector('#df-41da6484-c567-4593-8646-21afa02ffdf6');\n",
              "        const dataTable =\n",
              "          await google.colab.kernel.invokeFunction('convertToInteractive',\n",
              "                                                    [key], {});\n",
              "        if (!dataTable) return;\n",
              "\n",
              "        const docLinkHtml = 'Like what you see? Visit the ' +\n",
              "          '<a target=\"_blank\" href=https://colab.research.google.com/notebooks/data_table.ipynb>data table notebook</a>'\n",
              "          + ' to learn more about interactive tables.';\n",
              "        element.innerHTML = '';\n",
              "        dataTable['output_type'] = 'display_data';\n",
              "        await google.colab.output.renderOutput(dataTable, element);\n",
              "        const docLink = document.createElement('div');\n",
              "        docLink.innerHTML = docLinkHtml;\n",
              "        element.appendChild(docLink);\n",
              "      }\n",
              "    </script>\n",
              "  </div>\n",
              "\n",
              "\n",
              "<div id=\"df-58488dbc-8d35-4700-aea1-31b2ff42bacc\">\n",
              "  <button class=\"colab-df-quickchart\" onclick=\"quickchart('df-58488dbc-8d35-4700-aea1-31b2ff42bacc')\"\n",
              "            title=\"Suggest charts\"\n",
              "            style=\"display:none;\">\n",
              "\n",
              "<svg xmlns=\"http://www.w3.org/2000/svg\" height=\"24px\"viewBox=\"0 0 24 24\"\n",
              "     width=\"24px\">\n",
              "    <g>\n",
              "        <path d=\"M19 3H5c-1.1 0-2 .9-2 2v14c0 1.1.9 2 2 2h14c1.1 0 2-.9 2-2V5c0-1.1-.9-2-2-2zM9 17H7v-7h2v7zm4 0h-2V7h2v10zm4 0h-2v-4h2v4z\"/>\n",
              "    </g>\n",
              "</svg>\n",
              "  </button>\n",
              "\n",
              "<style>\n",
              "  .colab-df-quickchart {\n",
              "      --bg-color: #E8F0FE;\n",
              "      --fill-color: #1967D2;\n",
              "      --hover-bg-color: #E2EBFA;\n",
              "      --hover-fill-color: #174EA6;\n",
              "      --disabled-fill-color: #AAA;\n",
              "      --disabled-bg-color: #DDD;\n",
              "  }\n",
              "\n",
              "  [theme=dark] .colab-df-quickchart {\n",
              "      --bg-color: #3B4455;\n",
              "      --fill-color: #D2E3FC;\n",
              "      --hover-bg-color: #434B5C;\n",
              "      --hover-fill-color: #FFFFFF;\n",
              "      --disabled-bg-color: #3B4455;\n",
              "      --disabled-fill-color: #666;\n",
              "  }\n",
              "\n",
              "  .colab-df-quickchart {\n",
              "    background-color: var(--bg-color);\n",
              "    border: none;\n",
              "    border-radius: 50%;\n",
              "    cursor: pointer;\n",
              "    display: none;\n",
              "    fill: var(--fill-color);\n",
              "    height: 32px;\n",
              "    padding: 0;\n",
              "    width: 32px;\n",
              "  }\n",
              "\n",
              "  .colab-df-quickchart:hover {\n",
              "    background-color: var(--hover-bg-color);\n",
              "    box-shadow: 0 1px 2px rgba(60, 64, 67, 0.3), 0 1px 3px 1px rgba(60, 64, 67, 0.15);\n",
              "    fill: var(--button-hover-fill-color);\n",
              "  }\n",
              "\n",
              "  .colab-df-quickchart-complete:disabled,\n",
              "  .colab-df-quickchart-complete:disabled:hover {\n",
              "    background-color: var(--disabled-bg-color);\n",
              "    fill: var(--disabled-fill-color);\n",
              "    box-shadow: none;\n",
              "  }\n",
              "\n",
              "  .colab-df-spinner {\n",
              "    border: 2px solid var(--fill-color);\n",
              "    border-color: transparent;\n",
              "    border-bottom-color: var(--fill-color);\n",
              "    animation:\n",
              "      spin 1s steps(1) infinite;\n",
              "  }\n",
              "\n",
              "  @keyframes spin {\n",
              "    0% {\n",
              "      border-color: transparent;\n",
              "      border-bottom-color: var(--fill-color);\n",
              "      border-left-color: var(--fill-color);\n",
              "    }\n",
              "    20% {\n",
              "      border-color: transparent;\n",
              "      border-left-color: var(--fill-color);\n",
              "      border-top-color: var(--fill-color);\n",
              "    }\n",
              "    30% {\n",
              "      border-color: transparent;\n",
              "      border-left-color: var(--fill-color);\n",
              "      border-top-color: var(--fill-color);\n",
              "      border-right-color: var(--fill-color);\n",
              "    }\n",
              "    40% {\n",
              "      border-color: transparent;\n",
              "      border-right-color: var(--fill-color);\n",
              "      border-top-color: var(--fill-color);\n",
              "    }\n",
              "    60% {\n",
              "      border-color: transparent;\n",
              "      border-right-color: var(--fill-color);\n",
              "    }\n",
              "    80% {\n",
              "      border-color: transparent;\n",
              "      border-right-color: var(--fill-color);\n",
              "      border-bottom-color: var(--fill-color);\n",
              "    }\n",
              "    90% {\n",
              "      border-color: transparent;\n",
              "      border-bottom-color: var(--fill-color);\n",
              "    }\n",
              "  }\n",
              "</style>\n",
              "\n",
              "  <script>\n",
              "    async function quickchart(key) {\n",
              "      const quickchartButtonEl =\n",
              "        document.querySelector('#' + key + ' button');\n",
              "      quickchartButtonEl.disabled = true;  // To prevent multiple clicks.\n",
              "      quickchartButtonEl.classList.add('colab-df-spinner');\n",
              "      try {\n",
              "        const charts = await google.colab.kernel.invokeFunction(\n",
              "            'suggestCharts', [key], {});\n",
              "      } catch (error) {\n",
              "        console.error('Error during call to suggestCharts:', error);\n",
              "      }\n",
              "      quickchartButtonEl.classList.remove('colab-df-spinner');\n",
              "      quickchartButtonEl.classList.add('colab-df-quickchart-complete');\n",
              "    }\n",
              "    (() => {\n",
              "      let quickchartButtonEl =\n",
              "        document.querySelector('#df-58488dbc-8d35-4700-aea1-31b2ff42bacc button');\n",
              "      quickchartButtonEl.style.display =\n",
              "        google.colab.kernel.accessAllowed ? 'block' : 'none';\n",
              "    })();\n",
              "  </script>\n",
              "</div>\n",
              "\n",
              "    </div>\n",
              "  </div>\n"
            ]
          },
          "metadata": {},
          "execution_count": 19
        }
      ]
    },
    {
      "cell_type": "markdown",
      "source": [
        "### Question: 7 ( 2 Marks )\n",
        "Create a line plot that shows the number of attacks every year according to race"
      ],
      "metadata": {
        "id": "omvTUjRjpXRj"
      },
      "id": "omvTUjRjpXRj"
    },
    {
      "cell_type": "code",
      "source": [
        "# Write your code here\n",
        "pd.crosstab(df['race'], df['year']).plot.line(figsize=(12,6))\n",
        "\n",
        "\n",
        "# TODO: Code to fill:\n",
        "\n",
        "# 1. '<<__A__>>' --> Fill the exact column name\n",
        "# 2. '<<__B__>>' --> Fill the exact column name"
      ],
      "metadata": {
        "id": "xV72XEJkpT0-",
        "colab": {
          "base_uri": "https://localhost:8080/",
          "height": 369
        },
        "outputId": "c112332f-1cd6-4a4f-ab53-0279a08f8e51"
      },
      "id": "xV72XEJkpT0-",
      "execution_count": 20,
      "outputs": [
        {
          "output_type": "execute_result",
          "data": {
            "text/plain": [
              "<Axes: xlabel='race'>"
            ]
          },
          "metadata": {},
          "execution_count": 20
        },
        {
          "output_type": "display_data",
          "data": {
            "text/plain": [
              "<Figure size 1200x600 with 1 Axes>"
            ],
            "image/png": "[encoded data removed]"
          },
          "metadata": {}
        }
      ]
    },
    {
      "cell_type": "markdown",
      "source": [
        "As we can that in all year the attacks on the Whites are the most with respect to the year.\n",
        "\n",
        "this is followed by the blacks.\n",
        "\n",
        "the least attacks are the others race."
      ],
      "metadata": {
        "id": "9TyLUnXrTSVv"
      },
      "id": "9TyLUnXrTSVv"
    },
    {
      "cell_type": "code",
      "source": [
        "# Save the data into csv\n",
        "df.to_csv(\"week_3_assignment_output.csv\",index=False)"
      ],
      "metadata": {
        "id": "zfuxnZJ6VbAe"
      },
      "id": "zfuxnZJ6VbAe",
      "execution_count": 21,
      "outputs": []
    },
    {
      "cell_type": "markdown",
      "id": "9f6279cb",
      "metadata": {
        "id": "9f6279cb"
      },
      "source": [
        "## Thank you!"
      ]
    }
  ],
  "metadata": {
    "kernelspec": {
      "display_name": "Python 3 (ipykernel)",
      "language": "python",
      "name": "python3"
    },
    "language_info": {
      "codemirror_mode": {
        "name": "ipython",
        "version": 3
      },
      "file_extension": ".py",
      "mimetype": "text/x-python",
      "name": "python",
      "nbconvert_exporter": "python",
      "pygments_lexer": "ipython3",
      "version": "3.9.7"
    },
    "colab": {
      "provenance": []
    }
  },
  "nbformat": 4,
  "nbformat_minor": 5
}