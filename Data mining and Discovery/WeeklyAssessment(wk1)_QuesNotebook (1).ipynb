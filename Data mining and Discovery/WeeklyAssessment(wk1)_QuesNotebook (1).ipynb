{
 "cells": [
  {
   "cell_type": "markdown",
   "id": "517a46da",
   "metadata": {
    "id": "c99bc0f4"
   },
   "source": [
    "# Week:1 Introduction to Data Mining"
   ]
  },
  {
   "cell_type": "markdown",
   "id": "12f626c2",
   "metadata": {
    "id": "17614dd2"
   },
   "source": [
    "### Objective:\n",
    "The objective of the assignment is to understand how to install libraries, creating variables, calculate statistical metrics, basic python opreations, creating dataframes and basic pandas operations on the dataframe.\n",
    "\n",
    "We have to use Fatal Police Shooting Data to answer the questions given in this notebook."
   ]
  },
  {
   "cell_type": "markdown",
   "id": "d5d4dbdb",
   "metadata": {
    "id": "94579906"
   },
   "source": [
    "### Fatal Police Shooting Data"
   ]
  },
  {
   "cell_type": "markdown",
   "id": "5ebbf336",
   "metadata": {
    "id": "4fbb8326"
   },
   "source": [
    "**About dataset**\\\n",
    "The dataset consists of following columns\n",
    "1. **id**                         : unqiue identifier of each victim\n",
    "2. **name**                       : name of a victim\n",
    "3. **date**                       : date on fatal shooting \n",
    "4. **manner_of_death**            : manner of death classification\n",
    "    * Shot\n",
    "    * Shot and Tasered\n",
    "5. **armed**                      : indicates that the victim was armed with some sort of implement that a police officer believed could inflict harm\n",
    "    * undetermined: it is not known whether or not the victim had a weapon\n",
    "    * unknown: the victim was armed, but it is not known what the object was\n",
    "    * unarmed: the victim was not armed\n",
    "6. **age**                        : age of victim\n",
    "7. **gender**                     : the gender of the victim. The Post identifies victims by the gender they identify with if reports indicate that it differs from their biological sex.\n",
    "    * M: Male\n",
    "    * F: Female\n",
    "    * None: Unknown\n",
    "8. **race**                       : race of victim\n",
    "    * W: White, non-Hispanic\n",
    "    * B: Black, non-Hispanic\n",
    "    * A: Asian\n",
    "    * N: Native American\n",
    "    * H: Hispanic\n",
    "    * O: Other\n",
    "    * None: unknown\n",
    "9. **city**                       : the city where the fatal shooting took place. Note that in some cases this field may contain a county name if a more specific city is unavailable or unknown.\n",
    "10. **state**                     : two-letter postal code abbreviation\n",
    "11. **signs_of_mental_illness**   : News reports have indicated the victim had a history of mental health issues, expressed suicidal intentions or was experiencing mental distress at the time of the shooting.\n",
    "12. **threat_level**              : These would include incidents where officers or others were shot at, threatened with a gun, attacked with other weapons or physical force, etc. The attack category is meant to flag the highest level of threat. The other and undetermined categories represent all remaining cases. Other includes many incidents where officers or others faced significant threats. \n",
    "13. **flee**                      : News reports have indicated the victim was moving away from officers\n",
    "    * Foot\n",
    "    * Car\n",
    "    * Not fleeing\n",
    "14. **body_camera**               : News reports have indicated an officer was wearing a body camera and it may have recorded some portion of the incident."
   ]
  },
  {
   "cell_type": "markdown",
   "id": "cf98638d",
   "metadata": {
    "id": "e14398de"
   },
   "source": [
    "## Let's Begin"
   ]
  },
  {
   "cell_type": "markdown",
   "id": "291544dc",
   "metadata": {
    "id": "8340d0e8"
   },
   "source": [
    "### Question: 1            (2 Marks)                                                                                                                                                  \n",
    "\n",
    "Install the required libraries for the assignment"
   ]
  },
  {
   "cell_type": "code",
   "execution_count": 1,
   "id": "ea85a1aa",
   "metadata": {
    "id": "3d729e18"
   },
   "outputs": [],
   "source": [
    "import numpy as np"
   ]
  },
  {
   "cell_type": "code",
   "execution_count": 2,
   "id": "1180ffc4",
   "metadata": {
    "id": "8c61f48d"
   },
   "outputs": [],
   "source": [
    "# Install a libray which help us to data injecting, data manipulation on the dataframe\n",
    "\n"
   ]
  },
  {
   "cell_type": "code",
   "execution_count": 3,
   "id": "e9f4ba00",
   "metadata": {
    "id": "70d9c188"
   },
   "outputs": [
    {
     "data": {
      "text/plain": [
       "'<<__B__>>'"
      ]
     },
     "execution_count": 3,
     "metadata": {},
     "output_type": "execute_result"
    }
   ],
   "source": [
    "# Import the libary\n",
    "'<<__A__>>'\n",
    "\n",
    "#Check the version\n",
    "'<<__B__>>'\n"
   ]
  },
  {
   "cell_type": "code",
   "execution_count": 4,
   "id": "c090f127",
   "metadata": {
    "id": "f12d41d3"
   },
   "outputs": [
    {
     "data": {
      "text/plain": [
       "'<<__C__>>'"
      ]
     },
     "execution_count": 4,
     "metadata": {},
     "output_type": "execute_result"
    }
   ],
   "source": [
    "# Upgrade the installed library to the latest version\n",
    "'<<__C__>>'"
   ]
  },
  {
   "cell_type": "code",
   "execution_count": 5,
   "id": "018def1a",
   "metadata": {
    "id": "84e10f95"
   },
   "outputs": [
    {
     "data": {
      "text/plain": [
       "'<<__D__>>'"
      ]
     },
     "execution_count": 5,
     "metadata": {},
     "output_type": "execute_result"
    }
   ],
   "source": [
    "# Check the latest version after upgrading library\n",
    "'<<__D__>>'\n",
    "\n",
    " #Todo: Code to fill\n",
    " # 1. '<<__A__>>'--> import requried libraries\n",
    " # 2. '<<__B__>>'--> Check the version \n",
    " # 3. '<<__C__>>'--> Updgrade the installed library to leatest version\n",
    " # 4. '<<__D__>>'--> Check the latest version after upgrading library \n"
   ]
  },
  {
   "cell_type": "markdown",
   "id": "1ddb507b",
   "metadata": {
    "id": "a4efbe66"
   },
   "source": [
    "### Question: 2 (2 marks)\n",
    "\n",
    "- Fill in the missing code. \n",
    "- Store the data in to a variable, then display the top 5 and bottom 5 rows of records and check the dataset's shape."
   ]
  },
  {
   "cell_type": "code",
   "execution_count": 6,
   "id": "829b98cd",
   "metadata": {
    "id": "4368ca97"
   },
   "outputs": [
    {
     "ename": "SyntaxError",
     "evalue": "invalid syntax (264502345.py, line 2)",
     "output_type": "error",
     "traceback": [
      "\u001b[1;36m  Cell \u001b[1;32mIn [6], line 2\u001b[1;36m\u001b[0m\n\u001b[1;33m    df = pd.'<<__A__>>'('<<__B__>>')\u001b[0m\n\u001b[1;37m            ^\u001b[0m\n\u001b[1;31mSyntaxError\u001b[0m\u001b[1;31m:\u001b[0m invalid syntax\n"
     ]
    }
   ],
   "source": [
    "# Load the dataframe and store it into the variable\n",
    "df = pd.'<<__A__>>'('<<__B__>>')\n"
   ]
  },
  {
   "cell_type": "code",
   "execution_count": null,
   "id": "0c4decad",
   "metadata": {
    "id": "20aae492"
   },
   "outputs": [],
   "source": [
    "# Display the Top 5 records\n",
    "df.'<<__C__>>'()\n"
   ]
  },
  {
   "cell_type": "code",
   "execution_count": null,
   "id": "69810713",
   "metadata": {
    "id": "dd028726"
   },
   "outputs": [],
   "source": [
    "# Display the last 5 records\n",
    "df.'<<__D__>>'()\n",
    "\n",
    " #Todo: Code to fill\n",
    " # 1. '<<__A__>>'--> Appropriate pandas function to read the file\n",
    " # 2. '<<__B__>>'--> Appropriate path of the csv file\n",
    " # 3. '<<__C__>>'--> Check for top 5 records using appropriate function\n",
    " # 4. '<<__D__>>'--> Check for bottom 5 records using appropriate function"
   ]
  },
  {
   "cell_type": "code",
   "execution_count": null,
   "id": "48154ad5",
   "metadata": {
    "id": "e42eb4da",
    "outputId": "dd8c3c7a-e643-437a-e257-7f0fc7e59722"
   },
   "outputs": [],
   "source": [
    "# Check the shape of the datset\n",
    "print(\"No of columns: \",df.shape[1])\n",
    "print(\"No of rows: \",df.shape[0])"
   ]
  },
  {
   "cell_type": "markdown",
   "id": "c7f89cd9",
   "metadata": {
    "id": "195e585a"
   },
   "source": [
    "### Question: 3 (2 marks)\n",
    "Caluculate the statistical metrics of a column in a dataset"
   ]
  },
  {
   "cell_type": "code",
   "execution_count": null,
   "id": "de649f4b",
   "metadata": {
    "id": "6d0e4df2",
    "outputId": "27bb88dc-63e5-4fbf-8f03-7e80d54dbe63"
   },
   "outputs": [],
   "source": [
    "# Calculate the standard devaition\n"
   ]
  },
  {
   "cell_type": "code",
   "execution_count": null,
   "id": "07c86fdb",
   "metadata": {
    "id": "ac250691",
    "outputId": "69263ac7-5c07-4247-8ccf-1349ce57f7ab"
   },
   "outputs": [],
   "source": [
    "# Average age of a victim\n"
   ]
  },
  {
   "cell_type": "code",
   "execution_count": null,
   "id": "a080eb80",
   "metadata": {
    "id": "2322ddbf"
   },
   "outputs": [],
   "source": [
    "# Which city records the most Kill Events by police?\n",
    "\n",
    "\n"
   ]
  },
  {
   "cell_type": "markdown",
   "id": "dcb3e6a6",
   "metadata": {
    "id": "be08780a"
   },
   "source": [
    "### Question: 4 (2 marks)\n",
    "Create a new  \" age categories \" column using age column of a dataset"
   ]
  },
  {
   "cell_type": "code",
   "execution_count": null,
   "id": "5451fc22",
   "metadata": {
    "id": "4fd0f394"
   },
   "outputs": [],
   "source": [
    "'''Hint: if age is between 0 to 12, then categorise as child. \n",
    "13-21 as Teenage, 22-34 as Youth, 35-50 as Adult, 51-120 as Senior citizens'''\n",
    "\n",
    "    #-------- build the code down --------#\n",
    "            \n"
   ]
  },
  {
   "cell_type": "code",
   "execution_count": null,
   "id": "9e05ee53",
   "metadata": {
    "id": "6da8d4e0"
   },
   "outputs": [],
   "source": [
    "df['age_categories'] =  age_cat"
   ]
  },
  {
   "cell_type": "code",
   "execution_count": null,
   "id": "e0aab666",
   "metadata": {
    "id": "2af025a0"
   },
   "outputs": [],
   "source": [
    "# Display the first 5 records after creating the column\n",
    " '<<__A__>>'\n",
    "\n",
    "#Todo: Code to fill\n",
    " # 1. Write code to build the conditions for the categories of age\n",
    " # 2. '<<__A__>>'--> method to display first 5 rows\n"
   ]
  },
  {
   "cell_type": "markdown",
   "id": "d8dc3ec7",
   "metadata": {
    "id": "d9347ed8"
   },
   "source": [
    "### Question: 5 (2 marks)\n",
    "Find the state which records the most kill events by police and display the type of attacks done on the male senior citizen of that state."
   ]
  },
  {
   "cell_type": "code",
   "execution_count": null,
   "id": "ce7d3ec3",
   "metadata": {
    "id": "17a3ca7b",
    "outputId": "17bcd365-4aee-40ea-b412-d9c4f16715a3"
   },
   "outputs": [],
   "source": [
    "# Which State records the most Kill Events by police?\n"
   ]
  },
  {
   "cell_type": "code",
   "execution_count": null,
   "id": "788c1b45",
   "metadata": {
    "id": "8493450d"
   },
   "outputs": [],
   "source": [
    "# What kinds of attacks (armed) are most affected by the male senior citizens in the state of 'CA'\n",
    "df[(df['age_categories'] == '<<__A__>>') & (df['gender'] ==\"M\") &  '<<__B__>>']['armed'].'<<__C__>>'\n",
    "\n",
    "#Todo: Code to fill\n",
    "\n",
    "# 1. '<<__A__>>'--> write proper age category \n",
    "# 2. '<<__B__>>'--> write state filter \n",
    "# 3. '<<__C__>>'--> write the appropriate command to show distinct attacks without repetitions\n"
   ]
  },
  {
   "cell_type": "code",
   "execution_count": null,
   "id": "ddc49249",
   "metadata": {
    "id": "ee9fb540"
   },
   "outputs": [],
   "source": [
    "# Save the processed data to use for Week2 assignment \n",
    "df.to_csv(\"week_1_assignment_output.csv\",index=False)\n"
   ]
  },
  {
   "cell_type": "markdown",
   "id": "07d1746a",
   "metadata": {
    "id": "9f6279cb"
   },
   "source": [
    "## Thank you!"
   ]
  }
 ],
 "metadata": {
  "colab": {
   "provenance": []
  },
  "kernelspec": {
   "display_name": "Python 3 (ipykernel)",
   "language": "python",
   "name": "python3"
  },
  "language_info": {
   "codemirror_mode": {
    "name": "ipython",
    "version": 3
   },
   "file_extension": ".py",
   "mimetype": "text/x-python",
   "name": "python",
   "nbconvert_exporter": "python",
   "pygments_lexer": "ipython3",
   "version": "3.9.7"
  }
 },
 "nbformat": 4,
 "nbformat_minor": 5
}
